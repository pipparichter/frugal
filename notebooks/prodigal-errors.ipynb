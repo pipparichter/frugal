{
 "cells": [
  {
   "cell_type": "code",
   "execution_count": 8,
   "metadata": {},
   "outputs": [
    {
     "name": "stdout",
     "output_type": "stream",
     "text": [
      "The autoreload extension is already loaded. To reload it, use:\n",
      "  %reload_ext autoreload\n"
     ]
    }
   ],
   "source": [
    "import pandas as pd\n",
    "import os \n",
    "from src.files import XMLFile, FASTAFile\n",
    "from utils import * \n",
    "from src.genome import ReferenceGenome\n",
    "from src.tools import NCBIDatasets, Prodigal\n",
    "import glob\n",
    "\n",
    "%load_ext autoreload \n",
    "%autoreload 2"
   ]
  },
  {
   "cell_type": "code",
   "execution_count": null,
   "metadata": {},
   "outputs": [],
   "source": [
    "glob.glob('./')"
   ]
  },
  {
   "cell_type": "code",
   "execution_count": 2,
   "metadata": {},
   "outputs": [],
   "source": [
    "genome_metadata_df = load_genome_metadata(refseq_only=True)"
   ]
  },
  {
   "cell_type": "code",
   "execution_count": 6,
   "metadata": {},
   "outputs": [
    {
     "name": "stderr",
     "output_type": "stream",
     "text": [
      "NCBIDatasets.run: Downloading data for GCF_000300075.1.:   0%|          | 0/121 [00:00<?, ?it/s]"
     ]
    },
    {
     "name": "stderr",
     "output_type": "stream",
     "text": [
      "NCBIDatasets.run: Downloading data for GCF_015775515.1.: 100%|██████████| 121/121 [13:15<00:00,  6.58s/it]\n"
     ]
    }
   ],
   "source": [
    "genome_ids = genome_metadata_df.sort_values('checkm_completeness').drop_duplicates('class').index\n",
    "ncbi = NCBIDatasets()\n",
    "ncbi.run(genome_ids)"
   ]
  },
  {
   "cell_type": "code",
   "execution_count": 13,
   "metadata": {},
   "outputs": [
    {
     "data": {
      "text/plain": [
       "['./utils.py']"
      ]
     },
     "execution_count": 13,
     "metadata": {},
     "output_type": "execute_result"
    }
   ],
   "source": [
    "glob.glob('./utils.py')"
   ]
  },
  {
   "cell_type": "code",
   "execution_count": 10,
   "metadata": {},
   "outputs": [],
   "source": [
    "prodigal = Prodigal()\n",
    "for input_path in glob.glob('../data/genomes/*'):\n",
    "    prodigal.run(input_path)"
   ]
  },
  {
   "cell_type": "code",
   "execution_count": 32,
   "metadata": {},
   "outputs": [],
   "source": [
    "os.listdir('../data/refseq')\n",
    "ref = ReferenceGenome('../data/refseq/GCF_000024365.1_genomic.gbff', genome_id='GCF_000024365.1')"
   ]
  },
  {
   "cell_type": "code",
   "execution_count": 33,
   "metadata": {},
   "outputs": [
    {
     "name": "stderr",
     "output_type": "stream",
     "text": [
      "ReferenceGenome.search: 100%|██████████| 5465/5465 [00:55<00:00, 98.54it/s] \n"
     ]
    },
    {
     "name": "stdout",
     "output_type": "stream",
     "text": [
      "ReferenceGenome._merge: 141 entries in the query DataFrame had no valid hits in the reference.\n"
     ]
    }
   ],
   "source": [
    "df = FASTAFile('../data/prodigal/GCF_000024365.1_protein.faa').to_df(prodigal_output=True)\n",
    "\n",
    "results_df = ref.search(df)"
   ]
  },
  {
   "cell_type": "code",
   "execution_count": 36,
   "metadata": {},
   "outputs": [
    {
     "name": "stdout",
     "output_type": "stream",
     "text": [
      "MAKPYPKEFRDDVVAVARKGQATLTQIAKDFGISEGSLANWMKQADIKDGRRPGLTDVDRAELRELKKRNRLLEQENEVLRRAAAYLSQANLPKIVFPLVREMAATGAPIRVPVAVTLRVLGLSRAGYYKWLSDPVCQRDYDDAHLIDKLYDLHGDDATLGYRFLTDELEDEHGIQVGENRVHRLCRIAGITASHHKKRSKTGSTGPAPHDDLLAVVDEHGVVRHEFLADAPNKVWLWDISEHPTREGKLYICAIKDVWSNKIVGYSIDSRMKSSLARAAMRNAIALRSPAGTVCHSDRGGQFRAKRTQRLLANNDLVGSMGRSHGAGDNASMESFFSLLQKNVLNTRRWDTRDDLRLAIVTWIETKYNRRRRQRALGKLTPVEFEMIYKAAEAA\n",
      "nan\n",
      "nan\n",
      "nan\n",
      "nan\n",
      "MPAPRQYDQETRDRAVRMYRERRSSHPAESAIQARRQVGALIDVKSETLRGWIERSEIDAGVRPGTTSDEHTELVRLRREVAELRRANEILRTASAFFGSGGARPPTQVICAYIDAHKHRFGVEPICRVLSEHAMPIAPSSYYAHRRRPVSPALRAEAHLVNTVIDLHREHHGLYGVRKMWHLMTQEGHLVGRDQVARLMTIAGLRGVRRGDHRTTTTRRRAADDRPRPVDLINRDWAAPTRPDQWWVADFTYVWTPAGFCYVSFVVDVYSRRILGWRVASSMTTALVAAALDQALFTRRRTDTRFTSTGLVHHSDAGSQYTSIAYTTALVDAGIAPSIGSVGDALDNALMESTIGLYKTELIDRYRRSWAGPQQVETATAGWVHWFNTRRLHSSIDYRPPVTYEQLYRQQTSAPAGEAA\n",
      "MAKPYPKEFRDDVVAVARKGQATLTQIAKDVGISEGSLANWMKQADIEDGRRPGLTDVDRAELRELKKRNRLLEQENEVLRRAAAYLSQANLPKIVFPLVREMAATGAPIRVPVAVTLRVLGLSRAGYYKWLSDPVCQRDYDDAHLIDKLYDLHGDDATLGYRFLTDELEDEHGIQVGENRVHRLCRIAGITASHHKKRSKTGSTGPAPHDDLLAVVDEHGVVRHEFLADAPNKVWLWDISEHPTREGKLYICAIKDVWSNKIVGYSIDSRMKSSLARAAMRNAIALRSPAGTVCHSDRGGQFRAKRTQRLLANNDLVGSMGRSHGAGDNASMESFFSLLQKNVLNTRRWDTRDDLRLAIVTWIETKYNRRRRQRALGKLTPVEFEMIYKAAEAA\n",
      "nan\n",
      "nan\n",
      "nan\n",
      "nan\n",
      "nan\n",
      "nan\n",
      "nan\n",
      "MAKPYPKEFRDDVVAVARKGQATLTQIAKDFGISEGSLANWMKQADIEDGRRPGLTDVDRAELRELKKRNRLLEQENEVLRRAAAYLSQANLPKIVFPLVREMAATGAPIRVPVAVTLRVLGLSRAGYYKWLSDPVCQRDYDDAHLIDKLYDLHGDDATLGYRFLTDELEDEHGIQVGENRVHRLCRIAGITASHHKKRSKTGSTGPAPHDDLLAVVDEHGVVRHEFLADAPNKVWLWDISEHPTREGKLYICAIKDVWSNKIVGYSIDSRMKSSLARAAMRNAIALRSPAGTVCHSDRGGQFRAKRTQRLLANNDLVGSMGRSHGAGDNASMESFFSLLQKNVLNTRRWDTRDDLRLAIVTWIETKYNRRRRQRALGKLTPVEFEMIYKAAEAA\n",
      "nan\n",
      "nan\n",
      "nan\n",
      "nan\n",
      "nan\n",
      "nan\n",
      "nan\n",
      "MPGDSTRRYPLELKQRAVRMVAEIAGEHESEWAAMSRVAELLGVGTAETVRKWVRQAEVDTGTRVGTSSEESAELRRLRRENAELKRANAILKAASGFLRGRARPAFPLIAEFIRRHAGRREAGGLRWGVEPICKVLSEHLGLRIAPSTYYEHAARPAQTRPAAVRDAALLEQIRRVHTENNHGTYGARKVWLQLNREGVSVARCTVERLMRSAGLVGVRRGKIKRTTVADPGAQRPADLVQRRFGALVPDRLWVADITYVSTWSGWVYVALVTDAYARRILGWRVATTMTTQLVLDALEQAIWTRQRADRTVEHVVAHSDRGSQYTSIRYSERLAEVGIAASVGSVGDSYDNALAETINGLYKAEVIRHRGPWRSIDSVEFATAEWIDWYNHRRLHEYCGDIPPAELEDAFYAHHRAQQTAGLTV\n",
      "nan\n",
      "nan\n",
      "MPGDSTRRYPLELKQRAVRMVAEIAGEHESEWAAMSRVAELLGVGTAETVRKWVRQAEVDTGTRVGTSSEESAELRRLRRENAELKRANAILKAASGFLRGRARPAFPLIAEFIRRHAGRREAGGLRWGVEPICKVLSEHLGLRIAPSTYYEHAARPAQTRPAAVRDAALLEQIRRVHTENNHGTYGARKVWLQLNREGVSVARCTVERLMRSAGLVGVRRGKIKRTTVADPGAQRPADLVQRRFGALVPDRLWVADITYVSTWSGWVYVALVTDAYARRILGWRVATTMTTQLVLDALEQAIWTRQRADRTVEHVVAHSDRGSQYTSIRYSERLAEVGIAASVGSVGDSYDNALAETINGLYKAEVIRHRGPWRSIDSVEFATAEWIDWYNHRRLHEYCGDIPPAELEDAFYAHHRAQQTAGLTV\n",
      "nan\n",
      "nan\n",
      "nan\n",
      "nan\n",
      "MATRKRHTPEQVVRKLAQADRMLGEGKEVADVCRELQVSEQTYYRWRNQFGGLKADDAKRLKDLEKENSTLKRLLADAELEKAALKEIAPGKLLSPARRRAAVHHLITVLGVSERFACRVTGQHRATQRHQPPAQTPADPDATLRNWLRAYAAKHPRWGHRRAYHDARADGWAVNHKKVQRLWREEGLRVPQHRRRKRVGTSTTQERPTADAPNIVWAVDFQFDATTDGRPVKIVSLVDEHTRETFGGLVDRSITADRLIDELDRVAAVRGYPAVLRCDNGPELACAAMADWAGQRVGLSFIPPGEPWRNGYIESFNGRLRDECLNINQFWSLTHARVVIDDWKLEYNQHRRHSALGYQTPAGYAASCTHQSTN\n",
      "nan\n",
      "nan\n",
      "nan\n",
      "MGRLSVLNWPVVRQFRSGDVFGRGPAVTSARTRELTPRTSTADRVARSVCPYCAVGCGQKVFVKDEKVVQIEGDPDSPISRGRLCPKGSASEQLVNSPARQTRILYRPPHATDWQPLELDTAIDMIADRFLAARRAHWQDADDEGRPLRRTMGIAALGGATLDNEENYLIKKLFTAAGAIQVENQARIUHSATVPSLGASFGRGGATQSLQDMANADCIVIQGSNMAECHPVGFQWVSEAKARGARIIHVDPRFTRTSAIAHKHIPIRAGSDVVLLGALIKHVLDNDLWFHEYVVHYTNAATIVNEDFRDAEDLGGLFSGFDPATGKYDLSSWAYETADDAHEDAAEHGASASDRAAGDEHGSGGPTLPHAKVLRDDTLQHPRCVFQILRRHYARYTPAMVQEACGINPADFRYLADSITQNSGRDRTTCFAYAVGWTQHTLGAQFIRTSAILQLLLGNMGRPGGGIMALRGHASIQGSTDIPTLFNLLPGYLPMPTVGRHDTYQEYLDAISSKQQKGFWAAADTYVVSLLKAWWGNAATAENDWAYDYLPRLSGPHGTYQTVHDMLEDKVDGYFILGQNPAVGSANGRMQRLGMAHLKWLVVRDLNLIESATWWKDGPEIASGELTTEGIGTEVFFLPAATHVEKAGSFTQTQRLVQWREKAVDPPGQAQAELEFFYELGQRIRAKLAGSTDPRDRPLLDLTWDYPLDEHGEIDPESVLREINGYRLTGPDAGVPISSYLQLRADGSTVGGCWIYAGVYADGVNHAADRVPHGGPSPSQNEWGWAWPANRRILYNRASADPAGRPWSERKKLVWWDEQQQRWVGNDVPDFVVDRAPGSRPDPELGGAAALAGDDPFVMQADGKGWLFAPKGMLDGPLPTHYEPQESPVRNALYPQQQSPSRILMPGKDNLWAPSAGQPGAGVYPYVFTTYRLTEHHTAGGMSRWLPFLAELQPEMFCEVSPELAAGKGLENFGWATIISPRSAIEAKVLVTDRMTPLTIGGHTIHQIGLPYHWGVGGDAVVSGDAANDLLGITLDPNVQIQESKAGSCDIRPGRRPQGEDLLRLVAEYQSRSGATVETDNERVTDPDREGEGRR\n"
     ]
    }
   ],
   "source": [
    "weird_df = results_df[(results_df.ref_feature == 'CDS') & (results_df.ref_stop != results_df.stop) & (results_df.strand == 1)][['ref_seq', 'ref_start', 'start', 'ref_stop', 'stop', 'ref_product', 'ref_pseudo', 'stop_codon', 'ref_stop_codon']]\n",
    "\n",
    "for seq in weird_df.ref_seq:\n",
    "    print(seq)\n"
   ]
  },
  {
   "cell_type": "code",
   "execution_count": null,
   "metadata": {},
   "outputs": [],
   "source": []
  }
 ],
 "metadata": {
  "kernelspec": {
   "display_name": "tripy",
   "language": "python",
   "name": "python3"
  },
  "language_info": {
   "codemirror_mode": {
    "name": "ipython",
    "version": 3
   },
   "file_extension": ".py",
   "mimetype": "text/x-python",
   "name": "python",
   "nbconvert_exporter": "python",
   "pygments_lexer": "ipython3",
   "version": "3.13.1"
  }
 },
 "nbformat": 4,
 "nbformat_minor": 2
}
