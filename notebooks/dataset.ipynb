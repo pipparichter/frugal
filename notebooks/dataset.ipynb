{
 "cells": [
  {
   "cell_type": "code",
   "execution_count": 1,
   "metadata": {},
   "outputs": [],
   "source": [
    "import pandas as pd \n",
    "import numpy as np \n",
    "from Bio import SeqIO\n",
    "import src.tools.download\n",
    "from src.tools import MMSeqs\n",
    "from src.dataset import Dataset\n",
    "from src.files import FASTAFile, GBFFFile\n",
    "from src.clusterer import Clusterer\n",
    "from tqdm import tqdm\n",
    "import os\n",
    "import json \n",
    "import seaborn as sns\n",
    "from src import fillna \n",
    "import matplotlib.pyplot as plt \n",
    "from src.split import ClusterStratifiedShuffleSplit\n",
    "\n",
    "%load_ext autoreload\n",
    "%autoreload 2\n",
    "\n",
    "# Because genomes are constantly being re-annotated, the GBFF files I downloaded a month or so ago are now not aligned with the \n",
    "# protein files I used to generate the most recent round of embeddings (05/23/2025). GBFF files were re-downloaded for \n",
    "# the Campylobacterota phylum on 05/25/2025. \n",
    "\n",
    "# ncbi = src.tools.download.NCBI()\n",
    "# ncbi.get_genomes(genome_ids=genome_ids, include=['gbff'], dirs={'gbff':'../data/ncbi/gbffs/'})\n",
    "# ncbi.cleanup()"
   ]
  },
  {
   "cell_type": "code",
   "execution_count": 4,
   "metadata": {},
   "outputs": [],
   "source": [
    "# Changing my training dataset strategy. Instead going to use the sequences directly from NCBI. \n",
    "genome_metadata_df = pd.read_csv('../data/genome_metadata.csv', index_col=0)\n",
    "genome_ids = genome_metadata_df[genome_metadata_df.phylum == 'Campylobacterota'].index.values \n"
   ]
  },
  {
   "cell_type": "code",
   "execution_count": null,
   "metadata": {},
   "outputs": [
    {
     "name": "stderr",
     "output_type": "stream",
     "text": [
      "Building Campylobacterota dataset.: 100%|██████████| 197/197 [06:16<00:00,  1.91s/it]\n"
     ]
    },
    {
     "name": "stdout",
     "output_type": "stream",
     "text": [
      "Removing 44475 suspect sequences from the Campylobacterota dataset.\n",
      "Removing 341 sequences exceeding the maximum length from the Campylobacterota dataset.\n"
     ]
    }
   ],
   "source": [
    "# Want to build the dataset for Campylobacterota, but filter out the \"suspect\" sequences, i.e. those which are both hypothetical\n",
    "# and have only ab initio evidence (i.e. no evidence of conservation). \n",
    "\n",
    "is_hypothetical = lambda df : df['product'] == 'hypothetical protein'\n",
    "is_ab_initio = lambda df : df.evidence_type == 'ab initio prediction'\n",
    "is_suspect = lambda df : is_hypothetical(df) & is_ab_initio(df) # This will be False for intergenic sequences. \n",
    "\n",
    "campylobacterota_df = list()\n",
    "for genome_id in tqdm(genome_ids, desc='Building Campylobacterota dataset.'):\n",
    "    protein_path = f'../data/ncbi/proteins/{genome_id}_protein.faa'\n",
    "    gbff_path = f'../data/ncbi/gbffs/{genome_id}_genomic.gbff'\n",
    "\n",
    "    gbff_df = GBFFFile(gbff_path).to_df()\n",
    "    gbff_df = gbff_df[(gbff_df.feature == 'CDS') & (~gbff_df.pseudo)].copy()\n",
    "    copy_numbers = gbff_df.protein_id.value_counts() # There are multiple copies of the same protein at different coordinates in the GBFF files with different coordinates. \n",
    "    gbff_df['copy_number'] = gbff_df.protein_id.map(copy_numbers)\n",
    "    gbff_df = gbff_df.drop_duplicates('protein_id').copy()\n",
    "    gbff_df = gbff_df.drop(columns=['seq']) # Use the sequences from the protein DataFrame, just to make sure everything is equal. \n",
    "    gbff_df = gbff_df.set_index('protein_id')\n",
    "    gbff_df.index.name = 'id'\n",
    "\n",
    "    protein_df = FASTAFile(path=protein_path).to_df(prodigal_output=False)\n",
    "    protein_df = protein_df.drop(columns=['description'])\n",
    "\n",
    "    assert len(protein_df) == len(gbff_df), 'Expected the number of non-pseudo CDS entries in the GBFF file to match the entries in the FASTA file.'\n",
    "    assert np.all(np.sort(protein_df.index) == np.sort(gbff_df.index)), 'Expected the number of non-pseudo CDS entries in the GBFF file to match the entries in the FASTA file.'\n",
    "    assert protein_df.index.is_unique and gbff_df.index.is_unique, 'Expected the indices of both DataFrames to be unique.'\n",
    "\n",
    "    campylobacterota_df.append(protein_df.merge(gbff_df, left_index=True, right_index=True).assign(genome_id=genome_id))\n",
    "\n",
    "campylobacterota_df = pd.concat(campylobacterota_df)\n",
    "\n",
    "mask = is_suspect(campylobacterota_df)\n",
    "print(f'Removing {mask.sum()} suspect sequences from the Campylobacterota dataset.')\n",
    "campylobacterota_df = campylobacterota_df[~mask].copy()\n",
    "\n",
    "campylobacterota_df.to_csv('../data/campylobacterota.csv')"
   ]
  },
  {
   "cell_type": "code",
   "execution_count": 78,
   "metadata": {},
   "outputs": [
    {
     "name": "stdout",
     "output_type": "stream",
     "text": [
      "Removing 9789 non-bacterial sequences from the AntiFam dataset.\n"
     ]
    }
   ],
   "source": [
    "antifam_df = pd.read_csv('../data/antifam.csv', index_col=0)\n",
    "campylobacterota_df = pd.read_csv('../data/campylobacterota.csv', index_col=0)\n",
    "\n",
    "is_bacterial = lambda df : np.array(['2' in lineage.split(' ') for lineage in df.lineage])\n",
    "\n",
    "mask = ~is_bacterial(antifam_df)\n",
    "print(f'Removing {mask.sum()} non-bacterial sequences from the AntiFam dataset.')\n",
    "antifam_df = antifam_df[~mask].copy()\n"
   ]
  },
  {
   "cell_type": "code",
   "execution_count": 205,
   "metadata": {},
   "outputs": [
    {
     "name": "stdout",
     "output_type": "stream",
     "text": [
      "Removing 16 sequences exceeding the maximum length from the Campylobacterota dataset.\n",
      "Removing 9522 duplicate sequences from the Campylobacterota dataset\n"
     ]
    }
   ],
   "source": [
    "campylobacterota_df['library_entry_name'] = campylobacterota_df.genome_id \n",
    "campylobacterota_df['label'] = 1\n",
    "\n",
    "antifam_df['library_entry_name'] = 'antifam'\n",
    "antifam_df['label'] = 0\n",
    "\n",
    "dataset_df = pd.concat([antifam_df, campylobacterota_df])\n",
    "dataset_df = fillna(dataset_df, rules={str:'none', bool:False, int:0, float:0})\n",
    "\n",
    "mask = (dataset_df.seq.apply(len) >= 2000) # Upper length bound is non-inclusive. \n",
    "print(f'Removing {mask.sum()} sequences exceeding the maximum length from the Campylobacterota dataset.')\n",
    "dataset_df = dataset_df[~mask].copy()\n",
    "\n",
    "def check_duplicate_ids_have_identical_sequences(dataset_df):\n",
    "    duplicate_ids = dataset_df.index[dataset_df.index.duplicated()].unique()\n",
    "    for id_ in tqdm(duplicate_ids, desc='check_duplicate_ids_have_identical_sequences'):\n",
    "        seqs = dataset_df.seq[dataset_df.index == id_]\n",
    "        assert np.all(seqs == seqs.iloc[0]), f'check_duplicate_ids_have_identical_sequences: Sequences with ID {id_} are not equal.'\n",
    "\n",
    "# check_duplicate_ids_have_identical_sequences(dataset_df)\n",
    "\n",
    "mask = dataset_df.seq.duplicated(keep='first')\n",
    "print(f'Removing {mask.sum()} duplicate sequences from the Campylobacterota dataset')\n",
    "dataset_df = dataset_df[~mask].copy()\n",
    "\n",
    "dataset_df.to_csv('../data/dataset.csv')\n"
   ]
  },
  {
   "cell_type": "code",
   "execution_count": 207,
   "metadata": {},
   "outputs": [],
   "source": [
    "dataset_subset_df = dataset_df.sample(5000, random_state=42)\n",
    "dataset_subset_df.to_csv('../data/dataset_subset.csv')"
   ]
  },
  {
   "cell_type": "code",
   "execution_count": null,
   "metadata": {},
   "outputs": [],
   "source": [
    "# What is a good estimate for the number of clusters? Maybe use 50 percent sequence similarity?\n",
    "mmseqs = MMSeqs()\n",
    "mmseqs_cluster_df = mmseqs.cluster(dataset_df, job_name='cluster', output_dir='../data', sequence_identity=0.5, overwrite=False)\n",
    "mmseqs.cleanup()\n",
    "print('Number of clusters:', dataset_df.cluster_label.nunique())"
   ]
  },
  {
   "cell_type": "code",
   "execution_count": 236,
   "metadata": {},
   "outputs": [],
   "source": [
    "def get_cluster_info(dataset_df:pd.DataFrame) -> pd.DataFrame:\n",
    "\n",
    "    df = list()\n",
    "    for cluster_label, cluster_df in dataset_df.groupby('cluster_label'):\n",
    "        cluster_dists = cluster_df.distance_to_cluster_center\n",
    "        row = dict()\n",
    "        row['cluster_label'] = cluster_label\n",
    "        row['max_distance_to_cluster_center'] = cluster_dists.max()\n",
    "        row['mean_distance_to_cluster_center'] = cluster_dists.mean()\n",
    "        row['min_distance_to_cluster_center'] = cluster_dists.min()\n",
    "        row['size'] = len(cluster_df)\n",
    "        row['homogenous'] = (cluster_df.label.nunique() == 1)\n",
    "\n",
    "        n_real, n_spurious = (cluster_df.label == 1).sum(), (cluster_df.label == 0).sum()\n",
    "        row['n_spurious'] = n_spurious\n",
    "        row['n_real'] = n_real\n",
    "        # row['majority_label'] = np.nan if (n_real == n_spurious) else int(n_real > n_spurious)\n",
    "        row['majority_label'] = int(n_real >= n_spurious)\n",
    "\n",
    "        if not row['homogenous']:\n",
    "            majority_label = row['majority_label']\n",
    "            minority_label = int(not majority_label)\n",
    "            row['mean_distance_to_cluster_center_majority_label'] = cluster_df.distance_to_cluster_center[cluster_df.label == majority_label].mean()\n",
    "            row['mean_distance_to_cluster_center_minority_label'] = cluster_df.distance_to_cluster_center[cluster_df.label == minority_label].mean()        \n",
    "        df.append(row)\n",
    "    df = pd.DataFrame(df).set_index('cluster_label')\n",
    "    return df"
   ]
  },
  {
   "cell_type": "code",
   "execution_count": 237,
   "metadata": {},
   "outputs": [],
   "source": [
    "cluster_info_df = get_cluster_info(dataset_df)"
   ]
  },
  {
   "cell_type": "code",
   "execution_count": 238,
   "metadata": {},
   "outputs": [
    {
     "data": {
      "text/html": [
       "<div>\n",
       "<style scoped>\n",
       "    .dataframe tbody tr th:only-of-type {\n",
       "        vertical-align: middle;\n",
       "    }\n",
       "\n",
       "    .dataframe tbody tr th {\n",
       "        vertical-align: top;\n",
       "    }\n",
       "\n",
       "    .dataframe thead th {\n",
       "        text-align: right;\n",
       "    }\n",
       "</style>\n",
       "<table border=\"1\" class=\"dataframe\">\n",
       "  <thead>\n",
       "    <tr style=\"text-align: right;\">\n",
       "      <th></th>\n",
       "      <th>max_distance_to_cluster_center</th>\n",
       "      <th>mean_distance_to_cluster_center</th>\n",
       "      <th>min_distance_to_cluster_center</th>\n",
       "      <th>size</th>\n",
       "      <th>homogenous</th>\n",
       "      <th>n_spurious</th>\n",
       "      <th>n_real</th>\n",
       "      <th>majority_label</th>\n",
       "      <th>mean_distance_to_cluster_center_majority_label</th>\n",
       "      <th>mean_distance_to_cluster_center_minority_label</th>\n",
       "    </tr>\n",
       "    <tr>\n",
       "      <th>cluster_label</th>\n",
       "      <th></th>\n",
       "      <th></th>\n",
       "      <th></th>\n",
       "      <th></th>\n",
       "      <th></th>\n",
       "      <th></th>\n",
       "      <th></th>\n",
       "      <th></th>\n",
       "      <th></th>\n",
       "      <th></th>\n",
       "    </tr>\n",
       "  </thead>\n",
       "  <tbody>\n",
       "    <tr>\n",
       "      <th>702</th>\n",
       "      <td>23.494099</td>\n",
       "      <td>20.647438</td>\n",
       "      <td>15.791010</td>\n",
       "      <td>12</td>\n",
       "      <td>False</td>\n",
       "      <td>11</td>\n",
       "      <td>1</td>\n",
       "      <td>0</td>\n",
       "      <td>20.560061</td>\n",
       "      <td>21.608585</td>\n",
       "    </tr>\n",
       "    <tr>\n",
       "      <th>743</th>\n",
       "      <td>23.012283</td>\n",
       "      <td>19.305932</td>\n",
       "      <td>14.816315</td>\n",
       "      <td>10</td>\n",
       "      <td>False</td>\n",
       "      <td>9</td>\n",
       "      <td>1</td>\n",
       "      <td>0</td>\n",
       "      <td>18.894115</td>\n",
       "      <td>23.012283</td>\n",
       "    </tr>\n",
       "    <tr>\n",
       "      <th>776</th>\n",
       "      <td>39.200905</td>\n",
       "      <td>27.412785</td>\n",
       "      <td>19.229019</td>\n",
       "      <td>11</td>\n",
       "      <td>False</td>\n",
       "      <td>10</td>\n",
       "      <td>1</td>\n",
       "      <td>0</td>\n",
       "      <td>27.433086</td>\n",
       "      <td>27.209781</td>\n",
       "    </tr>\n",
       "    <tr>\n",
       "      <th>843</th>\n",
       "      <td>27.783935</td>\n",
       "      <td>23.158421</td>\n",
       "      <td>20.149343</td>\n",
       "      <td>11</td>\n",
       "      <td>False</td>\n",
       "      <td>10</td>\n",
       "      <td>1</td>\n",
       "      <td>0</td>\n",
       "      <td>23.196542</td>\n",
       "      <td>22.777213</td>\n",
       "    </tr>\n",
       "    <tr>\n",
       "      <th>854</th>\n",
       "      <td>20.132148</td>\n",
       "      <td>19.012101</td>\n",
       "      <td>18.062193</td>\n",
       "      <td>3</td>\n",
       "      <td>False</td>\n",
       "      <td>2</td>\n",
       "      <td>1</td>\n",
       "      <td>0</td>\n",
       "      <td>19.097170</td>\n",
       "      <td>18.841962</td>\n",
       "    </tr>\n",
       "    <tr>\n",
       "      <th>...</th>\n",
       "      <td>...</td>\n",
       "      <td>...</td>\n",
       "      <td>...</td>\n",
       "      <td>...</td>\n",
       "      <td>...</td>\n",
       "      <td>...</td>\n",
       "      <td>...</td>\n",
       "      <td>...</td>\n",
       "      <td>...</td>\n",
       "      <td>...</td>\n",
       "    </tr>\n",
       "    <tr>\n",
       "      <th>44226</th>\n",
       "      <td>28.462273</td>\n",
       "      <td>24.792770</td>\n",
       "      <td>19.807258</td>\n",
       "      <td>3</td>\n",
       "      <td>False</td>\n",
       "      <td>1</td>\n",
       "      <td>2</td>\n",
       "      <td>1</td>\n",
       "      <td>24.134766</td>\n",
       "      <td>26.108779</td>\n",
       "    </tr>\n",
       "    <tr>\n",
       "      <th>44502</th>\n",
       "      <td>21.192584</td>\n",
       "      <td>16.981270</td>\n",
       "      <td>11.009998</td>\n",
       "      <td>9</td>\n",
       "      <td>False</td>\n",
       "      <td>1</td>\n",
       "      <td>8</td>\n",
       "      <td>1</td>\n",
       "      <td>16.454856</td>\n",
       "      <td>21.192584</td>\n",
       "    </tr>\n",
       "    <tr>\n",
       "      <th>44519</th>\n",
       "      <td>29.466210</td>\n",
       "      <td>12.545223</td>\n",
       "      <td>7.903213</td>\n",
       "      <td>5</td>\n",
       "      <td>False</td>\n",
       "      <td>4</td>\n",
       "      <td>1</td>\n",
       "      <td>0</td>\n",
       "      <td>8.314976</td>\n",
       "      <td>29.466210</td>\n",
       "    </tr>\n",
       "    <tr>\n",
       "      <th>44549</th>\n",
       "      <td>25.181331</td>\n",
       "      <td>20.611429</td>\n",
       "      <td>16.935907</td>\n",
       "      <td>5</td>\n",
       "      <td>False</td>\n",
       "      <td>2</td>\n",
       "      <td>3</td>\n",
       "      <td>1</td>\n",
       "      <td>17.713870</td>\n",
       "      <td>24.957768</td>\n",
       "    </tr>\n",
       "    <tr>\n",
       "      <th>48863</th>\n",
       "      <td>33.549953</td>\n",
       "      <td>23.992241</td>\n",
       "      <td>17.381379</td>\n",
       "      <td>11</td>\n",
       "      <td>False</td>\n",
       "      <td>1</td>\n",
       "      <td>10</td>\n",
       "      <td>1</td>\n",
       "      <td>23.483974</td>\n",
       "      <td>29.074912</td>\n",
       "    </tr>\n",
       "  </tbody>\n",
       "</table>\n",
       "<p>538 rows × 10 columns</p>\n",
       "</div>"
      ],
      "text/plain": [
       "               max_distance_to_cluster_center  \\\n",
       "cluster_label                                   \n",
       "702                                 23.494099   \n",
       "743                                 23.012283   \n",
       "776                                 39.200905   \n",
       "843                                 27.783935   \n",
       "854                                 20.132148   \n",
       "...                                       ...   \n",
       "44226                               28.462273   \n",
       "44502                               21.192584   \n",
       "44519                               29.466210   \n",
       "44549                               25.181331   \n",
       "48863                               33.549953   \n",
       "\n",
       "               mean_distance_to_cluster_center  \\\n",
       "cluster_label                                    \n",
       "702                                  20.647438   \n",
       "743                                  19.305932   \n",
       "776                                  27.412785   \n",
       "843                                  23.158421   \n",
       "854                                  19.012101   \n",
       "...                                        ...   \n",
       "44226                                24.792770   \n",
       "44502                                16.981270   \n",
       "44519                                12.545223   \n",
       "44549                                20.611429   \n",
       "48863                                23.992241   \n",
       "\n",
       "               min_distance_to_cluster_center  size  homogenous  n_spurious  \\\n",
       "cluster_label                                                                 \n",
       "702                                 15.791010    12       False          11   \n",
       "743                                 14.816315    10       False           9   \n",
       "776                                 19.229019    11       False          10   \n",
       "843                                 20.149343    11       False          10   \n",
       "854                                 18.062193     3       False           2   \n",
       "...                                       ...   ...         ...         ...   \n",
       "44226                               19.807258     3       False           1   \n",
       "44502                               11.009998     9       False           1   \n",
       "44519                                7.903213     5       False           4   \n",
       "44549                               16.935907     5       False           2   \n",
       "48863                               17.381379    11       False           1   \n",
       "\n",
       "               n_real  majority_label  \\\n",
       "cluster_label                           \n",
       "702                 1               0   \n",
       "743                 1               0   \n",
       "776                 1               0   \n",
       "843                 1               0   \n",
       "854                 1               0   \n",
       "...               ...             ...   \n",
       "44226               2               1   \n",
       "44502               8               1   \n",
       "44519               1               0   \n",
       "44549               3               1   \n",
       "48863              10               1   \n",
       "\n",
       "               mean_distance_to_cluster_center_majority_label  \\\n",
       "cluster_label                                                   \n",
       "702                                                 20.560061   \n",
       "743                                                 18.894115   \n",
       "776                                                 27.433086   \n",
       "843                                                 23.196542   \n",
       "854                                                 19.097170   \n",
       "...                                                       ...   \n",
       "44226                                               24.134766   \n",
       "44502                                               16.454856   \n",
       "44519                                                8.314976   \n",
       "44549                                               17.713870   \n",
       "48863                                               23.483974   \n",
       "\n",
       "               mean_distance_to_cluster_center_minority_label  \n",
       "cluster_label                                                  \n",
       "702                                                 21.608585  \n",
       "743                                                 23.012283  \n",
       "776                                                 27.209781  \n",
       "843                                                 22.777213  \n",
       "854                                                 18.841962  \n",
       "...                                                       ...  \n",
       "44226                                               26.108779  \n",
       "44502                                               21.192584  \n",
       "44519                                               29.466210  \n",
       "44549                                               24.957768  \n",
       "48863                                               29.074912  \n",
       "\n",
       "[538 rows x 10 columns]"
      ]
     },
     "execution_count": 238,
     "metadata": {},
     "output_type": "execute_result"
    }
   ],
   "source": [
    "non_homogenous_cluster_labels = cluster_info_df[~cluster_info_df.homogenous].index \n",
    "\n",
    "cluster_info_df[~cluster_info_df.homogenous]"
   ]
  },
  {
   "cell_type": "code",
   "execution_count": null,
   "metadata": {},
   "outputs": [
    {
     "data": {
      "image/png": "[encoded data removed]",
      "text/plain": [
       "<Figure size 640x480 with 2 Axes>"
      ]
     },
     "metadata": {},
     "output_type": "display_data"
    }
   ],
   "source": [
    "# For the clusters that aren't homogenous, are there differences in how far apart the different labels are from the cluster center?\n",
    "# Dictates how I should handle non-homogenous clusters. If there are clear outliers within clusters, seems straightforward to just filter them out. \n",
    "\n",
    "fig, (ax_a, ax_b) = plt.subplots(nrows=2)\n",
    "\n",
    "ax_df = cluster_info_df[['homogenous', 'mean_distance_to_cluster_center', 'size']].copy()\n",
    "\n",
    "sns.kdeplot(ax=ax_a, data=ax_df, x='mean_distance_to_cluster_center', hue='homogenous', common_norm=False)\n",
    "\n",
    "sns.histplot(ax=ax_b, data=ax_df, x='size')\n",
    "\n",
    "fig.tight_layout()\n",
    "\n",
    "plt.show()"
   ]
  },
  {
   "cell_type": "code",
   "execution_count": 25,
   "metadata": {},
   "outputs": [
    {
     "name": "stdout",
     "output_type": "stream",
     "text": [
      "ClusterStratifiedShuffleSplit._split_non_homogenous_clusters: Found 538 non-homogenous clusters.\n",
      "ClusterStratifiedShuffleSplit._load_clusters: Found 2001 singleton clusters with \"real\" labels.\n",
      "ClusterStratifiedShuffleSplit._load_clusters: Found 422 singleton clusters with \"spurious\" labels.\n",
      "ClusterStratifiedShuffleSplit.__init__: Adjusted training and test sizes are 0.801, 0.199.\n"
     ]
    }
   ],
   "source": [
    "def train_test_split(dataset_path:str='../data/dataset_dereplicated.csv', cluster_path:str='../data/dataset_dereplicated_cluster.csv'):\n",
    "    dataset = Dataset.from_csv(dataset_path, feature_type=None)\n",
    "    splits = ClusterStratifiedShuffleSplit(dataset, cluster_path=cluster_path, n_splits=1)\n",
    "    train_dataset, test_dataset = list(splits)[0]\n",
    "    train_dataset.to_csv('../data/train_dataset.csv', metadata=True)\n",
    "    test_dataset.to_csv('../data/test_dataset.csv', metadata=True)\n",
    "\n",
    "train_test_split()"
   ]
  },
  {
   "cell_type": "code",
   "execution_count": 26,
   "metadata": {},
   "outputs": [],
   "source": [
    "train_dataset_df = pd.read_csv('../data/train_dataset.csv', index_col=0)\n",
    "test_dataset_df = pd.read_csv('../data/test_dataset.csv', index_col=0)"
   ]
  },
  {
   "cell_type": "code",
   "execution_count": 30,
   "metadata": {},
   "outputs": [
    {
     "data": {
      "text/plain": [
       "50538"
      ]
     },
     "execution_count": 30,
     "metadata": {},
     "output_type": "execute_result"
    }
   ],
   "source": [
    "train_dataset_df.cluster_label.nunique()"
   ]
  },
  {
   "cell_type": "code",
   "execution_count": 33,
   "metadata": {},
   "outputs": [
    {
     "data": {
      "text/plain": [
       "Index(['antifam_name', 'antifam_id', 'product', 'ncbi_taxonomy_id', 'organism',\n",
       "       'seq', 'lineage', 'library_entry_name', 'label', 'feature', 'contig_id',\n",
       "       'note', 'pseudo', 'locus_tag', 'inference', 'experiment',\n",
       "       'ribosomal_slippage', 'strand', 'start', 'stop', 'partial',\n",
       "       'continuous', 'translation_table', 'codon_start', 'evidence_type',\n",
       "       'evidence_category', 'evidence_details', 'evidence_source', 'used_pgap',\n",
       "       'copy_number', 'genome_id', 'cluster_label'],\n",
       "      dtype='object')"
      ]
     },
     "execution_count": 33,
     "metadata": {},
     "output_type": "execute_result"
    }
   ],
   "source": [
    "test_dataset_df.columns"
   ]
  },
  {
   "cell_type": "code",
   "execution_count": null,
   "metadata": {},
   "outputs": [],
   "source": []
  }
 ],
 "metadata": {
  "kernelspec": {
   "display_name": "frugal",
   "language": "python",
   "name": "python3"
  },
  "language_info": {
   "codemirror_mode": {
    "name": "ipython",
    "version": 3
   },
   "file_extension": ".py",
   "mimetype": "text/x-python",
   "name": "python",
   "nbconvert_exporter": "python",
   "pygments_lexer": "ipython3",
   "version": "3.13.2"
  }
 },
 "nbformat": 4,
 "nbformat_minor": 2
}
