{
 "cells": [
  {
   "cell_type": "code",
   "execution_count": 2,
   "metadata": {},
   "outputs": [],
   "source": [
    "import pandas as pd \n",
    "import numpy as np \n",
    "import matplotlib.pyplot as plt \n",
    "import os\n",
    "from src.tools import Prodigal \n",
    "from src.files import FASTAFile\n",
    "from src.reference import Reference, compare\n",
    "\n",
    "%load_ext autoreload \n",
    "%autoreload 2\n"
   ]
  },
  {
   "cell_type": "code",
   "execution_count": 3,
   "metadata": {},
   "outputs": [],
   "source": [
    "# How should I select the genomes for model training?\n",
    "genome_ids = ['GCF_000005845.2'] # E. coli K-12\n",
    "genome_ids += ['GCF_000009045.1'] # B. subtilis\n",
    "genome_ids += ['GCF_000006765.1'] # P. aeruginosa\n",
    "genome_ids += ['GCF_000195955.2'] # M. tuberculosis\n",
    "\n",
    "names = dict()\n",
    "names['GCF_000005845.2'] = 'E. coli K-12'\n",
    "names['GCF_000009045.1'] = 'B. subtilis 168'\n",
    "names['GCF_000006765.1'] = 'P. aeruginosa'\n",
    "names['GCF_000195955.2'] = 'M. tuberculosis'"
   ]
  },
  {
   "cell_type": "code",
   "execution_count": 9,
   "metadata": {},
   "outputs": [
    {
     "name": "stderr",
     "output_type": "stream",
     "text": [
      "ReferenceAnnotator._check: 100%|██████████| 234/234 [00:00<00:00, 824.90it/s]\n",
      "ReferenceAnnotator._check: 100%|██████████| 10/10 [00:00<00:00, 1050.41it/s]\n"
     ]
    },
    {
     "name": "stdout",
     "output_type": "stream",
     "text": [
      "ReferenceAnnotator._check: Downgraded 0 \"match\" sequences to \"intergenic\" or \"conflict\".\n",
      "ReferenceAnnotator._check: Upgraded 0 \"intergenic\" or \"conflict\" sequences to \"match.\n",
      "compare: Reference comparison complete. Results written to ../data/compare\n"
     ]
    },
    {
     "name": "stderr",
     "output_type": "stream",
     "text": [
      "/home/prichter/Documents/frugal/src/__init__.py:30: UserWarning: get_dtypes: Column \"category\" only contains NaNs. Inferring datatype as strings.\n",
      "  warnings.warn(f'get_dtypes: Column \"{col}\" only contains NaNs. Inferring datatype as strings.')\n",
      "ReferenceAnnotator._check: 100%|██████████| 388/388 [00:00<00:00, 543.16it/s]\n",
      "ReferenceAnnotator._check: 100%|██████████| 11/11 [00:00<00:00, 2709.02it/s]\n"
     ]
    },
    {
     "name": "stdout",
     "output_type": "stream",
     "text": [
      "ReferenceAnnotator._check: Downgraded 0 \"match\" sequences to \"intergenic\" or \"conflict\".\n",
      "ReferenceAnnotator._check: Upgraded 1 \"intergenic\" or \"conflict\" sequences to \"match.\n",
      "compare: Reference comparison complete. Results written to ../data/compare\n"
     ]
    },
    {
     "name": "stderr",
     "output_type": "stream",
     "text": [
      "/home/prichter/Documents/frugal/src/__init__.py:30: UserWarning: get_dtypes: Column \"source\" only contains NaNs. Inferring datatype as strings.\n",
      "  warnings.warn(f'get_dtypes: Column \"{col}\" only contains NaNs. Inferring datatype as strings.')\n",
      "ReferenceAnnotator._check: 100%|██████████| 455/455 [00:00<00:00, 902.35it/s]\n",
      "ReferenceAnnotator._check: 100%|██████████| 33/33 [00:00<00:00, 1329.87it/s]\n"
     ]
    },
    {
     "name": "stdout",
     "output_type": "stream",
     "text": [
      "ReferenceAnnotator._check: Downgraded 0 \"match\" sequences to \"intergenic\" or \"conflict\".\n",
      "ReferenceAnnotator._check: Upgraded 6 \"intergenic\" or \"conflict\" sequences to \"match.\n",
      "compare: Reference comparison complete. Results written to ../data/compare\n"
     ]
    },
    {
     "name": "stderr",
     "output_type": "stream",
     "text": [
      "ReferenceAnnotator._check: 100%|██████████| 862/862 [00:01<00:00, 832.14it/s] \n",
      "ReferenceAnnotator._check: 100%|██████████| 57/57 [00:00<00:00, 1917.43it/s]\n"
     ]
    },
    {
     "name": "stdout",
     "output_type": "stream",
     "text": [
      "ReferenceAnnotator._check: Downgraded 0 \"match\" sequences to \"intergenic\" or \"conflict\".\n",
      "ReferenceAnnotator._check: Upgraded 2 \"intergenic\" or \"conflict\" sequences to \"match.\n",
      "compare: Reference comparison complete. Results written to ../data/compare\n"
     ]
    }
   ],
   "source": [
    "prodigal = Prodigal()\n",
    "for genome_id in genome_ids:\n",
    "    if not os.path.exists(f'../data/prodigal/{genome_id}_protein.faa'):\n",
    "        prodigal.run(f'../data/ncbi/genomes/{genome_id}_genomic.fna', f'../data/prodigal/{genome_id}_protein.faa')\n",
    "\n",
    "query_paths = [f'../data/prodigal/{genome_id}_protein.faa' for genome_id in genome_ids]\n",
    "reference_paths = [f'../data/ncbi/gbffs/{genome_id}_genomic.gbff' for genome_id in genome_ids]\n",
    "for query_path, reference_path in zip(query_paths, reference_paths):\n",
    "    compare(query_path, reference_path, overwrite=True)"
   ]
  },
  {
   "cell_type": "code",
   "execution_count": 5,
   "metadata": {},
   "outputs": [],
   "source": [
    "# Want to get the number of proteins in the NCBI reference. \n",
    "prodigal_fasta_files = {genome_id:FASTAFile(path=f'../data/prodigal/{genome_id}_protein.faa') for genome_id in genome_ids}\n",
    "ncbi_fasta_files = {genome_id:FASTAFile(path=f'../data/ncbi/proteins/{genome_id}_protein.faa') for genome_id in genome_ids}"
   ]
  },
  {
   "cell_type": "code",
   "execution_count": 11,
   "metadata": {},
   "outputs": [],
   "source": [
    "compare_df = pd.concat([Reference.load(f'../data/compare/{genome_id}_top_hits.csv').assign(genome_id=genome_id) for genome_id in genome_ids])\n",
    "compare_df['name'] = compare_df.genome_id.map(names)"
   ]
  },
  {
   "cell_type": "code",
   "execution_count": 12,
   "metadata": {},
   "outputs": [
    {
     "data": {
      "text/html": [
       "<div>\n",
       "<style scoped>\n",
       "    .dataframe tbody tr th:only-of-type {\n",
       "        vertical-align: middle;\n",
       "    }\n",
       "\n",
       "    .dataframe tbody tr th {\n",
       "        vertical-align: top;\n",
       "    }\n",
       "\n",
       "    .dataframe thead th {\n",
       "        text-align: right;\n",
       "    }\n",
       "</style>\n",
       "<table border=\"1\" class=\"dataframe\">\n",
       "  <thead>\n",
       "    <tr style=\"text-align: right;\">\n",
       "      <th></th>\n",
       "      <th>ncbi_n_cds</th>\n",
       "      <th>prodigal_n_cds</th>\n",
       "      <th>percent_matches</th>\n",
       "      <th>percent_exact_matches</th>\n",
       "    </tr>\n",
       "  </thead>\n",
       "  <tbody>\n",
       "    <tr>\n",
       "      <th>E. coli K-12</th>\n",
       "      <td>4298</td>\n",
       "      <td>4319</td>\n",
       "      <td>0.954388</td>\n",
       "      <td>0.900208</td>\n",
       "    </tr>\n",
       "    <tr>\n",
       "      <th>B. subtilis 168</th>\n",
       "      <td>4237</td>\n",
       "      <td>4226</td>\n",
       "      <td>0.977993</td>\n",
       "      <td>0.88973</td>\n",
       "    </tr>\n",
       "    <tr>\n",
       "      <th>P. aeruginosa</th>\n",
       "      <td>5572</td>\n",
       "      <td>5681</td>\n",
       "      <td>0.977997</td>\n",
       "      <td>0.896849</td>\n",
       "    </tr>\n",
       "    <tr>\n",
       "      <th>M. tuberculosis</th>\n",
       "      <td>3906</td>\n",
       "      <td>4085</td>\n",
       "      <td>0.928274</td>\n",
       "      <td>0.717013</td>\n",
       "    </tr>\n",
       "  </tbody>\n",
       "</table>\n",
       "</div>"
      ],
      "text/plain": [
       "                 ncbi_n_cds  prodigal_n_cds percent_matches  \\\n",
       "E. coli K-12           4298            4319        0.954388   \n",
       "B. subtilis 168        4237            4226        0.977993   \n",
       "P. aeruginosa          5572            5681        0.977997   \n",
       "M. tuberculosis        3906            4085        0.928274   \n",
       "\n",
       "                percent_exact_matches  \n",
       "E. coli K-12                 0.900208  \n",
       "B. subtilis 168               0.88973  \n",
       "P. aeruginosa                0.896849  \n",
       "M. tuberculosis              0.717013  "
      ]
     },
     "execution_count": 12,
     "metadata": {},
     "output_type": "execute_result"
    }
   ],
   "source": [
    "def table_1(compare_df:pd.DataFrame, prodigal_fasta_files:dict, ncbi_fasta_files:dict, path:str=None):\n",
    "\n",
    "    table_df = pd.DataFrame(index=compare_df.name.unique(), columns=['ncbi_n_cds', 'prodigal_n_cds', 'percent_matches', 'percent_exact_matches'])   \n",
    "    table_df['ncbi_n_cds'] = pd.Series({names[genome_id]:len(fasta_file) for genome_id, fasta_file in ncbi_fasta_files.items()})\n",
    "    table_df['prodigal_n_cds'] = pd.Series({names[genome_id]:len(fasta_file) for genome_id, fasta_file in prodigal_fasta_files.items()})\n",
    "    for name, df in compare_df.groupby('name'):\n",
    "        table_df.loc[name, 'percent_matches'] = (df.category == 'match').sum() / len(df)\n",
    "        table_df.loc[name, 'percent_exact_matches'] = df.exact_match.sum() / len(df)\n",
    "    return table_df\n",
    "\n",
    "table_1(compare_df, prodigal_fasta_files, ncbi_fasta_files)"
   ]
  },
  {
   "cell_type": "code",
   "execution_count": null,
   "metadata": {},
   "outputs": [],
   "source": [
    "# Want to characterize the amount of length difference"
   ]
  },
  {
   "cell_type": "code",
   "execution_count": null,
   "metadata": {},
   "outputs": [],
   "source": [
    "# What statistics do I care about?\n",
    "# (1) Total number of genes in reference. \n",
    "# (2) Total number of predicted genes. \n",
    "# (3) Total number of matched coding sequences (not including pseudogenes).\n",
    "# (4) Number of exact matches. \n",
    "# (5) Number of genes with boundary errors (characterize the nature of the boundary errors later on).\n",
    "# (2) The false discovery rate. \n",
    "# (3) The number of missed genes. "
   ]
  }
 ],
 "metadata": {
  "kernelspec": {
   "display_name": "frugal",
   "language": "python",
   "name": "python3"
  },
  "language_info": {
   "codemirror_mode": {
    "name": "ipython",
    "version": 3
   },
   "file_extension": ".py",
   "mimetype": "text/x-python",
   "name": "python",
   "nbconvert_exporter": "python",
   "pygments_lexer": "ipython3",
   "version": "3.13.2"
  }
 },
 "nbformat": 4,
 "nbformat_minor": 2
}
