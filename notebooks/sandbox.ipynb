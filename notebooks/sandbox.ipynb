{
 "cells": [
  {
   "cell_type": "code",
   "execution_count": 42,
   "metadata": {},
   "outputs": [
    {
     "name": "stdout",
     "output_type": "stream",
     "text": [
      "The autoreload extension is already loaded. To reload it, use:\n",
      "  %reload_ext autoreload\n"
     ]
    }
   ],
   "source": [
    "from src.tools import MMseqs, NCBIDatasets, UniRef\n",
    "import pandas as pd\n",
    "import numpy as np\n",
    "from src.files import XMLFile, InterProScanFile, FASTAFile, GBFFFile\n",
    "from utils import * \n",
    "import matplotlib.pyplot as plt\n",
    "from matplotlib.gridspec import GridSpec\n",
    "import seaborn as sns\n",
    "from sklearn.model_selection import train_test_split, GroupShuffleSplit\n",
    "from src.classifier import Classifier\n",
    "from src.sampler import Sampler\n",
    "from src.dataset import Dataset\n",
    "import re \n",
    "\n",
    "%load_ext autoreload \n",
    "%autoreload 2"
   ]
  },
  {
   "cell_type": "code",
   "execution_count": null,
   "metadata": {},
   "outputs": [],
   "source": [
    "def get_inference_proteins(genome_id:str, pseudo:bool=True):\n",
    "    '''Extract the protein IDs for the non-redundant sequences.'''\n",
    "    path = f'../data/proteins/inference/{genome_id}_protein.faa'\n",
    "    if os.path.exists(path):\n",
    "        return \n",
    "        \n",
    "    df = GBFFFile(f'../data/proteins/ncbi/{genome_id}_genomic.gbff').to_df()\n",
    "    df = df[df.evidence_type == 'similar to AA sequence']\n",
    "    df = df[df.pseudo] if pseudo else df\n",
    "\n",
    "    tools = {'RefSeq':NCBIDatasets(), 'UniRef':UniRef()}\n",
    "    protein_ids = {'RefSeq':[], 'UniRef':[]}\n",
    "\n",
    "    for row in df.itertuples():\n",
    "        protein_id = row.evidence_details\n",
    "        protein_ids[row.evidence_source].append(protein_id)\n",
    "\n",
    "    inference_df = []\n",
    "    for source, protein_ids in protein_ids.items():\n",
    "        tool = tools[source]\n",
    "        if len(protein_ids) > 0:\n",
    "            df_ = tool.run(protein_ids=np.unique(protein_ids), path=None)\n",
    "            tool.cleanup()\n",
    "            inference_df.append(df_)\n",
    "\n",
    "    if len(inference_df) == 0:\n",
    "        print(f'get_inference_proteins: No inference proteins found for genome {genome_id}.')\n",
    "        return \n",
    "        \n",
    "    inference_df = pd.concat(inference_df)\n",
    "    FASTAFile(df=inference_df).write(path)\n",
    "    return inference_df\n",
    "\n",
    "for genome_id in genome_ids['low_gc_content']:\n",
    "    get_inference_proteins(genome_id)"
   ]
  },
  {
   "cell_type": "code",
   "execution_count": 60,
   "metadata": {},
   "outputs": [
    {
     "name": "stdout",
     "output_type": "stream",
     "text": [
      "Phylum count: 56\n",
      "Class count: 123\n",
      "Order count: 299\n",
      "Genus count: 3983\n"
     ]
    }
   ],
   "source": [
    "ncbi_genome_metadata_df = load_ncbi_genome_metadata()\n",
    "\n",
    "for level in ['phylum', 'class', 'order', 'genus']:\n",
    "    print(f'{level.capitalize()} count:', ncbi_genome_metadata_df[f'{level}'].nunique())\n",
    "    # print(f'Species with no {level}:', (genome_metadata_df[f'{level}_taxid'] == 'none').sum())\n",
    "\n",
    "# fig, (ax_a, ax_b) = plt.subplots(ncols=2, figsize=(15, 5), width_ratios=[0.3, 0.7])\n",
    "\n",
    "# counts, bins, _ = ax_a.hist(ncbi_genome_metadata_df.gc_percent, bins=25, width=2, edgecolor='black', color='lightgray')\n",
    "# ax_a.set_ylabel('density')\n",
    "# ax_a.set_xlabel('GC percent')\n",
    "\n",
    "# level = 'phylum'\n",
    "# # x = np.arange(genome_metadata_df[f'{level}_taxid'].nunique())\n",
    "# y = ncbi_genome_metadata_df.groupby(level).gc_percent.mean() # .sort_values(ascending=True)\n",
    "# x = ncbi_genome_metadata_df.groupby(level).apply(len, include_groups=False) # .sort_values(ascending=True)\n",
    "# y_err = ncbi_genome_metadata_df.groupby(level).apply(lambda df : df.gc_percent.std() / np.sqrt(len(df)), include_groups=False) # .loc[y.index]\n",
    "\n",
    "# ax_b.errorbar(x, y, yerr=y_err, ls='', lw=0.7, capsize=2, color='black')\n",
    "# ax_b.scatter(x, y, color='black', s=5)\n",
    "# ax_b.set_xscale('log')\n",
    "# ax_b.set_xlabel(f'log({level} size)')\n",
    "# ax_b.set_ylabel('GC percent')\n",
    "\n",
    "plt.show()"
   ]
  },
  {
   "cell_type": "code",
   "execution_count": 74,
   "metadata": {},
   "outputs": [
    {
     "name": "stdout",
     "output_type": "stream",
     "text": [
      "Low-GC content phylum: Campylobacterota\n",
      "Medium-GC content phylum: Planctomycetota\n",
      "High-GC content phylum: Deinococcota\n"
     ]
    }
   ],
   "source": [
    "# How should I select the genomes for model training?\n",
    "\n",
    "# Using the same genomes for validation as in the Prodigal paper\n",
    "# Halobacterium salinarum\n",
    "# Natronomonas pharaonis\n",
    "# Aeropyrum pernix\n",
    "model_organism_genome_ids = ['GCF_000005845.2'] # E. coli K-12\n",
    "model_organism_genome_ids += ['GCF_000009045.1'] # B. subtilis\n",
    "model_organism_genome_ids += ['GCF_000006765.1'] # P. aeruginosa\n",
    "\n",
    "# Start by selecting a few phyla in a reasonable size range with varying GC contents.\n",
    "def sample(genome_metadata_df:pd.DataFrame, min_phylum_size:int=90, max_phylum_size:int=200):\n",
    "\n",
    "    phylum_sizes = genome_metadata_df.groupby('phylum').apply(len, include_groups=False)\n",
    "    phylum_sizes = phylum_sizes[(phylum_sizes > min_phylum_size) & (phylum_sizes < max_phylum_size)]\n",
    "\n",
    "    genome_metadata_df = genome_metadata_df[genome_metadata_df.phylum.isin(phylum_sizes.index)]\n",
    "    \n",
    "    phylum_gc_percent = genome_metadata_df.groupby('phylum').gc_percent.mean() \n",
    "    phylum_gc_percent = phylum_gc_percent.sort_values(ascending=True)\n",
    "    \n",
    "    phyla = dict()\n",
    "    phyla['low_gc_content'] = phylum_gc_percent.index[0]\n",
    "    phyla['med_gc_content'] = phylum_gc_percent.index[len(phylum_gc_percent) // 2]\n",
    "    phyla['high_gc_content'] = phylum_gc_percent.index[-1]\n",
    "\n",
    "    print('Low-GC content phylum:', phyla['low_gc_content'])\n",
    "    print('Medium-GC content phylum:', phyla['med_gc_content'])\n",
    "    print('High-GC content phylum:', phyla['high_gc_content'])\n",
    "\n",
    "    genome_ids = {category:genome_metadata_df.index[genome_metadata_df.phylum == phylum] for category, phylum in phyla.items()}\n",
    "    return genome_ids\n",
    "\n",
    "genome_ids = sample(ncbi_genome_metadata_df)\n",
    "\n",
    "# ncbi = NCBIDatasets(genome_dir='../data/genomes', gbff_dir='../data/proteins/ncbi')\n",
    "# ncbi.run(genome_ids=genome_ids['low_gc_content'], metadata_only=False)"
   ]
  },
  {
   "cell_type": "code",
   "execution_count": 65,
   "metadata": {},
   "outputs": [],
   "source": [
    "genome_metadata_df = list()\n",
    "for category, genome_ids_ in genome_ids.items():\n",
    "    df = ncbi_genome_metadata_df.loc[genome_ids_, :].copy()\n",
    "    df['gc_percent_category'] = category\n",
    "    # df = df[genome_metadata_df.annotation_pipeline.str.contains('PGAP')] # Only include genomes annotated with PGAP, because the other files are not consistent. \n",
    "    genome_metadata_df.append(df)\n",
    "genome_metadata_df = pd.concat(genome_metadata_df)\n",
    "genome_metadata_df.to_csv('../data/genome_metadata.csv')"
   ]
  },
  {
   "cell_type": "code",
   "execution_count": null,
   "metadata": {},
   "outputs": [],
   "source": [
    "# ! ref --input-path ../data/proteins/prodigal/* --output-dir ../data/ref --reference-dir ../data/proteins/ncbi/ --prodigal-output --summarize"
   ]
  },
  {
   "cell_type": "code",
   "execution_count": 87,
   "metadata": {},
   "outputs": [],
   "source": [
    "ref_df = load_ref(genome_ids=genome_metadata_df.index)"
   ]
  },
  {
   "cell_type": "code",
   "execution_count": 93,
   "metadata": {},
   "outputs": [
    {
     "data": {
      "text/plain": [
       "top_hit_feature\n",
       "CDS              571\n",
       "rRNA             321\n",
       "repeat_region     58\n",
       "tRNA              56\n",
       "misc_feature      41\n",
       "ncRNA              4\n",
       "tmRNA              3\n",
       "regulatory         3\n",
       "Name: count, dtype: int64"
      ]
     },
     "execution_count": 93,
     "metadata": {},
     "output_type": "execute_result"
    }
   ],
   "source": [
    "ref_df[ref_df.spurious & ref_df.top_hit_pseudo][['query_overlap_fraction', 'top_hit_overlap_fraction', 'in_frame', 'query_start', 'query_stop', 'top_hit_start', 'top_hit_stop']]\n",
    "ref_df[ref_df.spurious].top_hit_feature.value_counts()"
   ]
  },
  {
   "cell_type": "code",
   "execution_count": null,
   "metadata": {},
   "outputs": [],
   "source": [
    "def check_spurious():\n",
    "    "
   ]
  },
  {
   "cell_type": "code",
   "execution_count": null,
   "metadata": {},
   "outputs": [
    {
     "name": "stdout",
     "output_type": "stream",
     "text": [
      "build_datasets: Loading data from 197 genomes belonging to the phylum Campylobacterota.\n",
      "build_datasets: Loaded 1640383 sequences.\n",
      "build_datasets: Kept 4147 spurious sequences and 360557 real sequences.\n",
      "Removing 346 sequences exceeding the maximum length of 2000\n",
      "MMseqs.load: Removing 44701 non-cluster representatives.\n",
      "build_datasets: Training dataset contains 287552 sequences, testing dataset contains 76806 sequences.\n",
      "build_datasets: 3190 negative instances and 284362 positive instances in the training dataset.\n",
      "build_datasets: 949 negative instances and 75857 positive instances in the testing dataset.\n"
     ]
    }
   ],
   "source": [
    "# Now need to think about how I am going to create the datasets. Definitely will want to start with one per phylum, \n",
    "# and for starters, only include things I have definite labels for in the training. \n",
    "\n",
    "# Do I want to remove partial sequences? I think maybe not, because there are some sequences labeled partial by Prodigal\n",
    "# that are not partial in the reference due to incorrect gene boundaries. I'll just keep them all in. \n",
    "\n",
    "def build_datasets(genome_metadata_df:pd.DataFrame, phylum:str='Campylobacterota', max_length:int=2000):\n",
    "    # First remove things which do not have definitive labels. \n",
    "    genome_ids = genome_metadata_df[genome_metadata_df.phylum == phylum].index\n",
    "    print(f'build_datasets: Loading data from {len(genome_ids)} genomes belonging to the phylum {phylum}.')\n",
    "    df = load_ref(genome_ids=genome_ids)\n",
    "    print(f'build_datasets: Loaded {len(ref_df)} sequences.')\n",
    "\n",
    "    df = df[df.spurious | df.real].copy()\n",
    "    print(f'build_datasets: Kept {df.spurious.sum()} spurious sequences and {df.real.sum()} real sequences.')\n",
    "    df['label'] = df.real.astype(int)\n",
    "\n",
    "    lengths = get_lengths(df, top_hit=False)\n",
    "    print(f'Removing {(lengths >= max_length).sum()} sequences exceeding the maximum length of {max_length}')\n",
    "    df = df[lengths < max_length]\n",
    "\n",
    "    mmseqs = MMseqs()\n",
    "    re = mmseqs.cluster(df, job_name=f'{phylum.lower()}_95', sequence_identity=0.95, reps_only=True, overwrite=True)\n",
    "    mmseqs.cleanup()\n",
    "\n",
    "    gss = GroupShuffleSplit(n_splits=1, test_size=0.2, random_state=42)\n",
    "    train_idxs, test_idxs = list(gss.split(df, groups=df.genome_id))[0]\n",
    "    train_df, test_df = df.iloc[train_idxs], df.iloc[test_idxs]\n",
    "    print(f'build_datasets: Training dataset contains {len(train_df)} sequences, testing dataset contains {len(test_df)} sequences.')\n",
    "    print(f'build_datasets: {(train_df.label == 0).sum()} negative instances and {(train_df.label == 1).sum()} positive instances in the training dataset.')\n",
    "    print(f'build_datasets: {(test_df.label == 0).sum()} negative instances and {(test_df.label == 1).sum()} positive instances in the testing dataset.')\n",
    "    train_df.to_csv(f'../data/{phylum.lower()}_dataset_train.csv')\n",
    "    test_df.to_csv(f'../data/{phylum.lower()}_dataset_test.csv')\n",
    "    return train_df, test_df \n",
    "    \n",
    "train_df, test_df = build_datasets(genome_metadata_df)\n",
    "    \n",
    "\n"
   ]
  },
  {
   "cell_type": "code",
   "execution_count": null,
   "metadata": {},
   "outputs": [],
   "source": [
    "# There still seems to be something wrong with the training data, perhaps I am still misclassifying the spurious sequences?\n",
    "# It is possible my \"in-frame\" check is wrong, it's possible I should only see if either edge is a multiple of 3 base pairs away, \n",
    "# as opposed to both.\n",
    "\n",
    "# It seems as though 684 of the sequences flagged as spurious have an overlap length of 0, so maybe I should be counting those as intergenic?\n",
    "# Ok, so I think because of how frequent gene overlap is, I should be allowing some (considering genes with less than a certain amount of overlap to be intergenic)\n",
    "# I should also be very conservative, i.e. allow a comparatively large amount of overlap. \n",
    "# https://pmc.ncbi.nlm.nih.gov/articles/PMC525685/ \n"
   ]
  },
  {
   "cell_type": "code",
   "execution_count": null,
   "metadata": {},
   "outputs": [
    {
     "data": {
      "image/png": "[encoded data removed]",
      "text/plain": [
       "<Figure size 1000x1000 with 1 Axes>"
      ]
     },
     "metadata": {},
     "output_type": "display_data"
    }
   ],
   "source": [
    "# Curious about the distribution of overlap sizes... \n",
    "\n",
    "\n",
    "def figure(ref_df:pd.DataFrame, path:str=None, min_overlap_fraction:float=0.8):\n",
    "    # ref_df = load_ref(genome_ids=genome_ids)\n",
    "    ref_df = ref_df[ref_df.spurious | ref_df.real].copy()\n",
    "\n",
    "    fig = plt.figure(figsize=(10, 10), layout='tight')\n",
    "    grid = GridSpec(nrows=1, ncols=1, figure=fig)\n",
    "    ax_a = fig.add_subplot(grid[0, 0])\n",
    "\n",
    "    ax_a_df = pd.DataFrame(index=ref_df.index)\n",
    "    ax_a_df['length'] = get_lengths(ref_df, top_hit=False, units='nt')\n",
    "    ax_a_df['overlap_length'] = ref_df['top_hit_overlap_length']\n",
    "    ax_a_df['overlap_fraction'] = ax_a_df.overlap_length / ax_a_df.length # This is relative to the query sequence. \n",
    "    ax_a_df['label'] = np.select([ref_df.real, ref_df.spurious], ['real', 'spurious'], default='none')\n",
    "    if min_overlap_fraction is not None:\n",
    "        ax_a_df = ax_a_df[ax_a_df.overlap_fraction > min_overlap_fraction].copy()\n",
    "\n",
    "    colors = ['darkseagreen', 'indianred']\n",
    "    # sns.kdeplot(data=ax_a_df, ax=ax_a, hue='label', hue_order=['real', 'spurious'], palette=colors, common_norm=False, x='overlap_fraction')\n",
    "    sns.ecdfplot(data=ax_a_df, ax=ax_a, hue='label', hue_order=['real', 'spurious'], palette=colors, x='overlap_fraction')\n",
    "\n",
    "    plt.show()\n",
    "    return ax_a_df\n",
    "\n",
    "\n",
    "ax_a_df = figure(ref_df, min_overlap_fraction=None)"
   ]
  },
  {
   "cell_type": "code",
   "execution_count": null,
   "metadata": {},
   "outputs": [],
   "source": []
  }
 ],
 "metadata": {
  "language_info": {
   "name": "python"
  }
 },
 "nbformat": 4,
 "nbformat_minor": 2
}
