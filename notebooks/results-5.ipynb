{
 "cells": [
  {
   "cell_type": "code",
   "execution_count": 18,
   "id": "4b6549f6",
   "metadata": {},
   "outputs": [
    {
     "name": "stdout",
     "output_type": "stream",
     "text": [
      "The autoreload extension is already loaded. To reload it, use:\n",
      "  %reload_ext autoreload\n"
     ]
    }
   ],
   "source": [
    "import pandas as pd \n",
    "import os \n",
    "import numpy as np \n",
    "import matplotlib.pyplot as plt\n",
    "import matplotlib.ticker as tick \n",
    "import seaborn as sns \n",
    "from utils import load_ncbi_genome_metadata\n",
    "import src.download as download\n",
    "import src.tools as tools\n",
    "from src import get_genome_id\n",
    "import glob\n",
    "from tqdm import tqdm\n",
    "from src.files import FASTAFile\n",
    "\n",
    "%load_ext autoreload \n",
    "%autoreload 2"
   ]
  },
  {
   "cell_type": "code",
   "execution_count": 2,
   "id": "aec88370",
   "metadata": {},
   "outputs": [],
   "source": [
    "dataset_df = pd.read_csv('../data/dataset/dataset.csv', index_col=0)\n",
    "# This is the genome metadata for all NCBI reference genomes. \n",
    "ncbi_genome_metadata_df = load_ncbi_genome_metadata(genome_metadata_path='../data/dataset/ncbi_genome_metadata.tsv', taxonomy_metadata_path='../data/dataset/ncbi_taxonomy_metadata.tsv') "
   ]
  },
  {
   "cell_type": "code",
   "execution_count": 3,
   "id": "54e0b393",
   "metadata": {},
   "outputs": [
    {
     "name": "stdout",
     "output_type": "stream",
     "text": [
      "83 phyla in the dataset.\n",
      "56 phyla with NCBI reference genomes.\n"
     ]
    }
   ],
   "source": [
    "phyla_in_dataset = np.unique([lineage.split(';')[1] for lineage in dataset_df.lineage[dataset_df.lineage.str.contains(';')]])\n",
    "# phyla_in_dataset = np.unique([phylum.replace('Candidatus ', '') for phylum in phyla_in_dataset]) \n",
    "phyla_in_dataset = np.unique([phylum for phylum in phyla_in_dataset if (phylum != 'environmental samples')])\n",
    "\n",
    "print(len(phyla_in_dataset), 'phyla in the dataset.')\n",
    "print(ncbi_genome_metadata_df.phylum.nunique(), 'phyla with NCBI reference genomes.')"
   ]
  },
  {
   "cell_type": "code",
   "execution_count": 4,
   "id": "f71f1aca",
   "metadata": {},
   "outputs": [],
   "source": [
    "rare_taxa_df = ncbi_genome_metadata_df[~ncbi_genome_metadata_df.phylum.isin(phyla_in_dataset)].copy()\n",
    "rare_taxa_df = rare_taxa_df.sort_values('checkm_completeness', ascending=False)\n",
    "rare_taxa_df = rare_taxa_df.drop_duplicates('phylum', keep='first')"
   ]
  },
  {
   "cell_type": "code",
   "execution_count": null,
   "id": "22fca2e7",
   "metadata": {},
   "outputs": [
    {
     "name": "stderr",
     "output_type": "stream",
     "text": [
      "NCBI.get_genomes: Downloading data for GCF_021057185.1.: 100%|██████████| 20/20 [03:05<00:00,  9.29s/it]\n"
     ]
    }
   ],
   "source": [
    "ncbi = download.ncbi.NCBI()\n",
    "ncbi.get_genomes(rare_taxa_df.index, include=['gbff', 'genome'], dirs={'genome':'../data/ncbi/genomes', 'gbff':'../data/ncbi/gbffs'})\n",
    "ncbi.cleanup()"
   ]
  },
  {
   "cell_type": "code",
   "execution_count": 17,
   "id": "da299687",
   "metadata": {},
   "outputs": [
    {
     "name": "stderr",
     "output_type": "stream",
     "text": [
      "Running Prodigal on genomes for rare taxa.:   0%|          | 0/20 [00:00<?, ?it/s]"
     ]
    },
    {
     "name": "stderr",
     "output_type": "stream",
     "text": [
      "Running Prodigal on genomes for rare taxa.: 100%|██████████| 20/20 [01:58<00:00,  5.94s/it]\n"
     ]
    }
   ],
   "source": [
    "prodigal = tools.Prodigal()\n",
    "for input_path in tqdm(glob.glob('../data/ncbi/genomes/*'), desc='Running Prodigal on genomes for rare taxa.'):\n",
    "    output_path = f'../data/prodigal/{get_genome_id(input_path)}.faa'\n",
    "    if not os.path.exists(output_path):\n",
    "        prodigal.run(input_path, output_path=output_path)"
   ]
  },
  {
   "cell_type": "code",
   "execution_count": 6,
   "id": "5b44b4d9",
   "metadata": {},
   "outputs": [],
   "source": [
    "# def figure(dataset_df:pd.DataFrame, level:str='genus', top_n:int=5):\n",
    "\n",
    "#     fig, axes = plt.subplots(ncols=2, figsize=(10, 5))\n",
    "\n",
    "#     for ax, (_, df) in zip(axes, dataset_df.groupby('label')):\n",
    "#         ax_df = df.value_counts(level)\n",
    "#         ax_df = ax_df / ax_df.sum() * 100\n",
    "#         ax_df = ax_df[ax_df.index != 'none'].copy()\n",
    "#         ax_df = ax_df.iloc[:top_n]\n",
    "\n",
    "#         sns.barplot(data=ax_df, ax=ax, color='lightgray', edgecolor='black')\n",
    "\n",
    "#         if (level == 'species'):\n",
    "#             x_tick_labels = [f'{taxon.split()[0][0]}. {taxon.split()[-1]}' for taxon in ax_df.index]\n",
    "#             ax.set_xticks(np.arange(len(ax_df)), labels=x_tick_labels, rotation=90, fontstyle='italic')\n",
    "#         else:\n",
    "#             ax.set_xticks(np.arange(len(ax_df)), labels=ax_df.index, rotation=90)\n",
    "#         ax.yaxis.set_major_formatter(tick.PercentFormatter())\n",
    "#         ax.text(0.5, 0.7, f'{ax_df.sum():.2f}% in top {top_n} {level}', transform=ax.transAxes)\n",
    "\n",
    "#     axes[0].set_title('AntiFam')\n",
    "#     axes[1].set_title('SwissProt')\n",
    "\n",
    "#     fig.tight_layout()\n",
    "#     plt.show()\n",
    "\n",
    "# figure(dataset_df, level='phylum')"
   ]
  },
  {
   "cell_type": "code",
   "execution_count": null,
   "id": "84bd9436",
   "metadata": {},
   "outputs": [],
   "source": []
  }
 ],
 "metadata": {
  "kernelspec": {
   "display_name": "frugal",
   "language": "python",
   "name": "python3"
  },
  "language_info": {
   "codemirror_mode": {
    "name": "ipython",
    "version": 3
   },
   "file_extension": ".py",
   "mimetype": "text/x-python",
   "name": "python",
   "nbconvert_exporter": "python",
   "pygments_lexer": "ipython3",
   "version": "3.13.2"
  }
 },
 "nbformat": 4,
 "nbformat_minor": 5
}
