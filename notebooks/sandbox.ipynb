{
 "cells": [
  {
   "cell_type": "code",
   "execution_count": 1,
   "metadata": {},
   "outputs": [],
   "source": [
    "from src.tools import MMseqs, NCBIDatasets, UniRef\n",
    "import pandas as pd\n",
    "import numpy as np\n",
    "from src.files import XMLFile, InterProScanFile, FASTAFile, GBFFFile\n",
    "from utils import * \n",
    "import matplotlib.pyplot as plt\n",
    "from matplotlib.gridspec import GridSpec\n",
    "import seaborn as sns\n",
    "from sklearn.model_selection import train_test_split, GroupShuffleSplit\n",
    "from src.classifier import Classifier\n",
    "from src.sampler import Sampler\n",
    "from src.genome import ReferenceGenome\n",
    "from src.dataset import Dataset\n",
    "import re\n",
    "from src.build import * \n",
    "\n",
    "%load_ext autoreload \n",
    "%autoreload 2"
   ]
  },
  {
   "cell_type": "code",
   "execution_count": 2,
   "metadata": {},
   "outputs": [
    {
     "name": "stdout",
     "output_type": "stream",
     "text": [
      "Phylum count: 56\n",
      "Class count: 123\n",
      "Order count: 299\n",
      "Genus count: 3983\n"
     ]
    }
   ],
   "source": [
    "ncbi_genome_metadata_df = load_ncbi_genome_metadata()\n",
    "\n",
    "for level in ['phylum', 'class', 'order', 'genus']:\n",
    "    print(f'{level.capitalize()} count:', ncbi_genome_metadata_df[f'{level}'].nunique())\n",
    "    # print(f'Species with no {level}:', (genome_metadata_df[f'{level}_taxid'] == 'none').sum())\n",
    "\n",
    "# fig, (ax_a, ax_b) = plt.subplots(ncols=2, figsize=(15, 5), width_ratios=[0.3, 0.7])\n",
    "\n",
    "# counts, bins, _ = ax_a.hist(ncbi_genome_metadata_df.gc_percent, bins=25, width=2, edgecolor='black', color='lightgray')\n",
    "# ax_a.set_ylabel('density')\n",
    "# ax_a.set_xlabel('GC percent')\n",
    "\n",
    "# level = 'phylum'\n",
    "# # x = np.arange(genome_metadata_df[f'{level}_taxid'].nunique())\n",
    "# y = ncbi_genome_metadata_df.groupby(level).gc_percent.mean() # .sort_values(ascending=True)\n",
    "# x = ncbi_genome_metadata_df.groupby(level).apply(len, include_groups=False) # .sort_values(ascending=True)\n",
    "# y_err = ncbi_genome_metadata_df.groupby(level).apply(lambda df : df.gc_percent.std() / np.sqrt(len(df)), include_groups=False) # .loc[y.index]\n",
    "\n",
    "# ax_b.errorbar(x, y, yerr=y_err, ls='', lw=0.7, capsize=2, color='black')\n",
    "# ax_b.scatter(x, y, color='black', s=5)\n",
    "# ax_b.set_xscale('log')\n",
    "# ax_b.set_xlabel(f'log({level} size)')\n",
    "# ax_b.set_ylabel('GC percent')\n",
    "\n",
    "plt.show()"
   ]
  },
  {
   "cell_type": "code",
   "execution_count": 3,
   "metadata": {},
   "outputs": [
    {
     "name": "stdout",
     "output_type": "stream",
     "text": [
      "Low-GC content phylum: Campylobacterota\n",
      "Medium-GC content phylum: Planctomycetota\n",
      "High-GC content phylum: Deinococcota\n"
     ]
    }
   ],
   "source": [
    "# How should I select the genomes for model training?\n",
    "\n",
    "# Using the same genomes for validation as in the Prodigal paper\n",
    "# Halobacterium salinarum\n",
    "# Natronomonas pharaonis\n",
    "# Aeropyrum pernix\n",
    "model_organism_genome_ids = ['GCF_000005845.2'] # E. coli K-12\n",
    "model_organism_genome_ids += ['GCF_000009045.1'] # B. subtilis\n",
    "model_organism_genome_ids += ['GCF_000006765.1'] # P. aeruginosa\n",
    "\n",
    "# Start by selecting a few phyla in a reasonable size range with varying GC contents.\n",
    "def sample(genome_metadata_df:pd.DataFrame, min_phylum_size:int=90, max_phylum_size:int=200):\n",
    "\n",
    "    phylum_sizes = genome_metadata_df.groupby('phylum').apply(len, include_groups=False)\n",
    "    phylum_sizes = phylum_sizes[(phylum_sizes > min_phylum_size) & (phylum_sizes < max_phylum_size)]\n",
    "\n",
    "    genome_metadata_df = genome_metadata_df[genome_metadata_df.phylum.isin(phylum_sizes.index)]\n",
    "    \n",
    "    phylum_gc_percent = genome_metadata_df.groupby('phylum').gc_percent.mean() \n",
    "    phylum_gc_percent = phylum_gc_percent.sort_values(ascending=True)\n",
    "    \n",
    "    phyla = dict()\n",
    "    phyla['low_gc_content'] = phylum_gc_percent.index[0]\n",
    "    phyla['med_gc_content'] = phylum_gc_percent.index[len(phylum_gc_percent) // 2]\n",
    "    phyla['high_gc_content'] = phylum_gc_percent.index[-1]\n",
    "\n",
    "    print('Low-GC content phylum:', phyla['low_gc_content'])\n",
    "    print('Medium-GC content phylum:', phyla['med_gc_content'])\n",
    "    print('High-GC content phylum:', phyla['high_gc_content'])\n",
    "\n",
    "    genome_ids = {category:genome_metadata_df.index[genome_metadata_df.phylum == phylum] for category, phylum in phyla.items()}\n",
    "    return genome_ids\n",
    "\n",
    "genome_ids = sample(ncbi_genome_metadata_df)\n",
    "\n",
    "# ncbi = NCBIDatasets(genome_dir='../data/genomes', gbff_dir='../data/proteins/ncbi')\n",
    "# ncbi.run(genome_ids=genome_ids['low_gc_content'], metadata_only=False)"
   ]
  },
  {
   "cell_type": "code",
   "execution_count": 4,
   "metadata": {},
   "outputs": [],
   "source": [
    "genome_metadata_df = list()\n",
    "for category, genome_ids_ in genome_ids.items():\n",
    "    df = ncbi_genome_metadata_df.loc[genome_ids_, :].copy()\n",
    "    df['gc_percent_category'] = category\n",
    "    # df = df[genome_metadata_df.annotation_pipeline.str.contains('PGAP')] # Only include genomes annotated with PGAP, because the other files are not consistent. \n",
    "    genome_metadata_df.append(df)\n",
    "genome_metadata_df = pd.concat(genome_metadata_df)\n",
    "# genome_metadata_df.to_csv('../data/genome_metadata.csv')"
   ]
  },
  {
   "cell_type": "code",
   "execution_count": 5,
   "metadata": {},
   "outputs": [],
   "source": [
    "# from src.tools import download_homologs\n",
    "# for path in glob.glob('../data/proteins/ncbi/*'):\n",
    "#     download_homologs(path, pseudo_only=True, overwrite=False)"
   ]
  },
  {
   "cell_type": "code",
   "execution_count": 19,
   "metadata": {},
   "outputs": [],
   "source": [
    "# for genome_id in genome_ids['low_gc_content'][::-1]:\n",
    "#     ! ref --input-path ../data/proteins/prodigal/{genome_id}_protein.faa --output-dir ../data/ref --reference-dir ../data/proteins/ncbi/ --prodigal-output --summarize --load-homologs --homologs-dir ../data/proteins/homologs/"
   ]
  },
  {
   "cell_type": "code",
   "execution_count": 8,
   "metadata": {},
   "outputs": [],
   "source": [
    "ref_df = load_ref(genome_ids=[genome_id for genome_id in genome_metadata_df.index if (genome_id != 'GCF_000009085.1')])"
   ]
  },
  {
   "cell_type": "code",
   "execution_count": 9,
   "metadata": {},
   "outputs": [],
   "source": [
    "\n",
    "def check_spurious(ref_df:pd.DataFrame, max_score:float=0.5, remove_invalid:bool=True):\n",
    "    scores = get_alignment_scores(ref_df, seq_a_col='top_hit_seq', seq_b_col='query_seq')\n",
    "    # ref_df['alignment_score'] = scores\n",
    "\n",
    "    valid = ref_df.top_hit_feature.isin(GBFFFile.rna_features + GBFFFile.other_features)\n",
    "    valid = valid | ((scores < max_score) & ~np.isnan(scores)) \n",
    "    ref_df['valid'] = valid\n",
    "\n",
    "    print(f'check_spurious: Validated {ref_df.valid.sum()} out of {len(ref_df)} spurious sequences.')\n",
    "\n",
    "    if remove_invalid:\n",
    "        ref_df = ref_df[ref_df.valid].copy()\n",
    "        ref_df = ref_df.drop(columns=['valid'])\n",
    "    return ref_df\n",
    "    \n",
    "\n",
    "def check_real(ref_df:pd.DataFrame, min_score:float=0.9, remove_invalid:bool=True):\n",
    "    scores = get_alignment_scores(ref_df, seq_a_col='top_hit_seq', seq_b_col='query_seq')\n",
    "    # ref_df['alignment_score'] = scores\n",
    "    ref_df['valid'] = (scores > min_score) & ~np.isnan(scores)\n",
    "\n",
    "    print(f'check_real: Validated {ref_df.valid.sum()} out of {len(ref_df)} real sequences.')\n",
    "    \n",
    "    if remove_invalid:\n",
    "        ref_df = ref_df[ref_df.valid].copy()\n",
    "        ref_df = ref_df.drop(columns=['valid'])\n",
    "    return ref_df\n",
    "\n",
    "    "
   ]
  },
  {
   "cell_type": "code",
   "execution_count": 10,
   "metadata": {},
   "outputs": [
    {
     "name": "stdout",
     "output_type": "stream",
     "text": [
      "build_datasets: Loading data from 460 genomes belonging to the phylum Campylobacterota.\n",
      "build_datasets: Loaded 407732 sequences.\n"
     ]
    },
    {
     "name": "stderr",
     "output_type": "stream",
     "text": [
      "get_alignment_scores: 100%|██████████| 360302/360302 [05:49<00:00, 1030.05it/s]\n"
     ]
    },
    {
     "name": "stdout",
     "output_type": "stream",
     "text": [
      "check_real: Validated 358960 out of 360302 real sequences.\n"
     ]
    },
    {
     "name": "stderr",
     "output_type": "stream",
     "text": [
      "get_alignment_scores: 100%|██████████| 1013/1013 [00:00<00:00, 8924.88it/s]\n",
      "/home/prichter/Documents/tripy/notebooks/utils.py:60: UserWarning: get_lengths: Not all gene lengths are divisible by three.\n",
      "  warnings.warn('get_lengths: Not all gene lengths are divisible by three.')\n"
     ]
    },
    {
     "name": "stdout",
     "output_type": "stream",
     "text": [
      "check_spurious: Validated 1012 out of 1013 spurious sequences.\n",
      "build_datasets: Kept 1012 spurious sequences and 358960 real sequences.\n",
      "Removing 344 sequences exceeding the maximum length of 2000\n",
      "MMseqs.load: Removing 44135 non-cluster representatives.\n",
      "build_datasets: Training dataset contains 252990 sequences, testing dataset contains 62503 sequences.\n",
      "build_datasets: 579 negative instances and 252411 positive instances in the training dataset.\n",
      "build_datasets: 150 negative instances and 62353 positive instances in the testing dataset.\n"
     ]
    }
   ],
   "source": [
    "def build_datasets(genome_metadata_df:pd.DataFrame, phylum:str='Campylobacterota', max_length:int=2000):\n",
    "    # First remove things which do not have definitive labels. \n",
    "    genome_ids = genome_metadata_df[genome_metadata_df.phylum == phylum].index\n",
    "    genome_ids = [genome_id for genome_id in genome_metadata_df.index if (genome_id != 'GCF_000009085.1')] # Remove the non-PGAP genome. \n",
    "\n",
    "    print(f'build_datasets: Loading data from {len(genome_ids)} genomes belonging to the phylum {phylum}.')\n",
    "    df = load_ref(genome_ids=genome_ids)\n",
    "    print(f'build_datasets: Loaded {len(ref_df)} sequences.')\n",
    "\n",
    "    df = pd.concat([check_real(df[df.real].copy()), check_spurious(df[df.spurious].copy())])\n",
    "    print(f'build_datasets: Kept {df.spurious.sum()} spurious sequences and {df.real.sum()} real sequences.')\n",
    "    df['label'] = df.real.astype(int)\n",
    "\n",
    "    lengths = get_lengths(df, top_hit=False)\n",
    "    print(f'Removing {(lengths >= max_length).sum()} sequences exceeding the maximum length of {max_length}')\n",
    "    df = df[lengths < max_length]\n",
    "\n",
    "    df = df.rename(columns={'query_seq':'seq'}) # Need to do this for file writing, etc. to work correctly, \n",
    "    df = df.rename(columns={'top_hit_genome_id':'genome_id'}) # Need to do this for file writing, etc. to work correctly, \n",
    "\n",
    "    mmseqs = MMseqs()\n",
    "    df = mmseqs.cluster(df, job_name=f'{phylum.lower()}_95', sequence_identity=0.95, reps_only=True, overwrite=True)\n",
    "    mmseqs.cleanup()\n",
    "\n",
    "    gss = GroupShuffleSplit(n_splits=1, test_size=0.2, random_state=42)\n",
    "    train_idxs, test_idxs = list(gss.split(df, groups=df.genome_id))[0]\n",
    "    train_df, test_df = df.iloc[train_idxs], df.iloc[test_idxs]\n",
    "    print(f'build_datasets: Training dataset contains {len(train_df)} sequences, testing dataset contains {len(test_df)} sequences.')\n",
    "    print(f'build_datasets: {(train_df.label == 0).sum()} negative instances and {(train_df.label == 1).sum()} positive instances in the training dataset.')\n",
    "    print(f'build_datasets: {(test_df.label == 0).sum()} negative instances and {(test_df.label == 1).sum()} positive instances in the testing dataset.')\n",
    "    train_df.to_csv(f'../data/{phylum.lower()}_dataset_train.csv')\n",
    "    test_df.to_csv(f'../data/{phylum.lower()}_dataset_test.csv')\n",
    "    return train_df, test_df \n",
    "    \n",
    "train_df, test_df = build_datasets(genome_metadata_df)\n",
    "    \n",
    "\n"
   ]
  },
  {
   "cell_type": "code",
   "execution_count": 13,
   "metadata": {},
   "outputs": [
    {
     "data": {
      "text/plain": [
       "array(['11', 'none'], dtype=object)"
      ]
     },
     "execution_count": 13,
     "metadata": {},
     "output_type": "execute_result"
    }
   ],
   "source": [
    "ref_df.top_hit_translation_table.unique()"
   ]
  },
  {
   "cell_type": "code",
   "execution_count": 11,
   "metadata": {},
   "outputs": [],
   "source": [
    "# There still seems to be something wrong with the training data, perhaps I am still misclassifying the spurious sequences?\n",
    "# It is possible my \"in-frame\" check is wrong, it's possible I should only see if either edge is a multiple of 3 base pairs away, \n",
    "# as opposed to both.\n",
    "\n",
    "# It seems as though 684 of the sequences flagged as spurious have an overlap length of 0, so maybe I should be counting those as intergenic?\n",
    "# Ok, so I think because of how frequent gene overlap is, I should be allowing some (considering genes with less than a certain amount of overlap to be intergenic)\n",
    "# I should also be very conservative, i.e. allow a comparatively large amount of overlap. \n",
    "# https://pmc.ncbi.nlm.nih.gov/articles/PMC525685/ \n"
   ]
  },
  {
   "cell_type": "code",
   "execution_count": 12,
   "metadata": {},
   "outputs": [
    {
     "name": "stderr",
     "output_type": "stream",
     "text": [
      "/home/prichter/Documents/tripy/notebooks/utils.py:60: UserWarning: get_lengths: Not all gene lengths are divisible by three.\n",
      "  warnings.warn('get_lengths: Not all gene lengths are divisible by three.')\n"
     ]
    },
    {
     "ename": "KeyError",
     "evalue": "'top_hit_overlap_length'",
     "output_type": "error",
     "traceback": [
      "\u001b[0;31m---------------------------------------------------------------------------\u001b[0m",
      "\u001b[0;31mKeyError\u001b[0m                                  Traceback (most recent call last)",
      "File \u001b[0;32m~/miniconda3/envs/tripy/lib/python3.13/site-packages/pandas/core/indexes/base.py:3805\u001b[0m, in \u001b[0;36mIndex.get_loc\u001b[0;34m(self, key)\u001b[0m\n\u001b[1;32m   3804\u001b[0m \u001b[38;5;28;01mtry\u001b[39;00m:\n\u001b[0;32m-> 3805\u001b[0m     \u001b[38;5;28;01mreturn\u001b[39;00m \u001b[38;5;28;43mself\u001b[39;49m\u001b[38;5;241;43m.\u001b[39;49m\u001b[43m_engine\u001b[49m\u001b[38;5;241;43m.\u001b[39;49m\u001b[43mget_loc\u001b[49m\u001b[43m(\u001b[49m\u001b[43mcasted_key\u001b[49m\u001b[43m)\u001b[49m\n\u001b[1;32m   3806\u001b[0m \u001b[38;5;28;01mexcept\u001b[39;00m \u001b[38;5;167;01mKeyError\u001b[39;00m \u001b[38;5;28;01mas\u001b[39;00m err:\n",
      "File \u001b[0;32mindex.pyx:167\u001b[0m, in \u001b[0;36mpandas._libs.index.IndexEngine.get_loc\u001b[0;34m()\u001b[0m\n",
      "File \u001b[0;32mindex.pyx:196\u001b[0m, in \u001b[0;36mpandas._libs.index.IndexEngine.get_loc\u001b[0;34m()\u001b[0m\n",
      "File \u001b[0;32mpandas/_libs/hashtable_class_helper.pxi:7081\u001b[0m, in \u001b[0;36mpandas._libs.hashtable.PyObjectHashTable.get_item\u001b[0;34m()\u001b[0m\n",
      "File \u001b[0;32mpandas/_libs/hashtable_class_helper.pxi:7089\u001b[0m, in \u001b[0;36mpandas._libs.hashtable.PyObjectHashTable.get_item\u001b[0;34m()\u001b[0m\n",
      "\u001b[0;31mKeyError\u001b[0m: 'top_hit_overlap_length'",
      "\nThe above exception was the direct cause of the following exception:\n",
      "\u001b[0;31mKeyError\u001b[0m                                  Traceback (most recent call last)",
      "Cell \u001b[0;32mIn[12], line 28\u001b[0m\n\u001b[1;32m     24\u001b[0m     plt\u001b[38;5;241m.\u001b[39mshow()\n\u001b[1;32m     25\u001b[0m     \u001b[38;5;28;01mreturn\u001b[39;00m ax_a_df\n\u001b[0;32m---> 28\u001b[0m ax_a_df \u001b[38;5;241m=\u001b[39m \u001b[43mfigure\u001b[49m\u001b[43m(\u001b[49m\u001b[43mref_df\u001b[49m\u001b[43m,\u001b[49m\u001b[43m \u001b[49m\u001b[43mmin_overlap_fraction\u001b[49m\u001b[38;5;241;43m=\u001b[39;49m\u001b[38;5;28;43;01mNone\u001b[39;49;00m\u001b[43m)\u001b[49m\n",
      "Cell \u001b[0;32mIn[12], line 14\u001b[0m, in \u001b[0;36mfigure\u001b[0;34m(ref_df, path, min_overlap_fraction)\u001b[0m\n\u001b[1;32m     12\u001b[0m ax_a_df \u001b[38;5;241m=\u001b[39m pd\u001b[38;5;241m.\u001b[39mDataFrame(index\u001b[38;5;241m=\u001b[39mref_df\u001b[38;5;241m.\u001b[39mindex)\n\u001b[1;32m     13\u001b[0m ax_a_df[\u001b[38;5;124m'\u001b[39m\u001b[38;5;124mlength\u001b[39m\u001b[38;5;124m'\u001b[39m] \u001b[38;5;241m=\u001b[39m get_lengths(ref_df, top_hit\u001b[38;5;241m=\u001b[39m\u001b[38;5;28;01mFalse\u001b[39;00m, units\u001b[38;5;241m=\u001b[39m\u001b[38;5;124m'\u001b[39m\u001b[38;5;124mnt\u001b[39m\u001b[38;5;124m'\u001b[39m)\n\u001b[0;32m---> 14\u001b[0m ax_a_df[\u001b[38;5;124m'\u001b[39m\u001b[38;5;124moverlap_length\u001b[39m\u001b[38;5;124m'\u001b[39m] \u001b[38;5;241m=\u001b[39m \u001b[43mref_df\u001b[49m\u001b[43m[\u001b[49m\u001b[38;5;124;43m'\u001b[39;49m\u001b[38;5;124;43mtop_hit_overlap_length\u001b[39;49m\u001b[38;5;124;43m'\u001b[39;49m\u001b[43m]\u001b[49m\n\u001b[1;32m     15\u001b[0m ax_a_df[\u001b[38;5;124m'\u001b[39m\u001b[38;5;124moverlap_fraction\u001b[39m\u001b[38;5;124m'\u001b[39m] \u001b[38;5;241m=\u001b[39m ax_a_df\u001b[38;5;241m.\u001b[39moverlap_length \u001b[38;5;241m/\u001b[39m ax_a_df\u001b[38;5;241m.\u001b[39mlength \u001b[38;5;66;03m# This is relative to the query sequence. \u001b[39;00m\n\u001b[1;32m     16\u001b[0m ax_a_df[\u001b[38;5;124m'\u001b[39m\u001b[38;5;124mlabel\u001b[39m\u001b[38;5;124m'\u001b[39m] \u001b[38;5;241m=\u001b[39m np\u001b[38;5;241m.\u001b[39mselect([ref_df\u001b[38;5;241m.\u001b[39mreal, ref_df\u001b[38;5;241m.\u001b[39mspurious], [\u001b[38;5;124m'\u001b[39m\u001b[38;5;124mreal\u001b[39m\u001b[38;5;124m'\u001b[39m, \u001b[38;5;124m'\u001b[39m\u001b[38;5;124mspurious\u001b[39m\u001b[38;5;124m'\u001b[39m], default\u001b[38;5;241m=\u001b[39m\u001b[38;5;124m'\u001b[39m\u001b[38;5;124mnone\u001b[39m\u001b[38;5;124m'\u001b[39m)\n",
      "File \u001b[0;32m~/miniconda3/envs/tripy/lib/python3.13/site-packages/pandas/core/frame.py:4102\u001b[0m, in \u001b[0;36mDataFrame.__getitem__\u001b[0;34m(self, key)\u001b[0m\n\u001b[1;32m   4100\u001b[0m \u001b[38;5;28;01mif\u001b[39;00m \u001b[38;5;28mself\u001b[39m\u001b[38;5;241m.\u001b[39mcolumns\u001b[38;5;241m.\u001b[39mnlevels \u001b[38;5;241m>\u001b[39m \u001b[38;5;241m1\u001b[39m:\n\u001b[1;32m   4101\u001b[0m     \u001b[38;5;28;01mreturn\u001b[39;00m \u001b[38;5;28mself\u001b[39m\u001b[38;5;241m.\u001b[39m_getitem_multilevel(key)\n\u001b[0;32m-> 4102\u001b[0m indexer \u001b[38;5;241m=\u001b[39m \u001b[38;5;28;43mself\u001b[39;49m\u001b[38;5;241;43m.\u001b[39;49m\u001b[43mcolumns\u001b[49m\u001b[38;5;241;43m.\u001b[39;49m\u001b[43mget_loc\u001b[49m\u001b[43m(\u001b[49m\u001b[43mkey\u001b[49m\u001b[43m)\u001b[49m\n\u001b[1;32m   4103\u001b[0m \u001b[38;5;28;01mif\u001b[39;00m is_integer(indexer):\n\u001b[1;32m   4104\u001b[0m     indexer \u001b[38;5;241m=\u001b[39m [indexer]\n",
      "File \u001b[0;32m~/miniconda3/envs/tripy/lib/python3.13/site-packages/pandas/core/indexes/base.py:3812\u001b[0m, in \u001b[0;36mIndex.get_loc\u001b[0;34m(self, key)\u001b[0m\n\u001b[1;32m   3807\u001b[0m     \u001b[38;5;28;01mif\u001b[39;00m \u001b[38;5;28misinstance\u001b[39m(casted_key, \u001b[38;5;28mslice\u001b[39m) \u001b[38;5;129;01mor\u001b[39;00m (\n\u001b[1;32m   3808\u001b[0m         \u001b[38;5;28misinstance\u001b[39m(casted_key, abc\u001b[38;5;241m.\u001b[39mIterable)\n\u001b[1;32m   3809\u001b[0m         \u001b[38;5;129;01mand\u001b[39;00m \u001b[38;5;28many\u001b[39m(\u001b[38;5;28misinstance\u001b[39m(x, \u001b[38;5;28mslice\u001b[39m) \u001b[38;5;28;01mfor\u001b[39;00m x \u001b[38;5;129;01min\u001b[39;00m casted_key)\n\u001b[1;32m   3810\u001b[0m     ):\n\u001b[1;32m   3811\u001b[0m         \u001b[38;5;28;01mraise\u001b[39;00m InvalidIndexError(key)\n\u001b[0;32m-> 3812\u001b[0m     \u001b[38;5;28;01mraise\u001b[39;00m \u001b[38;5;167;01mKeyError\u001b[39;00m(key) \u001b[38;5;28;01mfrom\u001b[39;00m\u001b[38;5;250m \u001b[39m\u001b[38;5;21;01merr\u001b[39;00m\n\u001b[1;32m   3813\u001b[0m \u001b[38;5;28;01mexcept\u001b[39;00m \u001b[38;5;167;01mTypeError\u001b[39;00m:\n\u001b[1;32m   3814\u001b[0m     \u001b[38;5;66;03m# If we have a listlike key, _check_indexing_error will raise\u001b[39;00m\n\u001b[1;32m   3815\u001b[0m     \u001b[38;5;66;03m#  InvalidIndexError. Otherwise we fall through and re-raise\u001b[39;00m\n\u001b[1;32m   3816\u001b[0m     \u001b[38;5;66;03m#  the TypeError.\u001b[39;00m\n\u001b[1;32m   3817\u001b[0m     \u001b[38;5;28mself\u001b[39m\u001b[38;5;241m.\u001b[39m_check_indexing_error(key)\n",
      "\u001b[0;31mKeyError\u001b[0m: 'top_hit_overlap_length'"
     ]
    },
    {
     "data": {
      "image/png": "[encoded data removed]",
      "text/plain": [
       "<Figure size 1000x1000 with 1 Axes>"
      ]
     },
     "metadata": {},
     "output_type": "display_data"
    }
   ],
   "source": [
    "# Curious about the distribution of overlap sizes... \n",
    "\n",
    "\n",
    "def figure(ref_df:pd.DataFrame, path:str=None, min_overlap_fraction:float=0.8):\n",
    "    # ref_df = load_ref(genome_ids=genome_ids)\n",
    "    ref_df = ref_df[ref_df.spurious | ref_df.real].copy()\n",
    "\n",
    "    fig = plt.figure(figsize=(10, 10), layout='tight')\n",
    "    grid = GridSpec(nrows=1, ncols=1, figure=fig)\n",
    "    ax_a = fig.add_subplot(grid[0, 0])\n",
    "\n",
    "    ax_a_df = pd.DataFrame(index=ref_df.index)\n",
    "    ax_a_df['length'] = get_lengths(ref_df, top_hit=False, units='nt')\n",
    "    ax_a_df['overlap_length'] = ref_df['top_hit_overlap_length']\n",
    "    ax_a_df['overlap_fraction'] = ax_a_df.overlap_length / ax_a_df.length # This is relative to the query sequence. \n",
    "    ax_a_df['label'] = np.select([ref_df.real, ref_df.spurious], ['real', 'spurious'], default='none')\n",
    "    if min_overlap_fraction is not None:\n",
    "        ax_a_df = ax_a_df[ax_a_df.overlap_fraction > min_overlap_fraction].copy()\n",
    "\n",
    "    colors = ['darkseagreen', 'indianred']\n",
    "    # sns.kdeplot(data=ax_a_df, ax=ax_a, hue='label', hue_order=['real', 'spurious'], palette=colors, common_norm=False, x='overlap_fraction')\n",
    "    sns.ecdfplot(data=ax_a_df, ax=ax_a, hue='label', hue_order=['real', 'spurious'], palette=colors, x='overlap_fraction')\n",
    "\n",
    "    plt.show()\n",
    "    return ax_a_df\n",
    "\n",
    "\n",
    "ax_a_df = figure(ref_df, min_overlap_fraction=None)"
   ]
  },
  {
   "cell_type": "code",
   "execution_count": null,
   "metadata": {},
   "outputs": [],
   "source": []
  }
 ],
 "metadata": {
  "kernelspec": {
   "display_name": "tripy",
   "language": "python",
   "name": "python3"
  },
  "language_info": {
   "codemirror_mode": {
    "name": "ipython",
    "version": 3
   },
   "file_extension": ".py",
   "mimetype": "text/x-python",
   "name": "python",
   "nbconvert_exporter": "python",
   "pygments_lexer": "ipython3",
   "version": "3.13.2"
  }
 },
 "nbformat": 4,
 "nbformat_minor": 2
}
