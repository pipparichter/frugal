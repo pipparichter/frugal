{
 "cells": [
  {
   "cell_type": "code",
   "execution_count": 7,
   "metadata": {},
   "outputs": [
    {
     "name": "stdout",
     "output_type": "stream",
     "text": [
      "The autoreload extension is already loaded. To reload it, use:\n",
      "  %reload_ext autoreload\n"
     ]
    }
   ],
   "source": [
    "import pandas as pd \n",
    "import numpy as np \n",
    "from Bio import SeqIO\n",
    "from src.tools import NCBIDatasets\n",
    "from src.files import FASTAFile\n",
    "\n",
    "%load_ext autoreload\n",
    "%autoreload 2"
   ]
  },
  {
   "cell_type": "code",
   "execution_count": 2,
   "metadata": {},
   "outputs": [],
   "source": [
    "# Changing my training dataset strategy. Instead going to use the sequences directly from NCBI. \n",
    "genome_metadata_df = pd.read_csv('../data/genome_metadata.csv', index_col=0)\n",
    "genome_ids = genome_metadata_df[genome_metadata_df.phylum == 'Campylobacterota'].index.values \n"
   ]
  },
  {
   "cell_type": "code",
   "execution_count": 6,
   "metadata": {},
   "outputs": [
    {
     "name": "stderr",
     "output_type": "stream",
     "text": [
      "NCBIDatasets._get_genome: Downloading data for GCF_900197775.1.: 100%|██████████| 197/197 [00:00<00:00, 2492.14it/s]\n"
     ]
    }
   ],
   "source": [
    "ncbi = NCBIDatasets()\n",
    "ncbi.run(genome_ids=genome_ids, metadata=False, include=['protein'], dirs={'protein':'../data/ncbi/proteins'})\n",
    "ncbi.cleanup()"
   ]
  },
  {
   "cell_type": "code",
   "execution_count": 9,
   "metadata": {},
   "outputs": [
    {
     "data": {
      "text/html": [
       "<div>\n",
       "<style scoped>\n",
       "    .dataframe tbody tr th:only-of-type {\n",
       "        vertical-align: middle;\n",
       "    }\n",
       "\n",
       "    .dataframe tbody tr th {\n",
       "        vertical-align: top;\n",
       "    }\n",
       "\n",
       "    .dataframe thead th {\n",
       "        text-align: right;\n",
       "    }\n",
       "</style>\n",
       "<table border=\"1\" class=\"dataframe\">\n",
       "  <thead>\n",
       "    <tr style=\"text-align: right;\">\n",
       "      <th></th>\n",
       "      <th>description</th>\n",
       "      <th>seq</th>\n",
       "    </tr>\n",
       "    <tr>\n",
       "      <th>id</th>\n",
       "      <th></th>\n",
       "      <th></th>\n",
       "    </tr>\n",
       "  </thead>\n",
       "  <tbody>\n",
       "    <tr>\n",
       "      <th>WP_002876473.1</th>\n",
       "      <td>MULTISPECIES: hypothetical protein [Campylobac...</td>\n",
       "      <td>MFFAGGDYEPFIYGLSLIAYYFLPLYCLTLLLYKYKPQYVNLTLHI...</td>\n",
       "    </tr>\n",
       "    <tr>\n",
       "      <th>WP_005020782.1</th>\n",
       "      <td>MULTISPECIES: 30S ribosomal protein S21 [Helic...</td>\n",
       "      <td>MPGIKVRENESFDDAYRKFKKQADRNLVVTESRARRFFEPMTEKRK...</td>\n",
       "    </tr>\n",
       "    <tr>\n",
       "      <th>WP_005021381.1</th>\n",
       "      <td>MULTISPECIES: 50S ribosomal protein L33 [Helic...</td>\n",
       "      <td>MAKGNRVKIGLKCSECGDINYSTVKNAKTQTEKLELKKFCPRLNKH...</td>\n",
       "    </tr>\n",
       "    <tr>\n",
       "      <th>WP_005022299.1</th>\n",
       "      <td>MULTISPECIES: 50S ribosomal protein L36 [Helic...</td>\n",
       "      <td>MKVRPSVKKMCDKCKVIKRKGVIRVICENPKHKQRQG</td>\n",
       "    </tr>\n",
       "    <tr>\n",
       "      <th>WP_006801843.1</th>\n",
       "      <td>MULTISPECIES: translation initiation factor IF...</td>\n",
       "      <td>MAKDDVIEVDGIVKEALPNATFRVELENGHIILCHIAGRMRMHYIK...</td>\n",
       "    </tr>\n",
       "    <tr>\n",
       "      <th>...</th>\n",
       "      <td>...</td>\n",
       "      <td>...</td>\n",
       "    </tr>\n",
       "    <tr>\n",
       "      <th>WP_342767091.1</th>\n",
       "      <td>AtpZ/AtpI family protein [Helicobacter valdivi...</td>\n",
       "      <td>MENEKVQNKAKEEIMENHNQVFMQKEAKEELKYKDALLAYSNATLG...</td>\n",
       "    </tr>\n",
       "    <tr>\n",
       "      <th>WP_342767092.1</th>\n",
       "      <td>restriction endonuclease subunit S [Helicobact...</td>\n",
       "      <td>MQQHNLTLPVYCHSEALPEESKENPARFFANTQNDKLDSIKDVSQP...</td>\n",
       "    </tr>\n",
       "    <tr>\n",
       "      <th>WP_342767093.1</th>\n",
       "      <td>galactosyltransferase-related protein [Helicob...</td>\n",
       "      <td>MLELINIKEIDKNPNAFLVLPCVFLNEFGTEIYLNQNFYNKDMLFQ...</td>\n",
       "    </tr>\n",
       "    <tr>\n",
       "      <th>WP_342767094.1</th>\n",
       "      <td>16S rRNA (adenine(1518)-N(6)/adenine(1519)-N(6...</td>\n",
       "      <td>MIKETNKKALAKKQFGQNFLQDEFVLDKIIQSIPKTNTQIIEIGAG...</td>\n",
       "    </tr>\n",
       "    <tr>\n",
       "      <th>WP_342767095.1</th>\n",
       "      <td>4-hydroxythreonine-4-phosphate dehydrogenase [...</td>\n",
       "      <td>MLLKIAVSVGDINGIGLEILLKSHQKLQKLCKPIYCVDEELLKEAS...</td>\n",
       "    </tr>\n",
       "  </tbody>\n",
       "</table>\n",
       "<p>2069 rows × 2 columns</p>\n",
       "</div>"
      ],
      "text/plain": [
       "                                                      description  \\\n",
       "id                                                                  \n",
       "WP_002876473.1  MULTISPECIES: hypothetical protein [Campylobac...   \n",
       "WP_005020782.1  MULTISPECIES: 30S ribosomal protein S21 [Helic...   \n",
       "WP_005021381.1  MULTISPECIES: 50S ribosomal protein L33 [Helic...   \n",
       "WP_005022299.1  MULTISPECIES: 50S ribosomal protein L36 [Helic...   \n",
       "WP_006801843.1  MULTISPECIES: translation initiation factor IF...   \n",
       "...                                                           ...   \n",
       "WP_342767091.1  AtpZ/AtpI family protein [Helicobacter valdivi...   \n",
       "WP_342767092.1  restriction endonuclease subunit S [Helicobact...   \n",
       "WP_342767093.1  galactosyltransferase-related protein [Helicob...   \n",
       "WP_342767094.1  16S rRNA (adenine(1518)-N(6)/adenine(1519)-N(6...   \n",
       "WP_342767095.1  4-hydroxythreonine-4-phosphate dehydrogenase [...   \n",
       "\n",
       "                                                              seq  \n",
       "id                                                                 \n",
       "WP_002876473.1  MFFAGGDYEPFIYGLSLIAYYFLPLYCLTLLLYKYKPQYVNLTLHI...  \n",
       "WP_005020782.1  MPGIKVRENESFDDAYRKFKKQADRNLVVTESRARRFFEPMTEKRK...  \n",
       "WP_005021381.1  MAKGNRVKIGLKCSECGDINYSTVKNAKTQTEKLELKKFCPRLNKH...  \n",
       "WP_005022299.1              MKVRPSVKKMCDKCKVIKRKGVIRVICENPKHKQRQG  \n",
       "WP_006801843.1  MAKDDVIEVDGIVKEALPNATFRVELENGHIILCHIAGRMRMHYIK...  \n",
       "...                                                           ...  \n",
       "WP_342767091.1  MENEKVQNKAKEEIMENHNQVFMQKEAKEELKYKDALLAYSNATLG...  \n",
       "WP_342767092.1  MQQHNLTLPVYCHSEALPEESKENPARFFANTQNDKLDSIKDVSQP...  \n",
       "WP_342767093.1  MLELINIKEIDKNPNAFLVLPCVFLNEFGTEIYLNQNFYNKDMLFQ...  \n",
       "WP_342767094.1  MIKETNKKALAKKQFGQNFLQDEFVLDKIIQSIPKTNTQIIEIGAG...  \n",
       "WP_342767095.1  MLLKIAVSVGDINGIGLEILLKSHQKLQKLCKPIYCVDEELLKEAS...  \n",
       "\n",
       "[2069 rows x 2 columns]"
      ]
     },
     "execution_count": 9,
     "metadata": {},
     "output_type": "execute_result"
    }
   ],
   "source": [
    "FASTAFile(path='../data/ncbi/proteins/GCF_003245365.1_protein.faa').to_df(prodigal_output=False)"
   ]
  },
  {
   "cell_type": "code",
   "execution_count": null,
   "metadata": {},
   "outputs": [],
   "source": []
  }
 ],
 "metadata": {
  "kernelspec": {
   "display_name": "frugal",
   "language": "python",
   "name": "python3"
  },
  "language_info": {
   "codemirror_mode": {
    "name": "ipython",
    "version": 3
   },
   "file_extension": ".py",
   "mimetype": "text/x-python",
   "name": "python",
   "nbconvert_exporter": "python",
   "pygments_lexer": "ipython3",
   "version": "3.13.2"
  }
 },
 "nbformat": 4,
 "nbformat_minor": 2
}
