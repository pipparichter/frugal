{
 "cells": [
  {
   "cell_type": "code",
   "execution_count": null,
   "metadata": {},
   "outputs": [],
   "source": [
    "import pandas as pd \n",
    "import numpy as np \n",
    "import matplotlib.pyplot as plt \n",
    "import os \n"
   ]
  },
  {
   "cell_type": "code",
   "execution_count": null,
   "metadata": {},
   "outputs": [],
   "source": [
    "# How should I select the genomes for model training?\n",
    "genome_ids = ['GCF_000005845.2'] # E. coli K-12\n",
    "genome_ids += ['GCF_000009045.1'] # B. subtilis\n",
    "genome_ids += ['GCF_000006765.1'] # P. aeruginosa\n",
    "genome_ids += ['GCF_000195955.2'] # M. tuberculosis\n",
    "\n",
    "names = dict()\n",
    "names['GCF_000005845.2'] = 'E. coli K-12'\n",
    "names['GCF_000009045.1'] = 'B. subtilis 168'\n",
    "names['GCF_000006765.1'] = 'P. aeruginosa'\n",
    "names['GCF_000195955.2'] = 'M. tuberculosis'"
   ]
  },
  {
   "cell_type": "code",
   "execution_count": null,
   "metadata": {},
   "outputs": [],
   "source": [
    "# What statistics do I care about?\n",
    "# (1) Total number of genes in reference. \n",
    "# (2) Total number of predicted genes. \n",
    "# (3) Total number of matched coding sequences (not including pseudogenes).\n",
    "# (4) Number of exact matches. \n",
    "# (5) Number of genes with boundary errors (characterize the nature of the boundary errors later on).\n",
    "# (2) The false discovery rate. \n",
    "# (3) The number of missed genes. "
   ]
  }
 ],
 "metadata": {
  "language_info": {
   "name": "python"
  }
 },
 "nbformat": 4,
 "nbformat_minor": 2
}
