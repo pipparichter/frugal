{
 "cells": [
  {
   "cell_type": "code",
   "execution_count": 1,
   "id": "1437c361",
   "metadata": {},
   "outputs": [],
   "source": [
    "import pandas as pd \n",
    "from utils import * \n",
    "import numpy as np \n",
    "import seaborn as sns \n",
    "import matplotlib.pyplot as plt\n",
    "from src.files import BLASTJsonFile, InterProScanFile\n",
    "import re\n",
    "from tqdm import tqdm\n",
    "\n",
    "%load_ext autoreload\n",
    "%autoreload 2"
   ]
  },
  {
   "cell_type": "code",
   "execution_count": 2,
   "id": "2c3c07ec",
   "metadata": {},
   "outputs": [],
   "source": [
    "dataset_path = '../data/results/results-2/dataset.csv'\n",
    "top_hit_predictions_path = '../data/results/results-2/top_hits_predict.csv'\n",
    "predictions_path = '../data/results/results-2/dataset_predict.csv'\n",
    "\n",
    "# Exclude genomes on which Prodigal did horrifically (I think I needed to use a different translation table). \n",
    "# Also, one of the excluded genomes belongs to an endosymbiont which is not assigned a phylum.\n",
    "exclude_genome_ids = ['GCF_029854295.1', 'GCF_021057185.1', 'GCF_016097415.1'] \n",
    "\n",
    "results_df = load_results(dataset_path=dataset_path, top_hit_predictions_path=top_hit_predictions_path, predictions_path=predictions_path, exclude_genome_ids=exclude_genome_ids)\n",
    "\n",
    "results_df = results_df[results_df.intergenic].copy() # Filter for intergenic sequences. \n",
    "results_df = results_df[results_df.index != 'NC_021487.1_1505'].copy() # Drop an outlier which spans an assembly gap and is >1900 amino acids long. "
   ]
  },
  {
   "cell_type": "code",
   "execution_count": 3,
   "id": "d5a4f564",
   "metadata": {},
   "outputs": [
    {
     "name": "stdout",
     "output_type": "stream",
     "text": [
      "Num. intergenic ORFs: 653\n",
      "Num. real intergenic ORFs: 254 (38.90%)\n",
      "Num. uncertain intergenic ORFs: 86 (13.17%)\n",
      "Num. spurious intergenic ORFs: 313 (47.93%)\n",
      "write_fasta: Wrote 653 sequences to ../data/results/results-2/intergenic.faa\n"
     ]
    }
   ],
   "source": [
    "print('Num. intergenic ORFs:', len(results_df))\n",
    "print('Num. real intergenic ORFs:', results_df.real.sum(), f'({get_percent(results_df.real.sum(), len(results_df))})')\n",
    "print('Num. uncertain intergenic ORFs:', results_df.uncertain.sum(), f'({get_percent(results_df.uncertain.sum(), len(results_df))})')\n",
    "print('Num. spurious intergenic ORFs:', results_df.spurious.sum(), f'({get_percent(results_df.spurious.sum(), len(results_df))})')\n",
    "\n",
    "write_fasta(results_df, '../data/results/results-2/intergenic.faa', add_top_hit=False)"
   ]
  },
  {
   "cell_type": "code",
   "execution_count": 4,
   "id": "956dd012",
   "metadata": {},
   "outputs": [
    {
     "data": {
      "image/png": "[encoded data removed]",
      "text/plain": [
       "<Figure size 334.646x250.984 with 1 Axes>"
      ]
     },
     "metadata": {},
     "output_type": "display_data"
    }
   ],
   "source": [
    "def figure_1(results_df:pd.DataFrame, ids:list=None, path:str='../figures/results-2.1.intergenic_figure-1.pdf'):\n",
    "\n",
    "    figure_df = results_df.loc[ids].copy() if (ids is not None) else results_df.copy()\n",
    "\n",
    "    fig, ax = get_figure()\n",
    "    palette = {'real':'darkseagreen', 'uncertain':'lightgray', 'spurious':'indianred'}\n",
    "    # sns.kdeplot(results_df, hue='model_label', palette=palette, x='length', common_norm=False)\n",
    "    sns.ecdfplot(figure_df, hue='model_label', palette=palette, x='length')\n",
    "    ax.set_xlim(xmax=300, xmin=0)\n",
    "    ax.set_ylabel('proportion')\n",
    "\n",
    "    p = get_mann_whitney_p_value(results_df[results_df.spurious].length, results_df[results_df.real].length)\n",
    "    ax.text(0.5, 0.5, '$p_{MWU}=$' + f'{p:.2f}', transform=ax.transAxes)\n",
    "\n",
    "    ax.axvline(100, ls='--', color='black', lw=0.7)\n",
    "    save_figure(fig, path=path)\n",
    "\n",
    "figure_1(results_df)\n",
    "# print('Max. length:', results_df.length.max()) # Seems crazy that such a long ORF was missed in the reference? Seems to span an assembly gap, has a long run of X's.\n"
   ]
  },
  {
   "cell_type": "code",
   "execution_count": 57,
   "id": "82b4a310",
   "metadata": {},
   "outputs": [
    {
     "name": "stdout",
     "output_type": "stream",
     "text": [
      "Num. hits to hypothetical proteins: 1281 (66.20%)\n",
      "Removing 283 uninformative hits.\n",
      "\n",
      "Num. with BLAST hit: 297\n",
      "Num. real with BLAST hit: 174 (68.50%)\n",
      "Num. real with annotated BLAST hit: 80 (31.50%)\n",
      "Num. spurious with BLAST hit: 94 (30.03%)\n",
      "Num. spurious with annotated BLAST hit: 34 (13.39%)\n"
     ]
    }
   ],
   "source": [
    "# BLASTp against NCBI clustered nr database, with the following parameters:\n",
    "# Bacteria\n",
    "# Max. target sequences     10\n",
    "# Expect threshold      0.005\n",
    "\n",
    "blast_df = BLASTJsonFile('../data/results/results-2/intergenic_blast.json').to_df()\n",
    "# It seems to be a good idea to not apply a cutoff of 50, as many of the proteins are very short, and bit score is length-dependent. Opted for a slightly lower cutoff of 40.\n",
    "blast_df = blast_df[blast_df.bit_score > 40].copy() # Filter for significant BLAST hits. \n",
    "\n",
    "blast_df['n_hits'] = blast_df.index.map(blast_df.groupby(blast_df.index).size())\n",
    "# print(f'Removing {blast_df.partial.sum()} alignments to partial proteins.')\n",
    "# blast_df = blast_df[~blast_df.partial].copy()\n",
    "# blast_df['fragmented'] = blast_df.n_gaps == 0 # There should probably not be gaps in cases where the protein is a fragment\n",
    "blast_df['alignment_length_adjusted'] = blast_df.alignment_length - blast_df.n_gaps\n",
    "\n",
    "blast_df['hypothetical'] = blast_df.subject_description.str.contains(r'hypothetical|uncharacterized|uncharacterised|unknown', regex=True, case=False)\n",
    "blast_df['exact_match'] = (blast_df.subject_length == blast_df.query_length) & (blast_df.percent_identity == 1) # Need to be a bit careful about this, could be there is just an N-terminal extension. \n",
    "blast_df['c_termini_aligned'] = (blast_df.query_alignment_stop == blast_df.query_length) & (blast_df.subject_alignment_stop == blast_df.subject_length)\n",
    "\n",
    "print(f'Num. hits to hypothetical proteins:', blast_df.hypothetical.sum(), f'({get_percent(blast_df.hypothetical.sum(), len(blast_df))})')\n",
    "\n",
    "# Consider BLAST hits which are exact matches to the ORF as useless, because it may just be a repetition of the same ab initio error. \n",
    "print(f'Removing {(blast_df.exact_match).sum()} uninformative hits.', end='\\n\\n')\n",
    "\n",
    "blast_df = blast_df[~blast_df.exact_match].copy()\n",
    "blast_df['model_label'] = blast_df.index.map(results_df.model_label)\n",
    "blast_df['model_output_1'] = blast_df.index.map(results_df.model_output_1)\n",
    "blast_df['real'] = blast_df.index.map(results_df.real)\n",
    "blast_df['spurious'] = blast_df.index.map(results_df.spurious)\n",
    "blast_df['partial'] = blast_df.subject_description.str.contains('partial') # Make sure to mark things as partial BEFORE applying the map. \n",
    "blast_df['subject_description'] = blast_df.subject_description.replace(SUBJECT_DESCRIPTION_MAP)\n",
    "blast_df['subject_description'] = np.where(blast_df.hypothetical, 'hypothetical protein', blast_df.subject_description)\n",
    "blast_df['alignment_to_subject_length_ratio'] = blast_df.alignment_length_adjusted / blast_df.subject_length # Length ratio is the alignment length divided by the subject length. \n",
    "blast_df['alignment_to_query_length_ratio'] = blast_df.alignment_length_adjusted / blast_df.query_length # Length ratio is the alignment length divided by the subject length. \n",
    "\n",
    "# blast_df = blast_df[~blast_df.partial].copy()\n",
    "\n",
    "print('Num. with BLAST hit:', blast_df.index.nunique())\n",
    "print('Num. real with BLAST hit:', blast_df[blast_df.real].index.nunique(), f'({get_percent(blast_df[blast_df.real].index.nunique(), results_df.real.sum())})')\n",
    "print('Num. real with annotated BLAST hit:', blast_df[blast_df.real & ~blast_df.hypothetical].index.nunique(),  f'({get_percent(blast_df[blast_df.real & ~blast_df.hypothetical].index.nunique(), results_df.real.sum())})')\n",
    "print('Num. spurious with BLAST hit:', blast_df[blast_df.spurious].index.nunique(), f'({get_percent(blast_df[blast_df.spurious].index.nunique(), results_df.spurious.sum())})')\n",
    "print('Num. spurious with annotated BLAST hit:', blast_df[blast_df.spurious & ~blast_df.hypothetical].index.nunique(), f'({get_percent(blast_df[blast_df.spurious & ~blast_df.hypothetical].index.nunique(), results_df.real.sum())})')\n",
    "\n",
    "# It is unclear why PGAP misses so many sequences with annotated BLAST hits. Theoretically, PGAP checks every potential ORF\n",
    "\n",
    "# https://pmc.ncbi.nlm.nih.gov/articles/PMC7779008/#SEC3 \n",
    "\n",
    "# Spurious or faulty protein sequences in these databases were identified by examination of multiple sequence alignments containing these proteins, similar RefSeq \n",
    "# proteins, and GeneMarkS-2 ab initio predictions on other genomes in the same genus or order. A total of 3437 low-quality proteins from otherwise highly trusted \n",
    "# reference genomes, that are frameshifted, have start sites inconsistent with most related proteins, or are suspect in other ways (7.4% of all reference proteins) \n",
    "# were removed from the reference protein database. Similarly, a total of 195 964 protein fragments, frameshifted proteins or proteins in incorrect frames, were \n",
    "# removed from the database of cluster representatives based on manual curation, detection of transposase fragments according to transposase reference sequences, \n",
    "# multiple sequence alignments of protein homologs, and analyses of proteins with partial HMM hits. Furthermore, the weight of 2.5 million proteins representative \n",
    "# of clusters from rare species was adjusted down to minimize their impact on annotation, and PGAP was modified to trust GeneMarkS-2+ more than homology evidence \n",
    "# from rare protein clusters on the presence or absence of a protein-coding feature. Since October 2019, candidate models supported by the alignments of proteins \n",
    "# with low combined weight are rejected unless they are also supported by GeneMarkS-2+ ab initio model or an HMM hit. \n"
   ]
  },
  {
   "cell_type": "code",
   "execution_count": null,
   "id": "0a477451",
   "metadata": {},
   "outputs": [
    {
     "name": "stdout",
     "output_type": "stream",
     "text": [
      "figure: Num. ORFs with only hypothetical hits: 133 (45.39%)\n"
     ]
    },
    {
     "data": {
      "image/png": "[encoded data removed]",
      "text/plain": [
       "<Figure size 334.646x250.984 with 1 Axes>"
      ]
     },
     "metadata": {},
     "output_type": "display_data"
    }
   ],
   "source": [
    "#\n",
    "\n",
    "def figure_2(results_df, blast_df, path:str='../figures/results-2.1.intergenic_figure-2.pdf'):\n",
    "\n",
    "    n_with_blast_hits = blast_df.index.nunique()\n",
    "    # Only want to consider sequences that *only* align to hypothetical proteins. \n",
    "    blast_df['all_hits_hypothetical'] = blast_df.groupby(blast_df.index).apply(lambda df : np.all(df.hypothetical), include_groups=False) \n",
    "    blast_df = blast_df[blast_df.all_hits_hypothetical].copy()\n",
    "\n",
    "    # Probably want to filter for cases where the subject makes up at least __% of the length of the aligned subject.\n",
    "    blast_df = blast_df[blast_df['alignment_to_subject_length_ratio'] > 0.6].copy()\n",
    "\n",
    "    figure_df = pd.DataFrame(index=pd.Series(blast_df.index.unique(), name='id'))\n",
    "    figure_df['model_label'] = results_df.model_label\n",
    "    figure_df['n_hits'] = blast_df.groupby(blast_df.index).size()\n",
    "    print(f'figure: Num. ORFs with only hypothetical hits:', len(figure_df), f'({get_percent(len(figure_df), n_with_blast_hits)})')\n",
    "\n",
    "    offsets = {'real':-0.3, 'spurious':0, 'uncertain':0.3}\n",
    "    palette = {'real':'darkseagreen', 'uncertain':'lightgray', 'spurious':'indianred'}\n",
    "\n",
    "    fig, ax = get_figure()\n",
    "\n",
    "    n_hits = np.arange(1, 11)\n",
    "    for model_label, df in figure_df.groupby('model_label'):\n",
    "        heights = np.array([(df.n_hits == n).sum() for n in n_hits])\n",
    "        ax.bar(n_hits + offsets[model_label], heights, color=palette[model_label], width=0.3, edgecolor='black', lw=0.7, label=model_label)\n",
    "\n",
    "    ax.set_xticks(n_hits, labels=n_hits)\n",
    "    ax.set_ylabel('count')\n",
    "    ax.set_xlabel('n_hits')\n",
    "    ax.legend()\n",
    "    save_figure(fig, path=path)\n",
    "\n",
    "\n",
    "figure_2(results_df, blast_df)"
   ]
  },
  {
   "cell_type": "code",
   "execution_count": 78,
   "id": "d51ad942",
   "metadata": {},
   "outputs": [
    {
     "name": "stdout",
     "output_type": "stream",
     "text": [
      "Num. aligned to annotated proteins: 131\n",
      "Num. real aligned to annotated proteins: 80 (61.07%)\n",
      "Num. spurious aligned to annotated proteins: 34 (25.95%)\n",
      "Num. uncertain aligned to annotated proteins: 17 (12.98%)\n"
     ]
    },
    {
     "data": {
      "image/png": "[encoded data removed]",
      "text/plain": [
       "<Figure size 334.646x250.984 with 1 Axes>"
      ]
     },
     "metadata": {},
     "output_type": "display_data"
    },
    {
     "data": {
      "image/png": "[encoded data removed]",
      "text/plain": [
       "<Figure size 334.646x250.984 with 1 Axes>"
      ]
     },
     "metadata": {},
     "output_type": "display_data"
    }
   ],
   "source": [
    "n_annotated = blast_df[~blast_df.hypothetical].index.nunique()\n",
    "print('Num. aligned to annotated proteins:', n_annotated)\n",
    "for model_label, df in blast_df.groupby('model_label'):\n",
    "    print(f'Num. {model_label} aligned to annotated proteins:', df[~df.hypothetical].index.nunique(), f'({get_percent(df[~df.hypothetical].index.nunique(), n_annotated)})')\n",
    "\n",
    "# ids_with_annotated_blast_hit = blast_df[~blast_df.hypothetical].index.unique()\n",
    "\n",
    "# Notably, seems as though the length of the sequence has very little effect on whether or not the fragment is real or spurious.\n",
    "def figure_3(blast_df:pd.DataFrame, annotated_only:bool=True, x=None, x_max:float=None, x_min:float=None, path:str='../figures/results-2.1.intergenic_figure-3.pdf'):\n",
    "\n",
    "    blast_df = blast_df[(~blast_df.hypothetical) & ~blast_df.partial].copy() if annotated_only else blast_df[~blast_df.partial].copy()\n",
    "    # blast_df = blast_df.sort_values('subject_length', ascending=False)\n",
    "    blast_df = blast_df.sort_values(['hypothetical', 'bit_score'], ascending=[True, False])\n",
    "    figure_df = blast_df[~blast_df.index.duplicated(keep='first')].copy()\n",
    "\n",
    "    figure_df = blast_df[~blast_df.index.duplicated(keep='first')].copy()\n",
    "\n",
    "    fig, ax = get_figure()\n",
    "    palette = {'real':'darkseagreen', 'uncertain':'lightgray', 'spurious':'indianred'}\n",
    "\n",
    "    sns.ecdfplot(figure_df, hue='model_label', palette=palette, x=x)\n",
    "    # if x == 'alignment_to_subject_length_ratio':\n",
    "    #     sns.ecdfplot(figure_df[figure_df.alignment_to_query_length_ratio == 1], hue='model_label', palette=palette, x=x, ls=':')\n",
    "\n",
    "    ax.set_xlim(xmax=x_max, xmin=x_min)\n",
    "    ax.set_ylabel('proportion')\n",
    "\n",
    "    p = get_mann_whitney_p_value(figure_df[figure_df.model_label == 'real'][x], figure_df[figure_df.model_label == 'spurious'][x], n_permutations=None)\n",
    "    ax.text(0.5, 0.5, '$p_{MWU}=$' + f'{p:.5f}', transform=ax.transAxes)\n",
    "\n",
    "    save_figure(fig, path=path)\n",
    "\n",
    "# figure(blast_df, x='query_length')\n",
    "figure_3(blast_df, x='alignment_to_query_length_ratio', x_max=None, x_min=None, path='../figures/results-2.1.intergenic_figure-3-alignment_to_query_length_ratio.pdf')\n",
    "figure_3(blast_df, x='alignment_to_subject_length_ratio', x_max=None, x_min=None, path='../figures/results-2.1.intergenic_figure-3-alignment_to_subject_length_ratio.pdf')"
   ]
  },
  {
   "cell_type": "code",
   "execution_count": 80,
   "id": "8ecb82ac",
   "metadata": {},
   "outputs": [
    {
     "data": {
      "image/png": "[encoded data removed]",
      "text/plain": [
       "<Figure size 334.646x250.984 with 1 Axes>"
      ]
     },
     "metadata": {},
     "output_type": "display_data"
    }
   ],
   "source": [
    "def figure_4(blast_df:pd.DataFrame, annotated_only:bool=False, path:str='../figures/results-2.1.intergenic_figure-4.pdf'):\n",
    "\n",
    "    blast_df = blast_df[(~blast_df.hypothetical) & ~blast_df.partial].copy() if annotated_only else blast_df[~blast_df.partial].copy()\n",
    "    # blast_df = blast_df.sort_values('subject_length', ascending=False)\n",
    "    blast_df = blast_df.sort_values(['hypothetical', 'bit_score'], ascending=[True, False])\n",
    "    figure_df = blast_df[~blast_df.index.duplicated(keep='first')].copy()\n",
    "    # figure_df = blast_df.copy()\n",
    "\n",
    "    # print('Num. where the entire query is aligned to < 50% of the subject:', ((figure_df.alignment_to_query_length_ratio == 1) & (figure_df.alignment_to_subject_length_ratio < 0.5)).sum())\n",
    "    # print('Num. real where the entire query is aligned to < 50% of the subject:', ((figure_df.alignment_to_query_length_ratio == 1) & (figure_df.alignment_to_subject_length_ratio < 0.5) & figure_df.real).sum())\n",
    "\n",
    "    fig, ax = get_figure()\n",
    "    palette = {'real':'darkseagreen', 'uncertain':'lightgray', 'spurious':'indianred'}\n",
    "\n",
    "    sns.scatterplot(figure_df, x='alignment_to_subject_length_ratio', y='alignment_to_query_length_ratio', hue='model_label', palette=palette)\n",
    "    ax.axvline(x=0.5, ls='--', color='black')\n",
    "\n",
    "    n = (figure_df.alignment_to_subject_length_ratio < 0.5).sum()\n",
    "    text = get_text('<0.5', n, len(figure_df))\n",
    "\n",
    "    n_less_than_10_percent = (figure_df.alignment_to_subject_length_ratio < 0.1).sum()\n",
    "    text += get_text('<0.1', n_less_than_10_percent, len(figure_df))\n",
    "    text += get_text('real<0.1', ((figure_df.alignment_to_subject_length_ratio < 0.1) & (figure_df.real)).sum(), n_less_than_10_percent)\n",
    "    ax.text(0.6, 0.5, text, transform=ax.transAxes)\n",
    "\n",
    "    save_figure(fig, path=path)\n",
    "\n",
    "# figure(blast_df, x='query_length')\n",
    "figure_4(blast_df, annotated_only=True)\n",
    "\n"
   ]
  },
  {
   "cell_type": "code",
   "execution_count": 10,
   "id": "96cdcae1",
   "metadata": {},
   "outputs": [],
   "source": [
    "# def get_ids_with_shared_blast_hits(id_:str, blast_df:pd.DataFrame=blast_df):\n",
    "    \n",
    "#     blast_df = blast_df[blast_df.subject_id.isin(blast_df[blast_df.index == id_].subject_id.values)]\n",
    "#     return blast_df.index.unique()\n",
    "\n",
    "# shared_blast_hit_ids = {id_:get_ids_with_shared_blast_hits(id_) for id_ in tqdm(results_df.index.values, desc='Searching for shared BLAST hits.')}\n",
    "# shared_blast_hit_ids = {id_:id_list for id_, id_list in shared_blast_hit_ids.items() if (len(id_list) > 1)}\n",
    "\n",
    "# Based on sequences with the matching BLAST hits, it seems as though there are some cases where sequences that are not exactly adjacent might\n",
    "# be part of the same fragment gene (e.g. NZ_JAALLS010000005.1_6 and NZ_JAALLS010000005.1_9, NZ_AP035449.1_1416 and 'NZ_AP035449.1_1424)"
   ]
  },
  {
   "cell_type": "code",
   "execution_count": 11,
   "id": "880f259a",
   "metadata": {},
   "outputs": [],
   "source": [
    "# print('Num. ORFs that share a BLAST hit with another ORF:', len(shared_blast_hit_ids))\n",
    "# # print('Num. ORFs which are adjacent to another ORF:', len(adjacent_ids))\n",
    "# print('Num. ORFs that are adjacent and share a BLAST hit with another ORF:', len(np.intersect1d(list(shared_blast_hit_ids.keys()), list(adjacent_ids))))"
   ]
  },
  {
   "cell_type": "code",
   "execution_count": 12,
   "id": "72b49086",
   "metadata": {},
   "outputs": [
    {
     "name": "stdout",
     "output_type": "stream",
     "text": [
      "Num. ORFs within 1000 bp from another intergenic ORF: 53 (8.12%)\n",
      "Num. ORFs in-frame with their neighbor ORF: 12 (1.84%)\n"
     ]
    }
   ],
   "source": [
    "# blast_df[blast_df.subject_description.str.contains('YcxB')] # Interesting, seems as though they are both aligned. I wonder how common this is. \n",
    "\n",
    "max_separation_length = 1000\n",
    "\n",
    "def is_same_contig(id_1:str, id_2:str):\n",
    "    if id_1 == id_2:\n",
    "        return False\n",
    "    pattern = r'([A-Z]{2}_[0-9A-Z]+\\.\\d+)_(\\d+)'\n",
    "    match_1, match_2 = re.search(pattern, id_1), re.search(pattern, id_2)\n",
    "    contig_id_1, contig_id_2 = match_1.group(1), match_2.group(1)\n",
    "    return (contig_id_1 == contig_id_2) \n",
    "\n",
    "def get_info(id_, suffix:str='1', fields=['query_start', 'query_stop', 'query_strand', 'query_id', 'query_length']):\n",
    "    info = results_df[fields].loc[id_].to_dict()\n",
    "    info = {key.replace('query_', '') + f'_{suffix}':value for key, value in info.items()}\n",
    "    return info\n",
    "\n",
    "# Probably easiest to deal with this by building a DataFrame. \n",
    "df = list()\n",
    "for id_1 in results_df.index:\n",
    "    nearby_ids = [id_2 for id_2 in results_df.index if is_same_contig(id_1, id_2)]\n",
    "    for id_2 in nearby_ids:\n",
    "        row = get_info(id_1, suffix='1')\n",
    "        row.update(get_info(id_2, suffix='2'))\n",
    "        df.append(row)\n",
    "df = pd.DataFrame(df)\n",
    "\n",
    "get_overlap_length = lambda df : np.min([df.stop_1.values, df.stop_2.values], axis=0) - np.max([df.start_1.values, df.start_2.values], axis=0) + 1\n",
    "get_separation_length = lambda df :  np.max([df.start_1.values, df.start_2.values], axis=0) - np.min([df.stop_1.values, df.stop_2.values], axis=0)\n",
    "df['overlap'] = ~((df.stop_1 < df.start_2) | (df.start_1 > df.stop_2))\n",
    "df['overlap_length'] = np.where(df.overlap, get_overlap_length(df), 0)\n",
    "df['separation_length'] = np.where(~df.overlap, get_separation_length(df), 0)\n",
    "df = df[df.separation_length < max_separation_length].copy()\n",
    "\n",
    "descriptions = {id_:(','.join(blast_df[blast_df.index == id_].subject_description.unique()) if id_ in blast_df.index else 'none') for id_ in results_df.index}\n",
    "df['description_1'] = df.id_1.replace(descriptions)\n",
    "df['description_2'] = df.id_2.replace(descriptions)\n",
    "df['model_label_1'] = df.id_1.map(results_df.model_label)\n",
    "df['model_label_2'] = df.id_2.map(results_df.model_label)\n",
    "df['model_output_1_1'] = df.id_1.map(results_df.model_output_1)\n",
    "df['model_output_1_2'] = df.id_2.map(results_df.model_output_1)\n",
    "df['same_strand'] = df.strand_1 == df.strand_2\n",
    "df['phase'] = (np.abs(df.start_1 - df.start_2) % 3)\n",
    "df['in_frame'] = ((np.abs(df.start_1 - df.start_2) % 3) == 0) & df.same_strand\n",
    "# # Not many of the adjacent proteins have significant BLAST hits. \n",
    "# adjacent_descriptions = {id_1:[blast_df.loc[id_2].subject_description for id_2 in id_list if (id_2 in blast_df.index)] for id_1, id_list in adjacent_ids.items() if (id_1 in blast_df.index)}\n",
    "# adjacent_model_labels = {id_1:[results_df.loc[id_2].model_label for id_2 in id_list] for id_1, id_list in adjacent_ids.items()}\n",
    "\n",
    "print(f'Num. ORFs within {max_separation_length} bp from another intergenic ORF:', df.id_1.nunique(), f'({get_percent(df.id_1.nunique(), len(results_df))})')\n",
    "print(f'Num. ORFs in-frame with their neighbor ORF:', df[df.in_frame].id_1.nunique(), f'({get_percent(df[df.in_frame].id_1.nunique(), len(results_df))})')"
   ]
  },
  {
   "cell_type": "code",
   "execution_count": 13,
   "id": "28c05a0c",
   "metadata": {},
   "outputs": [],
   "source": [
    "# df['both_real'] = (df.model_label_1 == 'real') & (df.model_label_2 == 'real')\n",
    "# df['one_real'] = ((df.model_label_1 == 'real') & (df.model_label_2 != 'real')) | ((df.model_label_2 == 'real') & (df.model_label_1 != 'real'))\n",
    "# df['neither_real'] = (df.model_label_1 != 'real') & (df.model_label_2 != 'real')\n",
    "# df['category'] = np.select([df.both_real, df.neither_real, df.one_real], ['both_real', 'neither_real', 'one_real'], default='none')"
   ]
  },
  {
   "cell_type": "code",
   "execution_count": 14,
   "id": "bda8f2bf",
   "metadata": {},
   "outputs": [],
   "source": [
    "# fig, ax = plt.subplots(figsize=(5, 5))\n",
    "# sns.kdeplot(df, x='separation_length', hue='same_strand', palette={True:'gray', False:'lightgray'})\n",
    "# ax.set_xlim(xmin=0, xmax=max_separation_length)\n",
    "# ax.set_ylabel('density')\n"
   ]
  },
  {
   "cell_type": "code",
   "execution_count": 15,
   "id": "5659b011",
   "metadata": {},
   "outputs": [],
   "source": [
    "# TODO: Why are transposase so frequently fragmented?\n",
    "\n",
    "# AbrB/MazE/SpoVT could be involved in sporulation (SpoVT), antitoxin activity, or antibacterial resisistance (AbrB). All of these are transcriptional regulators.  \n",
    "\n",
    "# The YcxB-like protein family includes the B. subtilis YcxB protein, which is a functionally uncharacterized transmembrane protein. Interestingly, one of these is classified as real, and one as spurious.\n",
    "\n",
    "# Ig-like domains in E. coli and enterobacteria are frequently found in cell surface proteins and fimbrial organelles playing important functions during host cell adhesion and invasion (e.g. intimin/invasin family of outer membrane (OM) adhesins.) https://academic.oup.com/femsre/article/37/2/204/623411 \n",
    "\n",
    "# CcmD is a family of small, integral membrane proteins crucial for the maturation of c-type cytochromes. \n",
    "\n",
    "\n"
   ]
  },
  {
   "cell_type": "code",
   "execution_count": 16,
   "id": "ee922a1f",
   "metadata": {},
   "outputs": [
    {
     "name": "stdout",
     "output_type": "stream",
     "text": [
      "Num. ORFs with InterProScan hits: 97\n",
      "Num. real ORFs with InterProScan hits: 51\n",
      "Num. spurious ORFs with InterProScan hits: 38\n",
      "\n",
      "Num. ORFs with InterProScan hits: 32\n",
      "Num. real ORFs with InterProScan hits: 28\n",
      "Num. spurious ORFs with InterProScan hits: 3\n",
      "\n"
     ]
    }
   ],
   "source": [
    "interpro_df = InterProScanFile('../data/results/results-2/intergenic_interpro.tsv').to_df()\n",
    "interpro_df['model_label'] = interpro_df.index.map(results_df.model_label)\n",
    "interpro_df['real'] = interpro_df.index.map(results_df.real)\n",
    "interpro_df['spurious'] = interpro_df.index.map(results_df.spurious)\n",
    "\n",
    "print('Num. ORFs with InterProScan hits:', interpro_df.index.nunique()) # This includes the slightly bullshitty ones like disorder prediction. \n",
    "print('Num. real ORFs with InterProScan hits:', interpro_df[interpro_df.real].index.nunique()) # This includes the slightly bullshitty ones like disorder prediction. \n",
    "print('Num. spurious ORFs with InterProScan hits:', interpro_df[interpro_df.spurious].index.nunique(), end='\\n\\n') # This includes the slightly bullshitty ones like disorder prediction. \n",
    "\n",
    "interpro_df = interpro_df.dropna(subset=['interpro_e_value']) # Exclude the MobiDBLite hits and coils and some other stuff. \n",
    "\n",
    "print('Num. ORFs with InterProScan hits:', interpro_df.index.nunique())\n",
    "print('Num. real ORFs with InterProScan hits:', interpro_df[interpro_df.real].index.nunique()) \n",
    "print('Num. spurious ORFs with InterProScan hits:', interpro_df[interpro_df.spurious].index.nunique(), end='\\n\\n')\n"
   ]
  },
  {
   "cell_type": "code",
   "execution_count": null,
   "id": "fee59de6",
   "metadata": {},
   "outputs": [],
   "source": []
  }
 ],
 "metadata": {
  "kernelspec": {
   "display_name": "sprout",
   "language": "python",
   "name": "python3"
  },
  "language_info": {
   "codemirror_mode": {
    "name": "ipython",
    "version": 3
   },
   "file_extension": ".py",
   "mimetype": "text/x-python",
   "name": "python",
   "nbconvert_exporter": "python",
   "pygments_lexer": "ipython3",
   "version": "3.13.2"
  }
 },
 "nbformat": 4,
 "nbformat_minor": 5
}
