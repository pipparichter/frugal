{
 "cells": [
  {
   "cell_type": "code",
   "execution_count": null,
   "metadata": {},
   "outputs": [],
   "source": [
    "\n",
    "confusion_matrix_map = {'tp':'true positive', 'fp':'false positive', 'tn':'true negative', 'fn':'false negative'}\n"
   ]
  },
  {
   "cell_type": "code",
   "execution_count": null,
   "metadata": {},
   "outputs": [],
   "source": [
    "test_genome_ids = pd.read_csv('../data/campylobacterota_dataset_test.csv', index_col=0).genome_id.unique()\n",
    "test_results = Results(test_genome_ids, load_ref=True, load_labels=True)\n",
    "test_results.load_predict('../data/predict/campylobacterota_dataset_test_predict.csv', model_name=model_name)\n"
   ]
  },
  {
   "cell_type": "code",
   "execution_count": null,
   "metadata": {},
   "outputs": [],
   "source": [
    "\n",
    "def table_1(path:str='../data/figures/results-campylobacterota-table_1.png'):\n",
    "\n",
    "    model_names = ['campylobacterota_esm_650m_gap_v1', 'campylobacterota_esm_650m_gap_v2', 'campylobacterota_esm_650m_gap_v3']\n",
    "    test_results = Results(test_genome_ids, load_ref=True, load_labels=True)\n",
    "    test_results.load_predict('../data/predict/campylobacterota_dataset_test_predict.csv', model_name=None)\n",
    "    df = test_results.to_df()\n",
    "    df = df.dropna()\n",
    "    df['label'] = [0 if (label == 'spurious') else 1 for label in df.label]\n",
    "    \n",
    "    table_df = list()\n",
    "    for model_name in model_names:\n",
    "        row = dict()\n",
    "        row['feature type'] = re.search('(esm_650m_gap|pt5_3b_gap|esm_3b_gap)', model_name).group(1) \n",
    "        row['model_name'] = model_name\n",
    "        row.update(df[f'{model_name}_confusion_matrix'].replace(confusion_matrix_map).value_counts().to_dict())\n",
    "        row['accuracy'] = np.round(balanced_accuracy_score(df.label, df[f'{model_name}_label']), 4)\n",
    "        table_df.append(row)\n",
    "    table_df = pd.DataFrame(table_df).set_index('model_name')\n",
    "    table_df = table_df.sort_values('false positive')\n",
    "\n",
    "    dfi.export(table_df, path, table_conversion='matplotlib')\n",
    "    return table_df\n",
    "\n",
    "table_3()\n"
   ]
  }
 ],
 "metadata": {
  "language_info": {
   "name": "python"
  }
 },
 "nbformat": 4,
 "nbformat_minor": 2
}
