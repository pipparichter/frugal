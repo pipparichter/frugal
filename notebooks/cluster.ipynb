{
 "cells": [
  {
   "cell_type": "code",
   "execution_count": 68,
   "metadata": {},
   "outputs": [
    {
     "name": "stdout",
     "output_type": "stream",
     "text": [
      "The autoreload extension is already loaded. To reload it, use:\n",
      "  %reload_ext autoreload\n"
     ]
    }
   ],
   "source": [
    "import pandas as pd \n",
    "import numpy as np \n",
    "import matplotlib.pyplot as plt\n",
    "from tqdm import tqdm\n",
    "from scipy.sparse import load_npz\n",
    "from src.files import InterProScanFile\n",
    "from src.clusterer import Clusterer\n",
    "import itertools\n",
    "import seaborn as sns\n",
    "import dataframe_image as dfi\n",
    "from sklearn.metrics import mutual_info_score, adjusted_mutual_info_score, normalized_mutual_info_score, adjusted_rand_score\n",
    "\n",
    "%load_ext autoreload\n",
    "%autoreload 2\n",
    "\n",
    "# TODO: Compare clustering in different dimensions using mutual information score, or some other similarity metric. \n",
    "# TODO: Do I need to rigorously-justify my choice of n_clusters? It was kind of arbitrary, kept it as the same order of magnitude as MMseqs\n",
    "#   clustered at 50 percent sequence identity, but wanted a more tractable number of clusters for downstream analysis. \n"
   ]
  },
  {
   "cell_type": "code",
   "execution_count": 62,
   "metadata": {},
   "outputs": [],
   "source": [
    "dims = 100\n",
    "dataset_df = pd.read_csv('../data/datasets/dataset.csv', index_col=0)\n",
    "dataset_df = dataset_df.merge(pd.read_csv(f'../data/datasets/dataset_cluster_d{dims}.csv', index_col=0), left_index=True, right_index=True)\n",
    "\n",
    "# matrix = alignment_to_csr_matrix('../data/datasets/dataset_dataset_align.tsv', index=dataset_df.index.values, chunk_size=50000)\n",
    "matrix = load_npz('../data/datasets/dataset_dataset_align.npz')"
   ]
  },
  {
   "cell_type": "code",
   "execution_count": 76,
   "metadata": {},
   "outputs": [
    {
     "data": {
      "text/html": [
       "<div>\n",
       "<style scoped>\n",
       "    .dataframe tbody tr th:only-of-type {\n",
       "        vertical-align: middle;\n",
       "    }\n",
       "\n",
       "    .dataframe tbody tr th {\n",
       "        vertical-align: top;\n",
       "    }\n",
       "\n",
       "    .dataframe thead th {\n",
       "        text-align: right;\n",
       "    }\n",
       "</style>\n",
       "<table border=\"1\" class=\"dataframe\">\n",
       "  <thead>\n",
       "    <tr style=\"text-align: right;\">\n",
       "      <th></th>\n",
       "      <th>n_singletons</th>\n",
       "      <th>adjusted_mutual_info_score</th>\n",
       "      <th>mean_cluster_size</th>\n",
       "      <th>max_cluster_size</th>\n",
       "    </tr>\n",
       "    <tr>\n",
       "      <th>dims</th>\n",
       "      <th></th>\n",
       "      <th></th>\n",
       "      <th></th>\n",
       "      <th></th>\n",
       "    </tr>\n",
       "  </thead>\n",
       "  <tbody>\n",
       "    <tr>\n",
       "      <th>20</th>\n",
       "      <td>2011</td>\n",
       "      <td>0.52578</td>\n",
       "      <td>27.659</td>\n",
       "      <td>70</td>\n",
       "    </tr>\n",
       "    <tr>\n",
       "      <th>50</th>\n",
       "      <td>1819</td>\n",
       "      <td>0.662237</td>\n",
       "      <td>27.659</td>\n",
       "      <td>69</td>\n",
       "    </tr>\n",
       "    <tr>\n",
       "      <th>100</th>\n",
       "      <td>1797</td>\n",
       "      <td>0.738001</td>\n",
       "      <td>27.659</td>\n",
       "      <td>71</td>\n",
       "    </tr>\n",
       "    <tr>\n",
       "      <th>1280</th>\n",
       "      <td>1794</td>\n",
       "      <td>1.0</td>\n",
       "      <td>27.659</td>\n",
       "      <td>75</td>\n",
       "    </tr>\n",
       "  </tbody>\n",
       "</table>\n",
       "</div>"
      ],
      "text/plain": [
       "     n_singletons adjusted_mutual_info_score mean_cluster_size  \\\n",
       "dims                                                             \n",
       "20           2011                    0.52578            27.659   \n",
       "50           1819                   0.662237            27.659   \n",
       "100          1797                   0.738001            27.659   \n",
       "1280         1794                        1.0            27.659   \n",
       "\n",
       "     max_cluster_size  \n",
       "dims                   \n",
       "20                 70  \n",
       "50                 69  \n",
       "100                71  \n",
       "1280               75  "
      ]
     },
     "execution_count": 76,
     "metadata": {},
     "output_type": "execute_result"
    }
   ],
   "source": [
    "def table_1(path:str='../figures/cluster-table_1.png'):\n",
    "\n",
    "    # https://stats.stackexchange.com/questions/260487/adjusted-rand-index-vs-adjusted-mutual-information\n",
    "    dims = [20, 50, 100, 1280]\n",
    "\n",
    "    table_df = pd.DataFrame(columns=['n_singletons', 'adjusted_mutual_info_score', 'mean_cluster_size', 'max_cluster_size'], index=pd.Index(dims, name='dims'))\n",
    "\n",
    "    reference_cluster_df = pd.read_csv(f'../data/datasets/dataset_cluster_d1280.csv', index_col=0)\n",
    "    for dims_ in dims:\n",
    "        cluster_df = pd.read_csv(f'../data/datasets/dataset_cluster_d{dims_}.csv', index_col=0)\n",
    "        cluster_sizes = cluster_df.groupby('cluster_id').apply(len, include_groups=False)\n",
    "        table_df.loc[dims_, 'n_singletons'] = (cluster_sizes == 1).sum()\n",
    "        table_df.loc[dims_, 'mean_cluster_size'] = cluster_sizes.mean()\n",
    "        table_df.loc[dims_, 'max_cluster_size'] = cluster_sizes.max()\n",
    "        # table_df.loc[dims_, 'adjusted_rand_score'] = adjusted_rand_score(reference_cluster_df.cluster_id, cluster_df.cluster_id)\n",
    "        table_df.loc[dims_, 'adjusted_mutual_info_score'] = adjusted_mutual_info_score(reference_cluster_df.cluster_id, cluster_df.cluster_id)\n",
    "    return table_df\n",
    "\n",
    "table_1()\n",
    "\n",
    "# My clustering approach generates singleton clusters when it has a hard time separating spurious from real clusters, due to the \n",
    "# \"largest_non_homogenous\" bisecting condition. The fact that lower-dimensional space results in more singletons therefore means\n",
    "# that PCA reduction loses some key features which help identify similar embeddings. "
   ]
  },
  {
   "cell_type": "code",
   "execution_count": 65,
   "metadata": {},
   "outputs": [
    {
     "name": "stderr",
     "output_type": "stream",
     "text": [
      "get_figure_1_data: Computing alignment data for each cluster.: 100%|██████████| 10000/10000 [05:19<00:00, 31.34it/s]\n"
     ]
    }
   ],
   "source": [
    "def get_cluster_sequence_identities(dataset_df:pd.DataFrame, cluster_id:int, shuffle:bool=False):\n",
    "    cluster_ids = dataset_df.cluster_id.values.copy()\n",
    "    if shuffle:\n",
    "        np.random.shuffle(cluster_ids)\n",
    "    cluster_idxs = np.where(cluster_ids == cluster_id)[0]\n",
    "    if len(cluster_idxs) == 1:\n",
    "        return None\n",
    "    return np.array([matrix[i, j] for i, j in itertools.combinations(cluster_idxs, 2)])\n",
    "\n",
    "\n",
    "def get_figure_1_data(dataset_df:pd.DataFrame, path:str='../data/figures/cluster-figure_1.csv'):\n",
    "\n",
    "    figure_df = list()\n",
    "    \n",
    "    n_clusters = dataset_df.cluster_id.nunique()\n",
    "    for cluster_id in tqdm(range(n_clusters), 'get_figure_1_data: Computing alignment data for each cluster.'):\n",
    "        row = {'cluster_id':cluster_id}\n",
    "        sequence_identities = get_cluster_sequence_identities(dataset_df, cluster_id)\n",
    "        if sequence_identities is not None:\n",
    "            row.update({'mean_sequence_identity':sequence_identities.mean(), 'min_sequence_identity':sequence_identities.min(), 'max_sequence_identity':sequence_identities.max()})\n",
    "        sequence_identities = get_cluster_sequence_identities(dataset_df, cluster_id, shuffle=True)\n",
    "        if sequence_identities is not None:\n",
    "            row.update({'mean_sequence_identity_baseline':sequence_identities.mean(), 'min_sequence_identity_baseline':sequence_identities.min(), 'max_sequence_baseline':sequence_identities.max()})\n",
    "        figure_df.append(row)\n",
    "\n",
    "    figure_df = pd.DataFrame(figure_df).set_index('cluster_id')\n",
    "    figure_df.to_csv(path)\n",
    "\n",
    "get_figure_1_data(dataset_df)"
   ]
  },
  {
   "cell_type": "code",
   "execution_count": null,
   "metadata": {},
   "outputs": [
    {
     "data": {
      "image/png": "[encoded data removed]",
      "text/plain": [
       "<Figure size 640x480 with 1 Axes>"
      ]
     },
     "metadata": {},
     "output_type": "display_data"
    }
   ],
   "source": [
    "def figure_1(dataset_df:pd.DataFrame, path:str=None):\n",
    "\n",
    "    fig, ax = plt.subplots()\n",
    "\n",
    "    ax_df = pd.read_csv('../data/figures/cluster-figure_1.csv', index_col=0)\n",
    "    ax_df['label'] = dataset_df.groupby('cluster_id').label.first()\n",
    "\n",
    "    sns.ecdfplot(x=ax_df.mean_sequence_identity, color='black', ax=ax, label='baseline')\n",
    "    sns.ecdfplot(x=ax_df[ax_df.label == 0].mean_sequence_identity, color='indianred', ax=ax, label='spurious_clusters')\n",
    "    sns.ecdfplot(x=ax_df[ax_df.label == 1].mean_sequence_identity, color='darkseagreen', ax=ax, label='real_clusters')\n",
    "    sns.ecdfplot(x=ax_df.mean_sequence_identity_baseline, color='gray', ax=ax, label='clustering')\n",
    "    ax.legend()\n",
    "    ax.set_ylabel('proportion')\n",
    "    plt.show()\n",
    "\n",
    "figure_1(dataset_df)\n",
    "\n"
   ]
  },
  {
   "cell_type": "code",
   "execution_count": 74,
   "metadata": {},
   "outputs": [
    {
     "data": {
      "image/png": "[encoded data removed]",
      "text/plain": [
       "<Figure size 640x480 with 1 Axes>"
      ]
     },
     "metadata": {},
     "output_type": "display_data"
    }
   ],
   "source": [
    "def figure(dataset_df:pd.DataFrame):\n",
    "    fig, ax = plt.subplots()\n",
    "\n",
    "    ax_df = pd.DataFrame(index=pd.Index(dataset_df.cluster_id.unique(), name='cluster_id'))\n",
    "    ax_df['cluster_size'] = dataset_df.groupby('cluster_id').apply(len, include_groups=False)\n",
    "    ax_df['label'] = dataset_df.groupby('cluster_id').label.first()\n",
    "\n",
    "    palette = {0:'indianred', 1:'darkseagreen'}\n",
    "    sns.histplot(data=ax_df, hue='label', ax=ax, palette=palette, x='cluster_size', multiple='dodge', stat='proportion', common_norm=False) # , binwidth=0.5)\n",
    "    ax.set_ylabel('proportion')\n",
    "\n",
    "    plt.show()\n",
    "\n",
    "figure(dataset_df)"
   ]
  }
 ],
 "metadata": {
  "kernelspec": {
   "display_name": "frugal",
   "language": "python",
   "name": "python3"
  },
  "language_info": {
   "codemirror_mode": {
    "name": "ipython",
    "version": 3
   },
   "file_extension": ".py",
   "mimetype": "text/x-python",
   "name": "python",
   "nbconvert_exporter": "python",
   "pygments_lexer": "ipython3",
   "version": "3.13.2"
  }
 },
 "nbformat": 4,
 "nbformat_minor": 2
}
