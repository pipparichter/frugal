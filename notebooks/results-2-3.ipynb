{
 "cells": [
  {
   "cell_type": "code",
   "execution_count": null,
   "id": "fa850800",
   "metadata": {},
   "outputs": [],
   "source": [
    "# CLAIM: Model does not detect nested gene pairs. "
   ]
  },
  {
   "cell_type": "code",
   "execution_count": 47,
   "id": "098ee36e",
   "metadata": {},
   "outputs": [
    {
     "name": "stdout",
     "output_type": "stream",
     "text": [
      "The autoreload extension is already loaded. To reload it, use:\n",
      "  %reload_ext autoreload\n"
     ]
    }
   ],
   "source": [
    "import pandas as pd\n",
    "from utils import *  \n",
    "import os \n",
    "import numpy as np \n",
    "from scipy.stats.contingency import expected_freq\n",
    "import re\n",
    "from src.reference import annotate\n",
    "from src.files import BLASTJsonFile\n",
    "import seaborn as sns\n",
    "from scipy.stats import chisquare\n",
    "\n",
    "%load_ext autoreload \n",
    "%autoreload 2\n"
   ]
  },
  {
   "cell_type": "code",
   "execution_count": null,
   "id": "f51becac",
   "metadata": {},
   "outputs": [],
   "source": [
    "def write_csv(df:pd.DataFrame, path:str=None):\n",
    "    columns = ['species', 'genome_id', 'top_hit_protein_id', 'top_hit_product', 'top_hit_evidence_type', 'length', 'top_hit_length', 'top_hit_spurious']\n",
    "    df[columns].to_csv(path)\n",
    "    print(f'write_csv: Wrote {len(df)} sequences to {path}.')"
   ]
  },
  {
   "cell_type": "code",
   "execution_count": 91,
   "id": "9f836a21",
   "metadata": {},
   "outputs": [],
   "source": [
    "dataset_df = pd.read_csv('../data/results/results-2/dataset.csv', index_col=0)\n",
    "\n",
    "dataset_df = annotate(dataset_df)\n",
    "dataset_df['top_hit_hypothetical'] = dataset_df.top_hit_product == 'hypothetical protein'\n",
    "dataset_df['query_codon_start'] = 1\n",
    "dataset_df['query_id'] = dataset_df.index\n",
    "dataset_df['query_product'] = 'hypothetical protein'\n",
    "# dataset_df['query_rbs_motif'] = ~(dataset_df.query_rbs_motif.str.contains('T') |( dataset_df.query_rbs_motif == 'none'))\n",
    "dataset_df['query_seq'] = dataset_df.seq\n",
    "dataset_df['query_length'] = dataset_df.seq.apply(len) # Make sure these are in units of amino acids. \n",
    "dataset_df['top_hit_length'] = dataset_df.top_hit_seq.apply(len) # Make sure these are in units of amino acids. \n",
    "dataset_df['top_hit_id'] = dataset_df.top_hit_protein_id\n",
    "dataset_df['top_hit_gc_content'] = dataset_df.top_hit_nt_seq.apply(get_gc_content)\n",
    "\n",
    "# Exclude genomes on which Prodigal did horrifically (I think I needed to use a different translation table). \n",
    "# Also, one of the excluded genomes belongs to an endosymbiont which is not assigned a phylum.\n",
    "exclude_genome_ids = ['GCF_029854295.1', 'GCF_021057185.1', 'GCF_016097415.1'] \n",
    "dataset_df = dataset_df[~dataset_df.genome_id.isin(exclude_genome_ids)].copy()"
   ]
  },
  {
   "cell_type": "code",
   "execution_count": 97,
   "id": "14133d7f",
   "metadata": {},
   "outputs": [],
   "source": [
    "threshold = 0.9\n",
    "\n",
    "results_df = pd.read_csv('../data/results/results-2/dataset_predict.csv', index_col=0)\n",
    "results_df.columns = [col.replace('_v2', '') for col in results_df.columns]\n",
    "results_df = results_df.merge(dataset_df, left_index=True, right_index=True, how='inner')\n",
    "results_df['spurious'] = np.where(results_df.model_output_0 > threshold, True, False)\n",
    "results_df['real'] = np.where(results_df.model_output_1 > threshold, True, False)\n",
    "results_df['uncertain'] = ~results_df.real & ~results_df.spurious\n",
    "results_df['model_label'] = np.select([results_df.real, results_df.spurious.values, results_df.uncertain.values], ['real', 'spurious', 'uncertain'], default='none')\n",
    "\n",
    "top_hit_results_df = pd.read_csv('../data/results/results-2/top_hits_predict.csv', index_col=0)\n",
    "top_hit_results_df.columns = [col.replace('_v2', '') for col in top_hit_results_df.columns]\n",
    "top_hit_results_df = top_hit_results_df[~top_hit_results_df.index.duplicated(keep='first')].copy()\n",
    "top_hit_results_df['spurious'] = np.where(top_hit_results_df.model_output_0 > threshold, True, False)\n",
    "top_hit_results_df['real'] = np.where(top_hit_results_df.model_output_1 > threshold, True, False)\n",
    "top_hit_results_df['uncertain'] = ~top_hit_results_df.real & ~top_hit_results_df.spurious\n",
    "top_hit_results_df['model_label'] = np.select([top_hit_results_df.real, top_hit_results_df.spurious.values, top_hit_results_df.uncertain.values], ['real', 'spurious', 'uncertain'], default='none')\n",
    "\n",
    "\n",
    "with pd.option_context('future.no_silent_downcasting', True):\n",
    "    for field in ['model_label', 'model_output_1', 'model_output_0', 'real', 'spurious', 'uncertain']:\n",
    "        results_df[f'query_{field}'] = results_df[field]\n",
    "        results_df[f'top_hit_{field}'] = results_df.top_hit_protein_id.map(top_hit_results_df[field])"
   ]
  },
  {
   "cell_type": "code",
   "execution_count": 99,
   "id": "3224222e",
   "metadata": {},
   "outputs": [
    {
     "name": "stdout",
     "output_type": "stream",
     "text": [
      "write_csv: Wrote 76 sequences to ../data/results/results-2/conflict_nested.csv.\n",
      "write_fasta: Wrote 170 sequences to ../data/results/results-2/conflict_nested.faa\n"
     ]
    }
   ],
   "source": [
    "nested_fragmented_ids = ['NZ_AP025523.1_333', 'NZ_AP025523.1_686', 'NZ_AP025523.1_1533', 'NZ_AP025523.1_3060', 'NZ_CP065383.1_468', 'NZ_NIGF01000018.1_4', 'NZ_NIGF01000027.1_4', 'NZ_NIGF01000006.1_140', 'NC_014960.1_581']\n",
    "\n",
    "write_csv(results_df[is_nested_cds_conflict(results_df) & ~(results_df.index.isin(nested_fragmented_ids))], path='../data/results/results-2/conflict_nested.csv')\n",
    "write_fasta(results_df[is_nested_cds_conflict(results_df)], path='../data/results/results-2/conflict_nested.faa', add_top_hit=True)"
   ]
  },
  {
   "cell_type": "code",
   "execution_count": 93,
   "id": "2e09d3f5",
   "metadata": {},
   "outputs": [
    {
     "name": "stdout",
     "output_type": "stream",
     "text": [
      "Num. nested conflicts: 85\n"
     ]
    }
   ],
   "source": [
    "def get_nested_results(results_df):\n",
    "    results_df = results_df[is_cds_conflict(results_df) & (results_df.overlap_type == 'nested')].copy()\n",
    "    results_df['query_nested'] = results_df.query_length < results_df.top_hit_length\n",
    "    \n",
    "    df = pd.DataFrame(index=results_df.index)\n",
    "\n",
    "    fields = [col.replace('query_', '') for col in results_df.columns if (('query' in col) and (col != 'query_nested'))]\n",
    "    fields = np.intersect1d([col.replace('top_hit_', '') for col in results_df.columns if ('top_hit' in col)], fields)\n",
    "    # print(fields)\n",
    "\n",
    "    for field in fields:\n",
    "        df[f'parent_{field}'] = np.where(results_df.query_nested, results_df[f'top_hit_{field}'], results_df[f'query_{field}'])\n",
    "        df[f'daughter_{field}'] = np.where(results_df.query_nested, results_df[f'query_{field}'], results_df[f'top_hit_{field}'])\n",
    "    df['overlap_length'] = results_df.overlap_length\n",
    "    df['same_strand'] = results_df.same_strand\n",
    "    return df \n",
    "\n",
    "results_df = get_nested_results(results_df)\n",
    "print('Num. nested conflicts:', len(results_df))"
   ]
  },
  {
   "cell_type": "code",
   "execution_count": 76,
   "id": "9ac36511",
   "metadata": {},
   "outputs": [
    {
     "name": "stdout",
     "output_type": "stream",
     "text": [
      "Num. parent and daughter spurious: 13\n",
      "Num. parent and daughter real: 9\n",
      "Num. parent real and daughter spurious: 32\n",
      "Num. parent spurious daughter real: 13\n"
     ]
    }
   ],
   "source": [
    "print('Num. parent and daughter spurious:', (results_df.daughter_spurious & results_df.parent_spurious).sum())\n",
    "print('Num. parent and daughter real:', (results_df.daughter_real & results_df.parent_real).sum())\n",
    "print('Num. parent real and daughter spurious:', (results_df.daughter_spurious & results_df.parent_real).sum())\n",
    "print('Num. parent spurious daughter real:', (results_df.daughter_real & results_df.parent_spurious).sum())"
   ]
  },
  {
   "cell_type": "code",
   "execution_count": null,
   "id": "f4be366c",
   "metadata": {},
   "outputs": [],
   "source": []
  }
 ],
 "metadata": {
  "language_info": {
   "name": "python"
  }
 },
 "nbformat": 4,
 "nbformat_minor": 5
}
