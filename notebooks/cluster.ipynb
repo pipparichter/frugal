{
 "cells": [
  {
   "cell_type": "code",
   "execution_count": 1,
   "metadata": {},
   "outputs": [],
   "source": [
    "import pandas as pd \n",
    "import numpy as np \n",
    "import matplotlib.pyplot as plt\n",
    "from src.tools import MMSeqs\n",
    "from sklearn.metrics import normalized_mutual_info_score, mutual_info_score, adjusted_mutual_info_score\n",
    "\n",
    "%load_ext autoreload\n",
    "%autoreload 2"
   ]
  },
  {
   "cell_type": "code",
   "execution_count": null,
   "metadata": {},
   "outputs": [],
   "source": []
  },
  {
   "cell_type": "code",
   "execution_count": 2,
   "metadata": {},
   "outputs": [],
   "source": [
    "dataset_df = pd.read_csv('../data/datasets/swissprot/dataset.csv', index_col=0)"
   ]
  },
  {
   "cell_type": "code",
   "execution_count": 4,
   "metadata": {},
   "outputs": [
    {
     "data": {
      "text/plain": [
       "domain\n",
       "Bacteria    259078\n",
       "none         19487\n",
       "Viruses      15941\n",
       "Name: count, dtype: int64"
      ]
     },
     "execution_count": 4,
     "metadata": {},
     "output_type": "execute_result"
    }
   ],
   "source": [
    "dataset_df.domain.value_counts()"
   ]
  },
  {
   "cell_type": "code",
   "execution_count": null,
   "metadata": {},
   "outputs": [],
   "source": [
    "# mmseqs = MMSeqs()\n",
    "# mmseqs_cluster_df = mmseqs.cluster(dataset_df, name='dataset', output_dir='../data/datasets/swissprot', sequence_identity=0.5, overwrite=False)\n",
    "# mmseqs.cleanup()\n",
    "\n",
    "mmseqs_cluster_df = MMSeqs.load_cluster('../data/datasets/swissprot/dataset_cluster_mmseqs.tsv').loc[dataset_df.index]\n",
    "kmeans_cluster_df = pd.read_csv('../data/datasets/swissprot/dataset_cluster_kmeans.csv', index_col=0).loc[dataset_df.index]"
   ]
  },
  {
   "cell_type": "code",
   "execution_count": 41,
   "metadata": {},
   "outputs": [
    {
     "data": {
      "text/plain": [
       "np.float64(0.2076523047432236)"
      ]
     },
     "execution_count": 41,
     "metadata": {},
     "output_type": "execute_result"
    }
   ],
   "source": [
    "# normalized_mutual_info_score(kmeans_cluster_df.cluster_id, mmseqs_cluster_df.cluster_id)\n",
    "adjusted_mutual_info_score(kmeans_cluster_df.cluster_id, mmseqs_cluster_df.cluster_id)"
   ]
  },
  {
   "cell_type": "code",
   "execution_count": 33,
   "metadata": {},
   "outputs": [],
   "source": [
    "mmseqs_cluster_df['label'] = dataset_df['label']\n",
    "mmseqs_cluster_df['lineage'] = dataset_df['lineage']\n",
    "\n",
    "kmeans_cluster_df['label'] = dataset_df['label']\n",
    "kmeans_cluster_df['lineage'] = dataset_df['lineage']"
   ]
  },
  {
   "cell_type": "code",
   "execution_count": null,
   "metadata": {},
   "outputs": [],
   "source": [
    "def get_cluster_metadata(cluster_df:pd.DataFrame):\n",
    "    cluster_metadata_df = list()\n",
    "    for cluster_id, df in cluster_df.groupby('cluster_id'):\n",
    "        row = dict()\n",
    "        row['singleton'] = (len(df) == 1)\n",
    "        row['homogenous'] = (df.label.nunique() == 1)\n",
    "        row['cluster_id'] = cluster_id \n",
    "        row['size'] = len(df)\n",
    "        row['n_taxa'] = df.lineage.nunique()\n",
    "        cluster_metadata_df.append(row)\n",
    "    cluster_metadata_df = pd.DataFrame(cluster_metadata_df).set_index('cluster_id')\n",
    "    return cluster_metadata_df\n",
    "\n",
    "mmseqs_cluster_metadata_df = get_cluster_metadata(mmseqs_cluster_df)\n",
    "kmeans_cluster_metadata_df = get_cluster_metadata(kmeans_cluster_df)"
   ]
  },
  {
   "cell_type": "code",
   "execution_count": null,
   "metadata": {},
   "outputs": [
    {
     "data": {
      "text/html": [
       "<div>\n",
       "<style scoped>\n",
       "    .dataframe tbody tr th:only-of-type {\n",
       "        vertical-align: middle;\n",
       "    }\n",
       "\n",
       "    .dataframe tbody tr th {\n",
       "        vertical-align: top;\n",
       "    }\n",
       "\n",
       "    .dataframe thead th {\n",
       "        text-align: right;\n",
       "    }\n",
       "</style>\n",
       "<table border=\"1\" class=\"dataframe\">\n",
       "  <thead>\n",
       "    <tr style=\"text-align: right;\">\n",
       "      <th></th>\n",
       "      <th>n_clusters</th>\n",
       "      <th>mean_size</th>\n",
       "      <th>max_size</th>\n",
       "      <th>n_singleton</th>\n",
       "      <th>n_homogenous</th>\n",
       "      <th>mean_n_taxa</th>\n",
       "      <th>max_n_taxa</th>\n",
       "    </tr>\n",
       "  </thead>\n",
       "  <tbody>\n",
       "    <tr>\n",
       "      <th>mmseqs</th>\n",
       "      <td>64591</td>\n",
       "      <td>4.559552</td>\n",
       "      <td>840</td>\n",
       "      <td>41997</td>\n",
       "      <td>64545</td>\n",
       "      <td>2.701119</td>\n",
       "      <td>335</td>\n",
       "    </tr>\n",
       "    <tr>\n",
       "      <th>kmeans</th>\n",
       "      <td>50000</td>\n",
       "      <td>5.89012</td>\n",
       "      <td>12</td>\n",
       "      <td>6642</td>\n",
       "      <td>50000</td>\n",
       "      <td>3.68082</td>\n",
       "      <td>12</td>\n",
       "    </tr>\n",
       "  </tbody>\n",
       "</table>\n",
       "</div>"
      ],
      "text/plain": [
       "       n_clusters mean_size max_size n_singleton n_homogenous mean_n_taxa  \\\n",
       "mmseqs      64591  4.559552      840       41997        64545    2.701119   \n",
       "kmeans      50000   5.89012       12        6642        50000     3.68082   \n",
       "\n",
       "       max_n_taxa  \n",
       "mmseqs        335  \n",
       "kmeans         12  "
      ]
     },
     "execution_count": 36,
     "metadata": {},
     "output_type": "execute_result"
    }
   ],
   "source": [
    "def table_1(kmeans_cluster_metadata_df, mmseqs_cluster_metadata_df):\n",
    "\n",
    "    cols = ['n_clusters', 'mean_size', 'max_size', 'n_singleton', 'n_homogenous', 'mean_n_taxa', 'max_n_taxa']\n",
    "    table_df = pd.DataFrame(index=['mmseqs', 'kmeans'], columns=cols)\n",
    "\n",
    "    for strategy, df in {'kmeans':kmeans_cluster_metadata_df, 'mmseqs':mmseqs_cluster_metadata_df}.items():\n",
    "        table_df.loc[strategy, 'n_clusters'] = len(df)\n",
    "        table_df.loc[strategy, 'mean_size'] = df['size'].mean()\n",
    "        table_df.loc[strategy, 'max_size'] = df['size'].max()\n",
    "        table_df.loc[strategy, 'n_singleton'] = df.singleton.sum()\n",
    "        table_df.loc[strategy, 'n_homogenous'] = df.homogenous.sum()\n",
    "        table_df.loc[strategy, 'mean_n_taxa'] = df.n_taxa.mean()\n",
    "        table_df.loc[strategy, 'max_n_taxa'] = df.n_taxa.max()\n",
    "    \n",
    "    return table_df\n",
    "\n",
    "table_1(kmeans_cluster_metadata_df, mmseqs_cluster_metadata_df)\n"
   ]
  },
  {
   "cell_type": "code",
   "execution_count": null,
   "metadata": {},
   "outputs": [],
   "source": []
  }
 ],
 "metadata": {
  "kernelspec": {
   "display_name": "frugal",
   "language": "python",
   "name": "python3"
  },
  "language_info": {
   "codemirror_mode": {
    "name": "ipython",
    "version": 3
   },
   "file_extension": ".py",
   "mimetype": "text/x-python",
   "name": "python",
   "nbconvert_exporter": "python",
   "pygments_lexer": "ipython3",
   "version": "3.13.2"
  }
 },
 "nbformat": 4,
 "nbformat_minor": 2
}
