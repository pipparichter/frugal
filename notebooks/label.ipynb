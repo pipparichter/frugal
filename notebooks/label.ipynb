{
 "cells": [
  {
   "cell_type": "code",
   "execution_count": 1,
   "metadata": {},
   "outputs": [],
   "source": [
    "import pandas as pd \n",
    "import numpy as np \n",
    "from utils import * \n",
    "from src import get_genome_id\n",
    "import os\n",
    "from src.files import FASTAFile, InterProScanFile\n",
    "import subprocess\n",
    "from src.labeler import Labeler\n",
    "from Bio.Align import PairwiseAligner\n",
    "\n",
    "%load_ext autoreload\n",
    "%autoreload 2"
   ]
  },
  {
   "cell_type": "code",
   "execution_count": 2,
   "metadata": {},
   "outputs": [],
   "source": [
    "# I think the approach I will take is to be more strict about what I am considering real, and also handle pseudogenes separately. \n",
    "\n",
    "# To consider a sequence to be a true match, I will look at Prodigal sequences which are in-frame with non-pseudo reference sequences. \n",
    "# I don't want to require similar lengths (because this will miss the selenoproteins), but should perhaps check by comparing sequence\n",
    "# identities. I will not consider any matches which are matches to suspect sequences. \n",
    "\n",
    "# For the pseudogenes, I will need to consider both in-frame and not in-frame hits. I should check, but I am assuming that every Prodigal-\n",
    "# predicted sequence that is a translated component of a pseudogene should have query_overlap_fraction of 1. Also, will still need to require\n",
    "# them being on the same strand. As a final check, I will run InterProScan\n",
    "\n",
    "# I will run InterProScan on all intergenic sequences, and take those with AntiFam annotations to be spurious. I am hesitant to classify anything\n",
    "# with no InterPro label as non-spurious, as I don't fully trust InterPro to capture everything. \n",
    "\n",
    "# Sequences that conflict with non-pseudo coding sequences and RNA genes are also potentially spurious. I will also run InterPro on the conflicts, and\n",
    "# take anything which cannot be assigned an annotation, or is annotated as AntiFam. \n",
    "\n",
    "# Ultimately, going to want to run InterPro analysis on (1) potential pseudogene matches, (2) intergenic sequences, (3), conflicts. \n",
    "\n",
    "# I think I might want to write code to manually validate the pseudogene hits. \n",
    "\n",
    "# Maybe I should include the conflicting sequences with hypothetical sequences in the InterPro analysis?"
   ]
  },
  {
   "cell_type": "code",
   "execution_count": null,
   "metadata": {},
   "outputs": [
    {
     "name": "stdout",
     "output_type": "stream",
     "text": [
      "Labeler.__init__: 222 out of 2282 sequences have suspect top hits and are being removed.\n",
      "Labeler._label_interpro: 2 out of 8 conflict sequences have no InterProScan hit.\n",
      "Labeler._label_interpro: 6 out of 6 conflict sequences have an AntiFam InterProScan hit.\n",
      "Labeler._label_interpro: 0 out of 16 match sequences have no InterProScan hit.\n",
      "Labeler._label_interpro: 0 out of 16 match sequences have an AntiFam InterProScan hit.\n",
      "Labeler._label_match: 1929 out of 2021 sequences have exact boundary matches.\n"
     ]
    },
    {
     "name": "stderr",
     "output_type": "stream",
     "text": [
      "get_alignment_scores: 100%|██████████| 92/92 [00:00<00:00, 396.93it/s]\n"
     ]
    },
    {
     "name": "stdout",
     "output_type": "stream",
     "text": [
      "Labeler._label_match: 92 out of 92 sequences meet the minimum alignment score threshold of 1.\n",
      "Labeler._label_interpro: 14 out of 15 intergenic sequences have no InterProScan hit.\n",
      "Labeler._label_interpro: 0 out of 1 intergenic sequences have an AntiFam InterProScan hit.\n",
      "Labeler._label_auto: Automatically labeled 2027 sequences. 2060 could not be automatically-assigned labels.\n",
      "\n",
      "NZ_CP054051.1_49 match\n",
      "query_length: 357 top_hit_length: 348\n",
      "overlap_length: 348 on the same strand\n",
      "top_hit_product: preprotein translocase subunit SecG (pseudogene)\n",
      "interpro: PANTHER PTHR34182 Preprotein translocase SecG subunit IPR004692\n",
      "\n"
     ]
    }
   ],
   "source": [
    "path = '../data/ref/GCF_013372265.1_summary.csv'\n",
    "labeler = Labeler(path)\n",
    "labeler.run()\n",
    "labeler.to_df()\n",
    "\n",
    "# assert ((df.top_hit_seq == 'none') & (~df.top_hit_pseudo) & (df.top_hit_feature == 'CDS')).sum() == 0, 'Expected all non-pseudo CDS genes to have a translated sequence.'\n",
    "# assert ((df.top_hit_seq != 'none') & (df.top_hit_pseudo)).sum() == 0, 'Expected all pseudogenes to have no translated sequence.'\n"
   ]
  },
  {
   "cell_type": "code",
   "execution_count": null,
   "metadata": {},
   "outputs": [],
   "source": []
  }
 ],
 "metadata": {
  "kernelspec": {
   "display_name": "tripy",
   "language": "python",
   "name": "python3"
  },
  "language_info": {
   "codemirror_mode": {
    "name": "ipython",
    "version": 3
   },
   "file_extension": ".py",
   "mimetype": "text/x-python",
   "name": "python",
   "nbconvert_exporter": "python",
   "pygments_lexer": "ipython3",
   "version": "3.13.2"
  }
 },
 "nbformat": 4,
 "nbformat_minor": 2
}
