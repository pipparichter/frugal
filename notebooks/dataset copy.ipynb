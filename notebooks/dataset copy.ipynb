{
 "cells": [
  {
   "cell_type": "code",
   "execution_count": 1,
   "metadata": {},
   "outputs": [],
   "source": [
    "import pandas as pd \n",
    "import numpy as np \n",
    "import src.tools.download as download\n",
    "from src import get_sequence_identities\n",
    "from src.tools import MMSeqs, Prodigal\n",
    "from src.tools.prodigal import remove_asterisks\n",
    "from src.dataset import Dataset\n",
    "from src.files import FASTAFile, XMLFile, InterProScanFile\n",
    "from src.reference import Reference\n",
    "from src.clusterer import Clusterer\n",
    "from tqdm import tqdm\n",
    "import os\n",
    "import subprocess\n",
    "import json \n",
    "from src.reference import compare\n",
    "import seaborn as sns\n",
    "from src import fillna \n",
    "import matplotlib.pyplot as plt\n",
    "import matplotlib.ticker as tick \n",
    "from utils import * \n",
    "import re\n",
    "\n",
    "%load_ext autoreload\n",
    "%autoreload 2\n",
    "\n",
    "# Downloaded AntiFam-annotated sequences from InterPro on 04.08.2025.   \n",
    "\n",
    "# TODO: There are partial sequences in the training dataset (at least in the spurious class). I am not sure if these are a good idea to\n",
    "#   include, as there are no partial translations from Prodigal (except sometimes on the edges). How much does start codon value\n",
    "#   affect the embedding?\n",
    "# TODO: Should remind myself how I got all of the genome metadata. I think I just downloaded directly from the NCBI Datasets website.\n",
    "# TODO: What proportion of PGAP-annotated genomes rely on ab initio evidence?"
   ]
  },
  {
   "cell_type": "code",
   "execution_count": 75,
   "metadata": {},
   "outputs": [
    {
     "name": "stderr",
     "output_type": "stream",
     "text": [
      "XMLFile.get_features: Parsing XML file.: 3222115it [00:10, 305688.69it/s]\n"
     ]
    }
   ],
   "source": [
    "features = XMLFile.get_features('../data/antifam_interpro.xml')"
   ]
  },
  {
   "cell_type": "code",
   "execution_count": 78,
   "metadata": {},
   "outputs": [
    {
     "data": {
      "text/plain": [
       "{'DNA-binding region',\n",
       " 'active site',\n",
       " 'binding site',\n",
       " 'compositionally biased region',\n",
       " 'disulfide bond',\n",
       " 'domain',\n",
       " 'lipid moiety-binding region',\n",
       " 'modified residue',\n",
       " 'region of interest',\n",
       " 'repeat',\n",
       " 'short sequence motif',\n",
       " 'site',\n",
       " 'transmembrane region',\n",
       " 'unsure residue'}"
      ]
     },
     "execution_count": 78,
     "metadata": {},
     "output_type": "execute_result"
    }
   ],
   "source": [
    "set(feature[0] for feature in features)"
   ]
  },
  {
   "cell_type": "code",
   "execution_count": null,
   "metadata": {},
   "outputs": [
    {
     "name": "stdout",
     "output_type": "stream",
     "text": [
      "merge_xml: Cleaned-up XML file written to ../data/antifam_interpro.xml\n"
     ]
    }
   ],
   "source": [
    "def merge_xml(path:str, output_path:str=None):\n",
    "    '''When the XML entries are downloaded in chunks, the XMLTree parser freaks out (\"Extra content at the end of document\" error).\n",
    "    Need to make sure there is only one XML declaration line (e.g., \"<?xml version=\"1.0\" encoding=\"UTF-8\"  standalone=\"no\" ?>\") at \n",
    "    the top of the file, and only one root node (with the \"uniprot\" tag).'''\n",
    "    with open(path, 'r') as f:\n",
    "        lines = f.readlines()\n",
    "    n_lines = len(lines)\n",
    "    remove_line = lambda i, line : ((i > 0) and ('<?xml' in line)) or ((i < (n_lines - 1)) and ('</uniprot>' in line) or ((i > 1)) and ('<uniprot' in line))\n",
    "    lines = [line for i, line in enumerate(lines) if (not remove_line(i, line))]\n",
    "    with open(output_path, 'w') as f:\n",
    "        f.write(''.join(lines))\n",
    "    print(f'merge_xml: Cleaned-up XML file written to {output_path}')"
   ]
  },
  {
   "cell_type": "code",
   "execution_count": null,
   "metadata": {},
   "outputs": [],
   "source": [
    "def get_interpro_antifam():\n",
    "\n",
    "    antifam = download.AntiFam()\n",
    "    antifam.get_antifam_ids('../data/antifam_ids.json')\n",
    "    with open('../data/antifam_ids.json', 'r') as f:\n",
    "        antifam_ids = json.load(f)\n",
    "        antifam_ids = [entry['id'] for entry in antifam_ids]\n",
    "    antifam.get_proteins(antifam_ids=antifam_ids, path='../data/_antifam_interpro.csv')\n",
    "    antifam_df = pd.read_csv('../data/_antifam_interpro.csv', index_col=0)\n",
    "\n",
    "    uniprot = download.UniProt()\n",
    "    uniprot.get_proteins(antifam_df.index, format_='xml', chunk_size=50, path='../data/antifam_interpro.xml')\n",
    "    merge_xml('../data/antifam_interpro.xml', output_path='../data/antifam_interpro.xml')\n",
    "\n",
    "    XMLFile('../data/antifam_interpro.xml').to_df().to_csv('../data/antifam_interpro.csv')\n",
    "\n",
    "    antifam_df = pd.read_csv('../data/antifam_interpro.csv', index_col=0)\n",
    "    bacteria_antifam_df = antifam_df[antifam_df.domain == 'Bacteria'].copy()\n",
    "    bacteria_antifam_df.to_csv('../data/antifam_interpro_bacteria.csv')"
   ]
  },
  {
   "cell_type": "code",
   "execution_count": null,
   "metadata": {},
   "outputs": [
    {
     "name": "stderr",
     "output_type": "stream",
     "text": [
      "XMLFile.__init__: Parsing XML file, row 17909.: : 2418316it [00:36, 66446.12it/s]\n"
     ]
    }
   ],
   "source": [
    "def get_uniprot_antifam():\n",
    "    # Obtained bacterial sequences with an AntiFam database hit directly from the UniProt website on 04.08.2025. \n",
    "    bacteria_antifam_df = XMLFile('../data/antifam_uniprot_bacteria.xml').to_df()\n",
    "    bacteria_antifam_df.to_csv('../data/antifam_uniprot_bacteria.csv')"
   ]
  },
  {
   "cell_type": "code",
   "execution_count": 13,
   "metadata": {},
   "outputs": [],
   "source": [
    "# There are some sequences which are annotated with AntiFam in UniProt, and others in the InterPro database which \n",
    "# are marked as AntiFam, but are not marked as AntiFam in UniProt. \n",
    "\n",
    "bacteria_antifam_df = pd.read_csv('../data/antifam_uniprot_bacteria.csv', index_col=0)\n",
    "bacteria_antifam_df = pd.concat([bacteria_antifam_df, pd.read_csv('../data/antifam_interpro_bacteria.csv', index_col=0)])\n",
    "bacteria_antifam_df = bacteria_antifam_df[~bacteria_antifam_df.index.duplicated(keep='first')]\n",
    "\n",
    "bacteria_antifam_df.to_csv('../data/antifam_bacteria.csv')\n",
    "FASTAFile(df=bacteria_antifam_df).write('../data/antifam_bacteria.faa')"
   ]
  },
  {
   "cell_type": "code",
   "execution_count": 89,
   "metadata": {},
   "outputs": [
    {
     "name": "stdout",
     "output_type": "stream",
     "text": [
      "Total: 23163\n",
      "Total with annotations: 23066\n",
      "Total annotated with AntiFam: 23039\n",
      "Total with AntiFam as only annotation: 20405\n",
      "Total with AntiFam as top annotation: 21738\n"
     ]
    }
   ],
   "source": [
    "bacteria_antifam_annotation_df = InterProScanFile('../data/interpro/antifam_bacteria_annotation.tsv').to_df(drop_duplicates=False)\n",
    "include_analyses = ['Pfam', 'NCBIfam', 'PANTHER', 'SUPERFAMILY', 'Gene3D', 'FunFam', 'ProSiteProfiles', 'Hamap', 'PIRSR', 'SFLD', 'ProSitePatterns', 'AntiFam', 'CDD']\n",
    "bacteria_antifam_annotation_df = bacteria_antifam_annotation_df[bacteria_antifam_annotation_df.interpro_analysis.isin(include_analyses)].copy()\n",
    "\n",
    "print('Total:', len(bacteria_antifam_df))\n",
    "print('Total with annotations:', bacteria_antifam_annotation_df.index.nunique())\n",
    "\n",
    "include_ids = list()\n",
    "n_antifam_only, n_antifam_top_hit, n_antifam = 0, 0, 0\n",
    "for id_, df in bacteria_antifam_annotation_df.groupby(bacteria_antifam_annotation_df.index):\n",
    "    df = df.sort_values('interpro_e_value')\n",
    "    if ('AntiFam' in df.interpro_analysis.values):\n",
    "        n_antifam += 1\n",
    "    if df.interpro_analysis.iloc[0] == 'AntiFam':\n",
    "        n_antifam_top_hit += 1\n",
    "    if np.all(df.interpro_analysis == 'AntiFam'):\n",
    "        n_antifam_only += 1\n",
    "        include_ids.append(id_) \n",
    "\n",
    "exclude_ids = bacteria_antifam_df.index[~bacteria_antifam_df.index.isin(include_ids)].values\n",
    "\n",
    "print('Total annotated with AntiFam:', n_antifam)\n",
    "print('Total with AntiFam as only annotation:', n_antifam_only)\n",
    "print('Total with AntiFam as top annotation:', n_antifam_top_hit)"
   ]
  },
  {
   "cell_type": "code",
   "execution_count": 94,
   "metadata": {},
   "outputs": [
    {
     "name": "stderr",
     "output_type": "stream",
     "text": [
      "XMLFile.get_features: Parsing XML file.: 0it [1:14:35, ?it/s]\n"
     ]
    },
    {
     "data": {
      "image/png": "[encoded data removed]",
      "text/plain": [
       "<Figure size 640x480 with 1 Axes>"
      ]
     },
     "metadata": {},
     "output_type": "display_data"
    }
   ],
   "source": [
    "def figure(bacteria_antifam_annotation_df:pd.DataFrame, include_ids:list=[]):\n",
    "    fig, ax = plt.subplots()\n",
    "\n",
    "    ax_df = bacteria_antifam_annotation_df[bacteria_antifam_annotation_df.interpro_analysis == 'AntiFam'].copy()\n",
    "    ax_df = ax_df.sort_values('interpro_e_value')\n",
    "    ax_df = ax_df[~ax_df.index.duplicated(keep='first')]\n",
    "\n",
    "    sns.ecdfplot(data=ax_df[ax_df.index.isin(include_ids)], x='interpro_e_value', ax=ax, label='antifam_only', color='steelblue')\n",
    "    sns.ecdfplot(data=ax_df[~ax_df.index.isin(include_ids)], x='interpro_e_value', ax=ax, label='antifam', color='gray')\n",
    "    ax.legend()\n",
    "    ax.set_xscale('log')\n",
    "    ax.set_ylabel('proportion')\n",
    "    plt.show()\n",
    "\n",
    "figure(bacteria_antifam_annotation_df, include_ids=include_ids)"
   ]
  },
  {
   "cell_type": "code",
   "execution_count": 21,
   "metadata": {},
   "outputs": [],
   "source": [
    "# Downloaded SwissProt from the UniProt FTP site on 04.08.2025.\n",
    "if not os.path.exists('../data/swissprot.csv'):\n",
    "    swissprot_df = XMLFile('../data/swissprot.xml').to_df()\n",
    "    swissprot_df.to_csv('../data/swissprot.csv')\n",
    "else:\n",
    "    swissprot_df = pd.read_csv('../data/swissprot.csv', index_col=0)\n",
    "\n",
    "bacteria_swissprot_df = swissprot_df[swissprot_df.domain == 'Bacteria'].copy()\n",
    "bacteria_swissprot_df.to_csv('../data/swissprot_bacteria.csv')\n",
    "bacteria_swissprot_df = bacteria_swissprot_df[~bacteria_swissprot_df.index.duplicated(keep='first')]\n",
    "FASTAFile(df=bacteria_swissprot_df).write('../data/swissprot_bacteria.faa')"
   ]
  },
  {
   "cell_type": "code",
   "execution_count": 3,
   "metadata": {},
   "outputs": [],
   "source": [
    "def filter_length(df:pd.DataFrame, max_length:int=2000, seq_col:str='seq'):\n",
    "    mask = df[seq_col].apply(len) >= max_length\n",
    "    print(f'filter_length: Removing {mask.sum()} sequences exceeding the maximum length of {max_length}.')\n",
    "    df = df[~mask].copy()\n",
    "    return df\n",
    "\n",
    "def filter_duplicate_sequences(df:pd.DataFrame, seq_col:str='seq'):\n",
    "    # There are some duplicate IDs, as the same gene can be present in multiple genomes. Additionally, there are\n",
    "    # some entries for identical sequences which do not have the same ID. This can mess up the bisecting k-means clustering, \n",
    "    # so I decided to remove these instances. \n",
    "    mask = df[seq_col].duplicated(keep='first')\n",
    "    print(f'filter_duplicate_sequences: Removing {mask.sum()} duplicate sequences from the dataset')\n",
    "    df = df[~mask].copy()\n",
    "    return df \n"
   ]
  },
  {
   "cell_type": "code",
   "execution_count": 90,
   "metadata": {},
   "outputs": [
    {
     "name": "stdout",
     "output_type": "stream",
     "text": [
      "build_dataset: Removing 2758 sequences from the dataset.\n",
      "filter_duplicate_sequences: Removing 136496 duplicate sequences from the dataset\n",
      "filter_length: Removing 148 sequences exceeding the maximum length of 2000.\n",
      "build_dataset: Constructed a training dataset with 276590 sequences.\n"
     ]
    }
   ],
   "source": [
    "def build_dataset(swissprot_path:str='../data/swissprot_bacteria.csv', antifam_path:str='../data/antifam_bacteria.csv', exclude_ids:list=[]):\n",
    "    dataset_df = list()\n",
    "    dataset_df += [pd.read_csv(swissprot_path, index_col=0).assign(library_entry_name='swissprot_bacteria', label=1)]\n",
    "    dataset_df += [pd.read_csv(antifam_path, index_col=0).assign(library_entry_name='antifam_bacteria', label=0)]\n",
    "    dataset_df = pd.concat(dataset_df)\n",
    "\n",
    "    print(f'build_dataset: Removing {len(exclude_ids)} sequences from the dataset.')\n",
    "    dataset_df = dataset_df[~dataset_df.index.isin(exclude_ids)]\n",
    "\n",
    "    dataset_df = fillna(dataset_df, rules={str:'none', bool:False, int:0, float:0})\n",
    "    dataset_df = filter_duplicate_sequences(dataset_df)\n",
    "    dataset_df = filter_length(dataset_df)\n",
    "    \n",
    "    # For some reason, some of the taxonomy IDs map to different IDs in the NCBI database. \n",
    "    taxonomy_id_map = {369930:2576905, 1914757:1768011, 32059:477181, 2859001:2842348, 54064:334542}\n",
    "    dataset_df['ncbi_taxonomy_id'] = dataset_df.ncbi_taxonomy_id.replace(taxonomy_id_map)\n",
    "\n",
    "    print(f'build_dataset: Constructed a training dataset with {len(dataset_df)} sequences.')\n",
    "    dataset_df.to_csv('../data/datasets/dataset.csv')\n",
    "\n",
    "build_dataset(exclude_ids=exclude_ids)"
   ]
  },
  {
   "cell_type": "code",
   "execution_count": null,
   "metadata": {},
   "outputs": [
    {
     "name": "stderr",
     "output_type": "stream",
     "text": [
      "NCBI._get_metadata: Downloading metadata.: 100%|██████████| 373/373 [1:50:22<00:00, 17.75s/it]\n"
     ]
    },
    {
     "name": "stdout",
     "output_type": "stream",
     "text": [
      "NCBI.get_taxonomy_metadata: Writing metadata for 7448 taxa to ../data/datasets/dataset_taxonomy_metadata.tsv\n"
     ]
    }
   ],
   "source": [
    "dataset_df = pd.read_csv('../data/datasets/dataset.csv', index_col=0)\n",
    "taxonomy_ids = dataset_df.ncbi_taxonomy_id.unique()\n",
    "# Dowloaded taxonomy metadata from NCBI on 04.08.2025. \n",
    "ncbi = download.NCBI()\n",
    "taxonomy_metadata_df = ncbi.get_taxonomy_metadata(taxonomy_ids, path='../data/datasets/dataset_taxonomy_metadata.tsv')"
   ]
  },
  {
   "cell_type": "code",
   "execution_count": 96,
   "metadata": {},
   "outputs": [],
   "source": [
    "def add_taxonomy_metadata(path:str='../data/datasets/dataset.csv'):\n",
    "    taxonomy_metadata_df = pd.read_csv('../data/datasets/dataset_taxonomy_metadata.tsv', sep='\\t', index_col=0)\n",
    "    cols = ['Phylum name', 'Class name', 'Order name', 'Family name', 'Genus name', 'Species name']\n",
    "\n",
    "    taxonomy_metadata_df = taxonomy_metadata_df[cols]\n",
    "    taxonomy_metadata_df = taxonomy_metadata_df.rename(columns={col:col.split()[0].lower() for col in cols})\n",
    "    taxonomy_metadata_df = fillna(taxonomy_metadata_df)\n",
    "\n",
    "    dataset_df = pd.read_csv(path, index_col=0)\n",
    "    assert np.all(np.isin(dataset_df.ncbi_taxonomy_id.unique(), taxonomy_metadata_df.index)), 'add_taxonomy_metadata: Some taxa are missing in the taxonomy metadata file.'\n",
    "    dataset_df = dataset_df.drop(columns=taxonomy_metadata_df.columns, errors='ignore')\n",
    "    dataset_df = dataset_df.merge(taxonomy_metadata_df, left_on='ncbi_taxonomy_id', right_index=True, how='left')\n",
    "    dataset_df.to_csv(path)\n",
    "\n",
    "add_taxonomy_metadata('../data/datasets/dataset.csv')\n",
    "# add_taxonomy_metadata('../data/datasets/dataset_train.csv')\n",
    "# add_taxonomy_metadata('../data/datasets/dataset_test.csv')\n"
   ]
  },
  {
   "cell_type": "code",
   "execution_count": 2,
   "metadata": {},
   "outputs": [],
   "source": [
    "# Want to try three different kinds of validation:\n",
    "# (1) Model organisms, for which the annotated genomes will be the most reliable, and which have the most experimental support. \n",
    "# (2) Organisms from classes which are heavily-represented in the training data.\n",
    "# (3) Organisms from classes which are not present in the training data. \n",
    "# For case (3), I want to be sure to not include exact species which are present in the traing data. \n",
    "# For all cases, I will limit myself to NCBI reference genomes. \n",
    "\n",
    "dataset_df = pd.read_csv('../data/datasets/dataset.csv', index_col=0)\n",
    "genome_metadata_df = load_ncbi_genome_metadata() # Metadata for all available NCBI reference genomes. \n",
    "\n",
    "family_counts = dataset_df.value_counts('family').sort_values(ascending=False)\n",
    "family_counts = family_counts[family_counts.index.isin(genome_metadata_df.family.unique())]\n",
    "common_families = family_counts.iloc[:10].index # Get the top ten most common families. \n",
    "\n",
    "phyla = dataset_df.phylum.unique()\n",
    "rare_phyla = np.unique([phylum for phylum in genome_metadata_df.phylum if (phylum not in phyla)]) # Phyla which are not present in the training data.\n",
    "\n",
    "common_taxa = genome_metadata_df[genome_metadata_df.family.isin(common_families)].groupby('family').sample(5, random_state=42).index\n",
    "rare_taxa = genome_metadata_df.index[genome_metadata_df.phylum.isin(rare_phyla)]\n",
    "model_taxa = ['GCF_000005845.2', 'GCF_000009045.1','GCF_000006765.1', 'GCF_000195955.2']\n",
    "\n",
    "genome_metadata_df.loc[rare_taxa].to_csv('../data/datasets/rare_taxa/rare_taxa_genome_metadata.csv')\n",
    "genome_metadata_df.loc[common_taxa].to_csv('../data/datasets/common_taxa/common_taxa_genome_metadata.csv')\n",
    "genome_metadata_df.loc[model_taxa].to_csv('../data/datasets/model_taxa/model_taxa_genome_metadata.csv')"
   ]
  },
  {
   "cell_type": "code",
   "execution_count": 6,
   "metadata": {},
   "outputs": [
    {
     "name": "stderr",
     "output_type": "stream",
     "text": [
      "ReferenceAnnotator._check: 100%|██████████| 279/279 [00:00<00:00, 776.56it/s]\n",
      "ReferenceAnnotator._check: 100%|██████████| 10/10 [00:00<00:00, 1398.99it/s]\n"
     ]
    },
    {
     "name": "stdout",
     "output_type": "stream",
     "text": [
      "ReferenceAnnotator._check: Downgraded 0 \"match\" sequences to \"intergenic\" or \"conflict\".\n",
      "ReferenceAnnotator._check: Upgraded 1 \"intergenic\" or \"conflict\" sequences to \"match.\n",
      "compare: Reference comparison complete. Results written to ../data/compare\n"
     ]
    },
    {
     "name": "stderr",
     "output_type": "stream",
     "text": [
      "ReferenceAnnotator._check: 100%|██████████| 386/386 [00:00<00:00, 700.42it/s]\n",
      "ReferenceAnnotator._check: 100%|██████████| 21/21 [00:00<00:00, 1643.81it/s]\n"
     ]
    },
    {
     "name": "stdout",
     "output_type": "stream",
     "text": [
      "ReferenceAnnotator._check: Downgraded 0 \"match\" sequences to \"intergenic\" or \"conflict\".\n",
      "ReferenceAnnotator._check: Upgraded 2 \"intergenic\" or \"conflict\" sequences to \"match.\n",
      "compare: Reference comparison complete. Results written to ../data/compare\n"
     ]
    },
    {
     "name": "stderr",
     "output_type": "stream",
     "text": [
      "ReferenceAnnotator._check: 100%|██████████| 491/491 [00:00<00:00, 724.93it/s]\n",
      "ReferenceAnnotator._check: 100%|██████████| 39/39 [00:00<00:00, 1643.44it/s]\n"
     ]
    },
    {
     "name": "stdout",
     "output_type": "stream",
     "text": [
      "ReferenceAnnotator._check: Downgraded 0 \"match\" sequences to \"intergenic\" or \"conflict\".\n",
      "ReferenceAnnotator._check: Upgraded 4 \"intergenic\" or \"conflict\" sequences to \"match.\n",
      "compare: Reference comparison complete. Results written to ../data/compare\n"
     ]
    },
    {
     "name": "stderr",
     "output_type": "stream",
     "text": [
      "ReferenceAnnotator._check: 100%|██████████| 333/333 [00:00<00:00, 1120.18it/s]\n",
      "ReferenceAnnotator._check: 100%|██████████| 19/19 [00:00<00:00, 3076.19it/s]\n"
     ]
    },
    {
     "name": "stdout",
     "output_type": "stream",
     "text": [
      "ReferenceAnnotator._check: Downgraded 0 \"match\" sequences to \"intergenic\" or \"conflict\".\n",
      "ReferenceAnnotator._check: Upgraded 0 \"intergenic\" or \"conflict\" sequences to \"match.\n",
      "compare: Reference comparison complete. Results written to ../data/compare\n"
     ]
    },
    {
     "name": "stderr",
     "output_type": "stream",
     "text": [
      "ReferenceAnnotator._check: 100%|██████████| 510/510 [00:00<00:00, 1318.88it/s]\n",
      "ReferenceAnnotator._check: 100%|██████████| 39/39 [00:00<00:00, 3033.55it/s]\n"
     ]
    },
    {
     "name": "stdout",
     "output_type": "stream",
     "text": [
      "ReferenceAnnotator._check: Downgraded 0 \"match\" sequences to \"intergenic\" or \"conflict\".\n",
      "ReferenceAnnotator._check: Upgraded 1 \"intergenic\" or \"conflict\" sequences to \"match.\n",
      "compare: Reference comparison complete. Results written to ../data/compare\n"
     ]
    },
    {
     "name": "stderr",
     "output_type": "stream",
     "text": [
      "ReferenceAnnotator._check: 100%|██████████| 797/797 [00:00<00:00, 1009.23it/s]\n",
      "ReferenceAnnotator._check: 100%|██████████| 27/27 [00:00<00:00, 2151.25it/s]\n"
     ]
    },
    {
     "name": "stdout",
     "output_type": "stream",
     "text": [
      "ReferenceAnnotator._check: Downgraded 0 \"match\" sequences to \"intergenic\" or \"conflict\".\n",
      "ReferenceAnnotator._check: Upgraded 4 \"intergenic\" or \"conflict\" sequences to \"match.\n",
      "compare: Reference comparison complete. Results written to ../data/compare\n"
     ]
    },
    {
     "name": "stderr",
     "output_type": "stream",
     "text": [
      "ReferenceAnnotator._check: 100%|██████████| 679/679 [00:00<00:00, 890.19it/s]\n",
      "ReferenceAnnotator._check: 100%|██████████| 36/36 [00:00<00:00, 1833.71it/s]\n"
     ]
    },
    {
     "name": "stdout",
     "output_type": "stream",
     "text": [
      "ReferenceAnnotator._check: Downgraded 0 \"match\" sequences to \"intergenic\" or \"conflict\".\n",
      "ReferenceAnnotator._check: Upgraded 1 \"intergenic\" or \"conflict\" sequences to \"match.\n",
      "compare: Reference comparison complete. Results written to ../data/compare\n"
     ]
    },
    {
     "name": "stderr",
     "output_type": "stream",
     "text": [
      "ReferenceAnnotator._check: 100%|██████████| 510/510 [00:00<00:00, 1008.64it/s]\n",
      "ReferenceAnnotator._check: 100%|██████████| 14/14 [00:00<00:00, 2812.68it/s]\n"
     ]
    },
    {
     "name": "stdout",
     "output_type": "stream",
     "text": [
      "ReferenceAnnotator._check: Downgraded 0 \"match\" sequences to \"intergenic\" or \"conflict\".\n",
      "ReferenceAnnotator._check: Upgraded 1 \"intergenic\" or \"conflict\" sequences to \"match.\n",
      "compare: Reference comparison complete. Results written to ../data/compare\n"
     ]
    },
    {
     "name": "stderr",
     "output_type": "stream",
     "text": [
      "ReferenceAnnotator._check: 100%|██████████| 413/413 [00:00<00:00, 1030.21it/s]\n",
      "ReferenceAnnotator._check: 100%|██████████| 8/8 [00:00<00:00, 1969.27it/s]\n"
     ]
    },
    {
     "name": "stdout",
     "output_type": "stream",
     "text": [
      "ReferenceAnnotator._check: Downgraded 0 \"match\" sequences to \"intergenic\" or \"conflict\".\n",
      "ReferenceAnnotator._check: Upgraded 0 \"intergenic\" or \"conflict\" sequences to \"match.\n",
      "compare: Reference comparison complete. Results written to ../data/compare\n"
     ]
    },
    {
     "name": "stderr",
     "output_type": "stream",
     "text": [
      "ReferenceAnnotator._check: 100%|██████████| 699/699 [00:00<00:00, 774.03it/s] \n",
      "ReferenceAnnotator._check: 100%|██████████| 16/16 [00:00<00:00, 1768.12it/s]\n"
     ]
    },
    {
     "name": "stdout",
     "output_type": "stream",
     "text": [
      "ReferenceAnnotator._check: Downgraded 0 \"match\" sequences to \"intergenic\" or \"conflict\".\n",
      "ReferenceAnnotator._check: Upgraded 4 \"intergenic\" or \"conflict\" sequences to \"match.\n",
      "compare: Reference comparison complete. Results written to ../data/compare\n"
     ]
    },
    {
     "name": "stderr",
     "output_type": "stream",
     "text": [
      "ReferenceAnnotator._check: 100%|██████████| 297/297 [00:00<00:00, 918.92it/s]\n",
      "ReferenceAnnotator._check: 100%|██████████| 11/11 [00:00<00:00, 2693.21it/s]\n"
     ]
    },
    {
     "name": "stdout",
     "output_type": "stream",
     "text": [
      "ReferenceAnnotator._check: Downgraded 0 \"match\" sequences to \"intergenic\" or \"conflict\".\n",
      "ReferenceAnnotator._check: Upgraded 0 \"intergenic\" or \"conflict\" sequences to \"match.\n",
      "compare: Reference comparison complete. Results written to ../data/compare\n"
     ]
    },
    {
     "name": "stderr",
     "output_type": "stream",
     "text": [
      "ReferenceAnnotator._check: 100%|██████████| 357/357 [00:00<00:00, 729.01it/s]\n",
      "ReferenceAnnotator._check: 100%|██████████| 15/15 [00:00<00:00, 2204.59it/s]\n"
     ]
    },
    {
     "name": "stdout",
     "output_type": "stream",
     "text": [
      "ReferenceAnnotator._check: Downgraded 1 \"match\" sequences to \"intergenic\" or \"conflict\".\n",
      "ReferenceAnnotator._check: Upgraded 3 \"intergenic\" or \"conflict\" sequences to \"match.\n",
      "compare: Reference comparison complete. Results written to ../data/compare\n"
     ]
    },
    {
     "name": "stderr",
     "output_type": "stream",
     "text": [
      "ReferenceAnnotator._check: 100%|██████████| 297/297 [00:00<00:00, 901.61it/s]\n",
      "ReferenceAnnotator._check: 100%|██████████| 9/9 [00:00<00:00, 2212.44it/s]\n"
     ]
    },
    {
     "name": "stdout",
     "output_type": "stream",
     "text": [
      "ReferenceAnnotator._check: Downgraded 0 \"match\" sequences to \"intergenic\" or \"conflict\".\n",
      "ReferenceAnnotator._check: Upgraded 1 \"intergenic\" or \"conflict\" sequences to \"match.\n",
      "compare: Reference comparison complete. Results written to ../data/compare\n"
     ]
    },
    {
     "name": "stderr",
     "output_type": "stream",
     "text": [
      "ReferenceAnnotator._check: 100%|██████████| 398/398 [00:00<00:00, 583.03it/s]\n",
      "ReferenceAnnotator._check: 100%|██████████| 17/17 [00:00<00:00, 1055.30it/s]\n"
     ]
    },
    {
     "name": "stdout",
     "output_type": "stream",
     "text": [
      "ReferenceAnnotator._check: Downgraded 0 \"match\" sequences to \"intergenic\" or \"conflict\".\n",
      "ReferenceAnnotator._check: Upgraded 5 \"intergenic\" or \"conflict\" sequences to \"match.\n",
      "compare: Reference comparison complete. Results written to ../data/compare\n"
     ]
    },
    {
     "name": "stderr",
     "output_type": "stream",
     "text": [
      "ReferenceAnnotator._check: 100%|██████████| 234/234 [00:00<00:00, 800.87it/s]\n",
      "ReferenceAnnotator._check: 100%|██████████| 10/10 [00:00<00:00, 1031.48it/s]\n"
     ]
    },
    {
     "name": "stdout",
     "output_type": "stream",
     "text": [
      "ReferenceAnnotator._check: Downgraded 0 \"match\" sequences to \"intergenic\" or \"conflict\".\n",
      "ReferenceAnnotator._check: Upgraded 0 \"intergenic\" or \"conflict\" sequences to \"match.\n",
      "compare: Reference comparison complete. Results written to ../data/compare\n"
     ]
    },
    {
     "name": "stderr",
     "output_type": "stream",
     "text": [
      "ReferenceAnnotator._check: 100%|██████████| 1211/1211 [00:01<00:00, 648.79it/s]\n",
      "ReferenceAnnotator._check: 100%|██████████| 9/9 [00:00<00:00, 2434.77it/s]\n"
     ]
    },
    {
     "name": "stdout",
     "output_type": "stream",
     "text": [
      "ReferenceAnnotator._check: Downgraded 0 \"match\" sequences to \"intergenic\" or \"conflict\".\n",
      "ReferenceAnnotator._check: Upgraded 1 \"intergenic\" or \"conflict\" sequences to \"match.\n",
      "compare: Reference comparison complete. Results written to ../data/compare\n"
     ]
    },
    {
     "name": "stderr",
     "output_type": "stream",
     "text": [
      "ReferenceAnnotator._check: 100%|██████████| 1094/1094 [00:01<00:00, 852.87it/s]\n",
      "ReferenceAnnotator._check: 100%|██████████| 14/14 [00:00<00:00, 2507.81it/s]\n"
     ]
    },
    {
     "name": "stdout",
     "output_type": "stream",
     "text": [
      "ReferenceAnnotator._check: Downgraded 0 \"match\" sequences to \"intergenic\" or \"conflict\".\n",
      "ReferenceAnnotator._check: Upgraded 1 \"intergenic\" or \"conflict\" sequences to \"match.\n",
      "compare: Reference comparison complete. Results written to ../data/compare\n"
     ]
    },
    {
     "name": "stderr",
     "output_type": "stream",
     "text": [
      "ReferenceAnnotator._check: 100%|██████████| 922/922 [00:00<00:00, 971.60it/s] \n",
      "ReferenceAnnotator._check: 100%|██████████| 12/12 [00:00<00:00, 1234.80it/s]\n"
     ]
    },
    {
     "name": "stdout",
     "output_type": "stream",
     "text": [
      "ReferenceAnnotator._check: Downgraded 0 \"match\" sequences to \"intergenic\" or \"conflict\".\n",
      "ReferenceAnnotator._check: Upgraded 1 \"intergenic\" or \"conflict\" sequences to \"match.\n",
      "compare: Reference comparison complete. Results written to ../data/compare\n"
     ]
    },
    {
     "name": "stderr",
     "output_type": "stream",
     "text": [
      "ReferenceAnnotator._check: 100%|██████████| 1228/1228 [00:01<00:00, 903.11it/s]\n",
      "ReferenceAnnotator._check: 100%|██████████| 26/26 [00:00<00:00, 2368.84it/s]\n"
     ]
    },
    {
     "name": "stdout",
     "output_type": "stream",
     "text": [
      "ReferenceAnnotator._check: Downgraded 1 \"match\" sequences to \"intergenic\" or \"conflict\".\n",
      "ReferenceAnnotator._check: Upgraded 3 \"intergenic\" or \"conflict\" sequences to \"match.\n",
      "compare: Reference comparison complete. Results written to ../data/compare\n"
     ]
    },
    {
     "name": "stderr",
     "output_type": "stream",
     "text": [
      "ReferenceAnnotator._check: 100%|██████████| 1082/1082 [00:01<00:00, 685.92it/s]\n",
      "ReferenceAnnotator._check: 100%|██████████| 12/12 [00:00<00:00, 1871.34it/s]\n"
     ]
    },
    {
     "name": "stdout",
     "output_type": "stream",
     "text": [
      "ReferenceAnnotator._check: Downgraded 0 \"match\" sequences to \"intergenic\" or \"conflict\".\n",
      "ReferenceAnnotator._check: Upgraded 0 \"intergenic\" or \"conflict\" sequences to \"match.\n",
      "compare: Reference comparison complete. Results written to ../data/compare\n"
     ]
    },
    {
     "name": "stderr",
     "output_type": "stream",
     "text": [
      "ReferenceAnnotator._check: 100%|██████████| 92/92 [00:00<00:00, 488.90it/s]\n",
      "ReferenceAnnotator._check: 100%|██████████| 4/4 [00:00<00:00, 1497.03it/s]\n"
     ]
    },
    {
     "name": "stdout",
     "output_type": "stream",
     "text": [
      "ReferenceAnnotator._check: Downgraded 0 \"match\" sequences to \"intergenic\" or \"conflict\".\n",
      "ReferenceAnnotator._check: Upgraded 0 \"intergenic\" or \"conflict\" sequences to \"match.\n",
      "compare: Reference comparison complete. Results written to ../data/compare\n"
     ]
    },
    {
     "name": "stderr",
     "output_type": "stream",
     "text": [
      "ReferenceAnnotator._check: 100%|██████████| 112/112 [00:00<00:00, 718.04it/s]\n",
      "ReferenceAnnotator._check: 100%|██████████| 5/5 [00:00<00:00, 1626.08it/s]\n"
     ]
    },
    {
     "name": "stdout",
     "output_type": "stream",
     "text": [
      "ReferenceAnnotator._check: Downgraded 0 \"match\" sequences to \"intergenic\" or \"conflict\".\n",
      "ReferenceAnnotator._check: Upgraded 0 \"intergenic\" or \"conflict\" sequences to \"match.\n",
      "compare: Reference comparison complete. Results written to ../data/compare\n"
     ]
    },
    {
     "name": "stderr",
     "output_type": "stream",
     "text": [
      "ReferenceAnnotator._check: 100%|██████████| 145/145 [00:00<00:00, 773.13it/s]\n",
      "ReferenceAnnotator._check: 0it [00:00, ?it/s]\n"
     ]
    },
    {
     "name": "stdout",
     "output_type": "stream",
     "text": [
      "ReferenceAnnotator._check: Downgraded 0 \"match\" sequences to \"intergenic\" or \"conflict\".\n",
      "ReferenceAnnotator._check: Upgraded 0 \"intergenic\" or \"conflict\" sequences to \"match.\n",
      "compare: Reference comparison complete. Results written to ../data/compare\n"
     ]
    },
    {
     "name": "stderr",
     "output_type": "stream",
     "text": [
      "ReferenceAnnotator._check: 100%|██████████| 149/149 [00:00<00:00, 675.76it/s]\n",
      "ReferenceAnnotator._check: 100%|██████████| 6/6 [00:00<00:00, 1379.40it/s]\n"
     ]
    },
    {
     "name": "stdout",
     "output_type": "stream",
     "text": [
      "ReferenceAnnotator._check: Downgraded 0 \"match\" sequences to \"intergenic\" or \"conflict\".\n",
      "ReferenceAnnotator._check: Upgraded 1 \"intergenic\" or \"conflict\" sequences to \"match.\n",
      "compare: Reference comparison complete. Results written to ../data/compare\n"
     ]
    },
    {
     "name": "stderr",
     "output_type": "stream",
     "text": [
      "ReferenceAnnotator._check: 100%|██████████| 159/159 [00:00<00:00, 590.29it/s]\n",
      "ReferenceAnnotator._check: 100%|██████████| 3/3 [00:00<00:00, 1636.70it/s]\n"
     ]
    },
    {
     "name": "stdout",
     "output_type": "stream",
     "text": [
      "ReferenceAnnotator._check: Downgraded 0 \"match\" sequences to \"intergenic\" or \"conflict\".\n",
      "ReferenceAnnotator._check: Upgraded 0 \"intergenic\" or \"conflict\" sequences to \"match.\n",
      "compare: Reference comparison complete. Results written to ../data/compare\n"
     ]
    },
    {
     "name": "stderr",
     "output_type": "stream",
     "text": [
      "ReferenceAnnotator._check: 100%|██████████| 380/380 [00:00<00:00, 774.59it/s]\n",
      "ReferenceAnnotator._check: 100%|██████████| 14/14 [00:00<00:00, 1519.20it/s]\n"
     ]
    },
    {
     "name": "stdout",
     "output_type": "stream",
     "text": [
      "ReferenceAnnotator._check: Downgraded 2 \"match\" sequences to \"intergenic\" or \"conflict\".\n",
      "ReferenceAnnotator._check: Upgraded 1 \"intergenic\" or \"conflict\" sequences to \"match.\n",
      "compare: Reference comparison complete. Results written to ../data/compare\n"
     ]
    },
    {
     "name": "stderr",
     "output_type": "stream",
     "text": [
      "ReferenceAnnotator._check: 100%|██████████| 456/456 [00:00<00:00, 702.94it/s]\n",
      "ReferenceAnnotator._check: 100%|██████████| 11/11 [00:00<00:00, 1518.72it/s]\n"
     ]
    },
    {
     "name": "stdout",
     "output_type": "stream",
     "text": [
      "ReferenceAnnotator._check: Downgraded 0 \"match\" sequences to \"intergenic\" or \"conflict\".\n",
      "ReferenceAnnotator._check: Upgraded 2 \"intergenic\" or \"conflict\" sequences to \"match.\n",
      "compare: Reference comparison complete. Results written to ../data/compare\n"
     ]
    },
    {
     "name": "stderr",
     "output_type": "stream",
     "text": [
      "ReferenceAnnotator._check: 100%|██████████| 361/361 [00:00<00:00, 511.03it/s]\n",
      "ReferenceAnnotator._check: 100%|██████████| 10/10 [00:00<00:00, 1781.47it/s]\n"
     ]
    },
    {
     "name": "stdout",
     "output_type": "stream",
     "text": [
      "ReferenceAnnotator._check: Downgraded 0 \"match\" sequences to \"intergenic\" or \"conflict\".\n",
      "ReferenceAnnotator._check: Upgraded 1 \"intergenic\" or \"conflict\" sequences to \"match.\n",
      "compare: Reference comparison complete. Results written to ../data/compare\n"
     ]
    },
    {
     "name": "stderr",
     "output_type": "stream",
     "text": [
      "ReferenceAnnotator._check: 100%|██████████| 304/304 [00:00<00:00, 695.47it/s]\n",
      "ReferenceAnnotator._check: 100%|██████████| 1/1 [00:00<00:00, 1211.53it/s]\n"
     ]
    },
    {
     "name": "stdout",
     "output_type": "stream",
     "text": [
      "ReferenceAnnotator._check: Downgraded 0 \"match\" sequences to \"intergenic\" or \"conflict\".\n",
      "ReferenceAnnotator._check: Upgraded 0 \"intergenic\" or \"conflict\" sequences to \"match.\n",
      "compare: Reference comparison complete. Results written to ../data/compare\n"
     ]
    },
    {
     "name": "stderr",
     "output_type": "stream",
     "text": [
      "ReferenceAnnotator._check: 100%|██████████| 398/398 [00:00<00:00, 476.41it/s]\n",
      "ReferenceAnnotator._check: 100%|██████████| 10/10 [00:00<00:00, 1201.36it/s]\n"
     ]
    },
    {
     "name": "stdout",
     "output_type": "stream",
     "text": [
      "ReferenceAnnotator._check: Downgraded 0 \"match\" sequences to \"intergenic\" or \"conflict\".\n",
      "ReferenceAnnotator._check: Upgraded 2 \"intergenic\" or \"conflict\" sequences to \"match.\n",
      "compare: Reference comparison complete. Results written to ../data/compare\n"
     ]
    },
    {
     "name": "stderr",
     "output_type": "stream",
     "text": [
      "ReferenceAnnotator._check: 100%|██████████| 324/324 [00:00<00:00, 589.82it/s]\n",
      "ReferenceAnnotator._check: 100%|██████████| 10/10 [00:00<00:00, 1891.97it/s]\n"
     ]
    },
    {
     "name": "stdout",
     "output_type": "stream",
     "text": [
      "ReferenceAnnotator._check: Downgraded 0 \"match\" sequences to \"intergenic\" or \"conflict\".\n",
      "ReferenceAnnotator._check: Upgraded 2 \"intergenic\" or \"conflict\" sequences to \"match.\n",
      "compare: Reference comparison complete. Results written to ../data/compare\n"
     ]
    },
    {
     "name": "stderr",
     "output_type": "stream",
     "text": [
      "ReferenceAnnotator._check: 100%|██████████| 303/303 [00:00<00:00, 649.19it/s]\n",
      "ReferenceAnnotator._check: 100%|██████████| 5/5 [00:00<00:00, 1251.36it/s]\n"
     ]
    },
    {
     "name": "stdout",
     "output_type": "stream",
     "text": [
      "ReferenceAnnotator._check: Downgraded 0 \"match\" sequences to \"intergenic\" or \"conflict\".\n",
      "ReferenceAnnotator._check: Upgraded 1 \"intergenic\" or \"conflict\" sequences to \"match.\n",
      "compare: Reference comparison complete. Results written to ../data/compare\n"
     ]
    },
    {
     "name": "stderr",
     "output_type": "stream",
     "text": [
      "ReferenceAnnotator._check: 100%|██████████| 415/415 [00:00<00:00, 625.43it/s]\n",
      "ReferenceAnnotator._check: 100%|██████████| 18/18 [00:00<00:00, 1388.92it/s]\n"
     ]
    },
    {
     "name": "stdout",
     "output_type": "stream",
     "text": [
      "ReferenceAnnotator._check: Downgraded 0 \"match\" sequences to \"intergenic\" or \"conflict\".\n",
      "ReferenceAnnotator._check: Upgraded 4 \"intergenic\" or \"conflict\" sequences to \"match.\n",
      "compare: Reference comparison complete. Results written to ../data/compare\n"
     ]
    },
    {
     "name": "stderr",
     "output_type": "stream",
     "text": [
      "ReferenceAnnotator._check: 100%|██████████| 353/353 [00:00<00:00, 648.84it/s]\n",
      "ReferenceAnnotator._check: 100%|██████████| 8/8 [00:00<00:00, 1204.48it/s]\n"
     ]
    },
    {
     "name": "stdout",
     "output_type": "stream",
     "text": [
      "ReferenceAnnotator._check: Downgraded 0 \"match\" sequences to \"intergenic\" or \"conflict\".\n",
      "ReferenceAnnotator._check: Upgraded 0 \"intergenic\" or \"conflict\" sequences to \"match.\n",
      "compare: Reference comparison complete. Results written to ../data/compare\n"
     ]
    },
    {
     "name": "stderr",
     "output_type": "stream",
     "text": [
      "ReferenceAnnotator._check: 100%|██████████| 353/353 [00:00<00:00, 638.78it/s]\n",
      "ReferenceAnnotator._check: 100%|██████████| 11/11 [00:00<00:00, 2232.09it/s]\n"
     ]
    },
    {
     "name": "stdout",
     "output_type": "stream",
     "text": [
      "ReferenceAnnotator._check: Downgraded 0 \"match\" sequences to \"intergenic\" or \"conflict\".\n",
      "ReferenceAnnotator._check: Upgraded 1 \"intergenic\" or \"conflict\" sequences to \"match.\n",
      "compare: Reference comparison complete. Results written to ../data/compare\n"
     ]
    },
    {
     "name": "stderr",
     "output_type": "stream",
     "text": [
      "ReferenceAnnotator._check: 100%|██████████| 125/125 [00:00<00:00, 896.92it/s]\n",
      "ReferenceAnnotator._check: 100%|██████████| 8/8 [00:00<00:00, 1377.61it/s]\n"
     ]
    },
    {
     "name": "stdout",
     "output_type": "stream",
     "text": [
      "ReferenceAnnotator._check: Downgraded 0 \"match\" sequences to \"intergenic\" or \"conflict\".\n",
      "ReferenceAnnotator._check: Upgraded 0 \"intergenic\" or \"conflict\" sequences to \"match.\n",
      "compare: Reference comparison complete. Results written to ../data/compare\n"
     ]
    },
    {
     "name": "stderr",
     "output_type": "stream",
     "text": [
      "ReferenceAnnotator._check: 100%|██████████| 273/273 [00:00<00:00, 882.55it/s]\n",
      "ReferenceAnnotator._check: 100%|██████████| 13/13 [00:00<00:00, 1394.38it/s]\n"
     ]
    },
    {
     "name": "stdout",
     "output_type": "stream",
     "text": [
      "ReferenceAnnotator._check: Downgraded 0 \"match\" sequences to \"intergenic\" or \"conflict\".\n",
      "ReferenceAnnotator._check: Upgraded 1 \"intergenic\" or \"conflict\" sequences to \"match.\n",
      "compare: Reference comparison complete. Results written to ../data/compare\n"
     ]
    },
    {
     "name": "stderr",
     "output_type": "stream",
     "text": [
      "ReferenceAnnotator._check: 100%|██████████| 186/186 [00:00<00:00, 819.99it/s]\n",
      "ReferenceAnnotator._check: 100%|██████████| 14/14 [00:00<00:00, 1042.73it/s]\n"
     ]
    },
    {
     "name": "stdout",
     "output_type": "stream",
     "text": [
      "ReferenceAnnotator._check: Downgraded 0 \"match\" sequences to \"intergenic\" or \"conflict\".\n",
      "ReferenceAnnotator._check: Upgraded 0 \"intergenic\" or \"conflict\" sequences to \"match.\n",
      "compare: Reference comparison complete. Results written to ../data/compare\n"
     ]
    },
    {
     "name": "stderr",
     "output_type": "stream",
     "text": [
      "ReferenceAnnotator._check: 100%|██████████| 143/143 [00:00<00:00, 758.53it/s]\n",
      "ReferenceAnnotator._check: 100%|██████████| 5/5 [00:00<00:00, 1703.48it/s]\n"
     ]
    },
    {
     "name": "stdout",
     "output_type": "stream",
     "text": [
      "ReferenceAnnotator._check: Downgraded 0 \"match\" sequences to \"intergenic\" or \"conflict\".\n",
      "ReferenceAnnotator._check: Upgraded 0 \"intergenic\" or \"conflict\" sequences to \"match.\n",
      "compare: Reference comparison complete. Results written to ../data/compare\n"
     ]
    },
    {
     "name": "stderr",
     "output_type": "stream",
     "text": [
      "ReferenceAnnotator._check: 100%|██████████| 210/210 [00:00<00:00, 879.58it/s]\n",
      "ReferenceAnnotator._check: 100%|██████████| 18/18 [00:00<00:00, 1575.56it/s]\n"
     ]
    },
    {
     "name": "stdout",
     "output_type": "stream",
     "text": [
      "ReferenceAnnotator._check: Downgraded 0 \"match\" sequences to \"intergenic\" or \"conflict\".\n",
      "ReferenceAnnotator._check: Upgraded 0 \"intergenic\" or \"conflict\" sequences to \"match.\n",
      "compare: Reference comparison complete. Results written to ../data/compare\n"
     ]
    },
    {
     "name": "stderr",
     "output_type": "stream",
     "text": [
      "ReferenceAnnotator._check: 100%|██████████| 88/88 [00:00<00:00, 611.39it/s]\n",
      "ReferenceAnnotator._check: 100%|██████████| 3/3 [00:00<00:00, 1362.08it/s]\n"
     ]
    },
    {
     "name": "stdout",
     "output_type": "stream",
     "text": [
      "ReferenceAnnotator._check: Downgraded 0 \"match\" sequences to \"intergenic\" or \"conflict\".\n",
      "ReferenceAnnotator._check: Upgraded 1 \"intergenic\" or \"conflict\" sequences to \"match.\n",
      "compare: Reference comparison complete. Results written to ../data/compare\n"
     ]
    },
    {
     "name": "stderr",
     "output_type": "stream",
     "text": [
      "ReferenceAnnotator._check: 100%|██████████| 97/97 [00:00<00:00, 480.24it/s]\n",
      "ReferenceAnnotator._check: 100%|██████████| 7/7 [00:00<00:00, 1921.35it/s]\n"
     ]
    },
    {
     "name": "stdout",
     "output_type": "stream",
     "text": [
      "ReferenceAnnotator._check: Downgraded 1 \"match\" sequences to \"intergenic\" or \"conflict\".\n",
      "ReferenceAnnotator._check: Upgraded 0 \"intergenic\" or \"conflict\" sequences to \"match.\n",
      "compare: Reference comparison complete. Results written to ../data/compare\n"
     ]
    },
    {
     "name": "stderr",
     "output_type": "stream",
     "text": [
      "ReferenceAnnotator._check: 100%|██████████| 240/240 [00:00<00:00, 844.74it/s]\n",
      "ReferenceAnnotator._check: 100%|██████████| 12/12 [00:00<00:00, 1719.92it/s]\n"
     ]
    },
    {
     "name": "stdout",
     "output_type": "stream",
     "text": [
      "ReferenceAnnotator._check: Downgraded 0 \"match\" sequences to \"intergenic\" or \"conflict\".\n",
      "ReferenceAnnotator._check: Upgraded 3 \"intergenic\" or \"conflict\" sequences to \"match.\n",
      "compare: Reference comparison complete. Results written to ../data/compare\n"
     ]
    },
    {
     "name": "stderr",
     "output_type": "stream",
     "text": [
      "ReferenceAnnotator._check: 100%|██████████| 128/128 [00:00<00:00, 771.79it/s]\n",
      "ReferenceAnnotator._check: 100%|██████████| 6/6 [00:00<00:00, 902.58it/s]\n"
     ]
    },
    {
     "name": "stdout",
     "output_type": "stream",
     "text": [
      "ReferenceAnnotator._check: Downgraded 0 \"match\" sequences to \"intergenic\" or \"conflict\".\n",
      "ReferenceAnnotator._check: Upgraded 2 \"intergenic\" or \"conflict\" sequences to \"match.\n",
      "compare: Reference comparison complete. Results written to ../data/compare\n"
     ]
    },
    {
     "name": "stderr",
     "output_type": "stream",
     "text": [
      "ReferenceAnnotator._check: 100%|██████████| 116/116 [00:00<00:00, 771.72it/s]\n",
      "ReferenceAnnotator._check: 100%|██████████| 9/9 [00:00<00:00, 1548.35it/s]\n"
     ]
    },
    {
     "name": "stdout",
     "output_type": "stream",
     "text": [
      "ReferenceAnnotator._check: Downgraded 0 \"match\" sequences to \"intergenic\" or \"conflict\".\n",
      "ReferenceAnnotator._check: Upgraded 1 \"intergenic\" or \"conflict\" sequences to \"match.\n",
      "compare: Reference comparison complete. Results written to ../data/compare\n"
     ]
    },
    {
     "name": "stderr",
     "output_type": "stream",
     "text": [
      "ReferenceAnnotator._check: 100%|██████████| 486/486 [00:00<00:00, 746.00it/s]\n",
      "ReferenceAnnotator._check: 100%|██████████| 22/22 [00:00<00:00, 1776.87it/s]\n"
     ]
    },
    {
     "name": "stdout",
     "output_type": "stream",
     "text": [
      "ReferenceAnnotator._check: Downgraded 0 \"match\" sequences to \"intergenic\" or \"conflict\".\n",
      "ReferenceAnnotator._check: Upgraded 2 \"intergenic\" or \"conflict\" sequences to \"match.\n",
      "compare: Reference comparison complete. Results written to ../data/compare\n"
     ]
    },
    {
     "name": "stderr",
     "output_type": "stream",
     "text": [
      "ReferenceAnnotator._check: 100%|██████████| 328/328 [00:00<00:00, 728.47it/s]\n",
      "ReferenceAnnotator._check: 100%|██████████| 16/16 [00:00<00:00, 1633.65it/s]\n"
     ]
    },
    {
     "name": "stdout",
     "output_type": "stream",
     "text": [
      "ReferenceAnnotator._check: Downgraded 0 \"match\" sequences to \"intergenic\" or \"conflict\".\n",
      "ReferenceAnnotator._check: Upgraded 4 \"intergenic\" or \"conflict\" sequences to \"match.\n",
      "compare: Reference comparison complete. Results written to ../data/compare\n"
     ]
    },
    {
     "name": "stderr",
     "output_type": "stream",
     "text": [
      "ReferenceAnnotator._check: 100%|██████████| 442/442 [00:00<00:00, 913.99it/s]\n",
      "ReferenceAnnotator._check: 100%|██████████| 29/29 [00:00<00:00, 1441.50it/s]\n"
     ]
    },
    {
     "name": "stdout",
     "output_type": "stream",
     "text": [
      "ReferenceAnnotator._check: Downgraded 0 \"match\" sequences to \"intergenic\" or \"conflict\".\n",
      "ReferenceAnnotator._check: Upgraded 0 \"intergenic\" or \"conflict\" sequences to \"match.\n",
      "compare: Reference comparison complete. Results written to ../data/compare\n"
     ]
    },
    {
     "name": "stderr",
     "output_type": "stream",
     "text": [
      "ReferenceAnnotator._check: 100%|██████████| 427/427 [00:00<00:00, 719.35it/s]\n",
      "ReferenceAnnotator._check: 100%|██████████| 15/15 [00:00<00:00, 1964.05it/s]\n"
     ]
    },
    {
     "name": "stdout",
     "output_type": "stream",
     "text": [
      "ReferenceAnnotator._check: Downgraded 0 \"match\" sequences to \"intergenic\" or \"conflict\".\n",
      "ReferenceAnnotator._check: Upgraded 3 \"intergenic\" or \"conflict\" sequences to \"match.\n",
      "compare: Reference comparison complete. Results written to ../data/compare\n"
     ]
    },
    {
     "name": "stderr",
     "output_type": "stream",
     "text": [
      "ReferenceAnnotator._check: 100%|██████████| 351/351 [00:00<00:00, 688.23it/s]\n",
      "ReferenceAnnotator._check: 100%|██████████| 6/6 [00:00<00:00, 2030.81it/s]\n"
     ]
    },
    {
     "name": "stdout",
     "output_type": "stream",
     "text": [
      "ReferenceAnnotator._check: Downgraded 0 \"match\" sequences to \"intergenic\" or \"conflict\".\n",
      "ReferenceAnnotator._check: Upgraded 0 \"intergenic\" or \"conflict\" sequences to \"match.\n",
      "compare: Reference comparison complete. Results written to ../data/compare\n"
     ]
    }
   ],
   "source": [
    "genome_ids = list(common_taxa) + list(rare_taxa) + list(model_taxa)\n",
    "\n",
    "# Downloaded rare, model, and common taxa from NCBI on 04.08.2025.\n",
    "# ncbi = download.NCBI()\n",
    "# ncbi.get_genomes(genome_ids=genome_ids, include=['gbff', 'protein', 'genome'], dirs={'gbff':'../data/ncbi/gbffs/', 'protein':'../data/ncbi/proteins/', 'genome':'../data/ncbi/genomes/'})\n",
    "# ncbi.cleanup()\n",
    "\n",
    "# prodigal = Prodigal()\n",
    "# for genome_id in tqdm(genome_ids):\n",
    "#     prodigal.run(f'../data/ncbi/genomes/{genome_id}_genomic.fna', f'../data/prodigal/{genome_id}_protein.faa')\n",
    "\n",
    "query_paths = [f'../data/prodigal/{genome_id}_protein.faa' for genome_id in common_taxa]\n",
    "reference_paths = [f'../data/ncbi/gbffs/{genome_id}_genomic.gbff' for genome_id in common_taxa]\n",
    "for query_path, reference_path in zip(query_paths, reference_paths):\n",
    "    compare(query_path, reference_path, overwrite=False)"
   ]
  },
  {
   "cell_type": "code",
   "execution_count": null,
   "metadata": {},
   "outputs": [],
   "source": [
    "dataset_df = pd.read_csv('../data/datasets/dataset.csv', index_col=0)"
   ]
  },
  {
   "cell_type": "code",
   "execution_count": null,
   "metadata": {},
   "outputs": [],
   "source": [
    "def build_dataset_prodigal(genome_ids):\n",
    "    dataset_df = list()\n",
    "    for genome_id in genome_ids:\n",
    "        df = Reference.load(f'../data/compare/{genome_id}_top_hits.csv')\n",
    "        df['genome_id'] = genome_id\n",
    "        dataset_df.append(df)\n",
    "    return pd.concat(dataset_df)\n",
    "\n",
    "df = build_dataset_prodigal(rare_taxa)"
   ]
  },
  {
   "cell_type": "code",
   "execution_count": null,
   "metadata": {},
   "outputs": [
    {
     "data": {
      "text/html": [
       "<div>\n",
       "<style scoped>\n",
       "    .dataframe tbody tr th:only-of-type {\n",
       "        vertical-align: middle;\n",
       "    }\n",
       "\n",
       "    .dataframe tbody tr th {\n",
       "        vertical-align: top;\n",
       "    }\n",
       "\n",
       "    .dataframe thead th {\n",
       "        text-align: right;\n",
       "    }\n",
       "</style>\n",
       "<table border=\"1\" class=\"dataframe\">\n",
       "  <thead>\n",
       "    <tr style=\"text-align: right;\">\n",
       "      <th></th>\n",
       "      <th>top_hit_go_function</th>\n",
       "    </tr>\n",
       "    <tr>\n",
       "      <th>id</th>\n",
       "      <th></th>\n",
       "    </tr>\n",
       "  </thead>\n",
       "  <tbody>\n",
       "    <tr>\n",
       "      <th>NZ_CP018099.1_1731</th>\n",
       "      <td>GO:0016746 - acyltransferase activity [Evidenc...</td>\n",
       "    </tr>\n",
       "    <tr>\n",
       "      <th>NC_017096.1_926</th>\n",
       "      <td>GO:0016787 - hydrolase activity [Evidence IEA]</td>\n",
       "    </tr>\n",
       "    <tr>\n",
       "      <th>NZ_AQXH01000001.1_322</th>\n",
       "      <td>GO:0003677 - DNA binding [Evidence IEA];GO:000...</td>\n",
       "    </tr>\n",
       "    <tr>\n",
       "      <th>NZ_PISP01000001.1_323</th>\n",
       "      <td>GO:0003677 - DNA binding [Evidence IEA];GO:000...</td>\n",
       "    </tr>\n",
       "    <tr>\n",
       "      <th>NZ_NSKE01000008.1_142</th>\n",
       "      <td>GO:0003677 - DNA binding [Evidence IEA];GO:000...</td>\n",
       "    </tr>\n",
       "    <tr>\n",
       "      <th>NZ_JAKLWS010000072.1_1</th>\n",
       "      <td>GO:0003677 - DNA binding [Evidence IEA];GO:000...</td>\n",
       "    </tr>\n",
       "    <tr>\n",
       "      <th>NZ_JAKLWS010000090.1_2</th>\n",
       "      <td>GO:0003677 - DNA binding [Evidence IEA];GO:000...</td>\n",
       "    </tr>\n",
       "    <tr>\n",
       "      <th>NZ_CZVS01000048.1_14</th>\n",
       "      <td>GO:0016798 - hydrolase activity, acting on gly...</td>\n",
       "    </tr>\n",
       "    <tr>\n",
       "      <th>NZ_CZVS01000077.1_31</th>\n",
       "      <td>GO:0140327 - flippase activity [Evidence IEA]</td>\n",
       "    </tr>\n",
       "  </tbody>\n",
       "</table>\n",
       "</div>"
      ],
      "text/plain": [
       "                                                      top_hit_go_function\n",
       "id                                                                       \n",
       "NZ_CP018099.1_1731      GO:0016746 - acyltransferase activity [Evidenc...\n",
       "NC_017096.1_926            GO:0016787 - hydrolase activity [Evidence IEA]\n",
       "NZ_AQXH01000001.1_322   GO:0003677 - DNA binding [Evidence IEA];GO:000...\n",
       "NZ_PISP01000001.1_323   GO:0003677 - DNA binding [Evidence IEA];GO:000...\n",
       "NZ_NSKE01000008.1_142   GO:0003677 - DNA binding [Evidence IEA];GO:000...\n",
       "NZ_JAKLWS010000072.1_1  GO:0003677 - DNA binding [Evidence IEA];GO:000...\n",
       "NZ_JAKLWS010000090.1_2  GO:0003677 - DNA binding [Evidence IEA];GO:000...\n",
       "NZ_CZVS01000048.1_14    GO:0016798 - hydrolase activity, acting on gly...\n",
       "NZ_CZVS01000077.1_31        GO:0140327 - flippase activity [Evidence IEA]"
      ]
     },
     "execution_count": 232,
     "metadata": {},
     "output_type": "execute_result"
    }
   ],
   "source": [
    "df[(df.top_hit_evidence_type == 'ab initio prediction') & (df.top_hit_product != 'hypothetical protein')]\n",
    "df[(df.top_hit_go_function != 'none') & (df.top_hit_product == 'hypothetical protein')][['top_hit_go_function']]"
   ]
  },
  {
   "cell_type": "code",
   "execution_count": null,
   "metadata": {},
   "outputs": [],
   "source": [
    "def build_taxa_dataset(genome_ids:list, name='model_taxa'):\n",
    "    pass "
   ]
  },
  {
   "cell_type": "code",
   "execution_count": null,
   "metadata": {},
   "outputs": [
    {
     "data": {
      "text/plain": [
       "91"
      ]
     },
     "execution_count": 83,
     "metadata": {},
     "output_type": "execute_result"
    }
   ],
   "source": [
    "dataset_df[dataset_df.domain == 'Bacteria'].phylum.nunique()"
   ]
  },
  {
   "cell_type": "code",
   "execution_count": null,
   "metadata": {},
   "outputs": [
    {
     "data": {
      "image/png": "[encoded data removed]",
      "text/plain": [
       "<Figure size 1000x500 with 2 Axes>"
      ]
     },
     "metadata": {},
     "output_type": "display_data"
    }
   ],
   "source": [
    "def figure(dataset_df:pd.DataFrame, level:str='genus', top_n:int=5):\n",
    "\n",
    "    fig, axes = plt.subplots(ncols=2, figsize=(10, 5))\n",
    "\n",
    "    for ax, (_, df) in zip(axes, dataset_df.groupby('label')):\n",
    "        ax_df = df.copy()\n",
    "        ax_df = ax_df.value_counts(level)\n",
    "        ax_df = ax_df / ax_df.sum()\n",
    "        ax_df = ax_df[ax_df.index != 'none'].copy()\n",
    "        ax_df = ax_df.iloc[:top_n] * 100\n",
    "\n",
    "        sns.barplot(data=ax_df, ax=ax, color='lightgray', edgecolor='black')\n",
    "\n",
    "        if (level == 'species'):\n",
    "            x_tick_labels = [f'{taxon.split()[0][0]}. {taxon.split()[-1]}' for taxon in ax_df.index]\n",
    "            ax.set_xticks(np.arange(len(ax_df)), labels=x_tick_labels, rotation=90, fontstyle='italic')\n",
    "        else:\n",
    "            ax.set_xticks(np.arange(len(ax_df)), labels=ax_df.index, rotation=90)\n",
    "        ax.yaxis.set_major_formatter(tick.PercentFormatter())\n",
    "        ax.text(0.5, 0.7, f'{ax_df.sum():.2f}% in top {top_n} {level}', transform=ax.transAxes)\n",
    "\n",
    "    axes[0].set_title('AntiFam')\n",
    "    axes[1].set_title('SwissProt')\n",
    "\n",
    "    fig.tight_layout()\n",
    "    plt.show()\n",
    "\n",
    "figure(dataset_df, level='phylum')"
   ]
  },
  {
   "cell_type": "code",
   "execution_count": null,
   "metadata": {},
   "outputs": [
    {
     "data": {
      "text/plain": [
       "278583"
      ]
     },
     "execution_count": 216,
     "metadata": {},
     "output_type": "execute_result"
    }
   ],
   "source": [
    "cluster_df = pd.read_csv('../data/datasets/dataset_cluster.csv', index_col=0)\n",
    "len(cluster_df)"
   ]
  },
  {
   "cell_type": "code",
   "execution_count": null,
   "metadata": {},
   "outputs": [
    {
     "data": {
      "text/plain": [
       "278583"
      ]
     },
     "execution_count": 217,
     "metadata": {},
     "output_type": "execute_result"
    }
   ],
   "source": [
    "len(dataset_df)"
   ]
  },
  {
   "cell_type": "code",
   "execution_count": null,
   "metadata": {},
   "outputs": [],
   "source": [
    "# What is a good estimate for the number of clusters? Maybe use 50 percent sequence similarity?\n",
    "# This resulted in about 70000 clusters for the Campylobacterota dataset. \n",
    "# This resulted in about 665000 clusters for the SwissProt dataset. \n",
    "# mmseqs = MMSeqs()\n",
    "# mmseqs_cluster_df = mmseqs.cluster(dataset_df, name='dataset', output_dir='../data/datasets/swissprot', sequence_identity=0.5, overwrite=False)\n",
    "# mmseqs.cleanup()\n",
    "# print('Number of clusters:', mmseqs_cluster_df.mmseqs_cluster_id.nunique())"
   ]
  },
  {
   "cell_type": "code",
   "execution_count": null,
   "metadata": {},
   "outputs": [],
   "source": [
    "dataset_df = pd.read_csv('../data/dataset_dereplicated.csv', index_col=0)\n",
    "dataset_df = dataset_df.merge(pd.read_csv('../data/dataset_dereplicated_cluster.csv', index_col=0), left_index=True, right_index=True)"
   ]
  },
  {
   "cell_type": "code",
   "execution_count": null,
   "metadata": {},
   "outputs": [
    {
     "data": {
      "image/png": "[encoded data removed]",
      "text/plain": [
       "<Figure size 640x480 with 1 Axes>"
      ]
     },
     "metadata": {},
     "output_type": "display_data"
    }
   ],
   "source": [
    "fig, ax = plt.subplots()\n",
    "\n",
    "ax_df = pd.DataFrame(index=dataset_df.cluster_label.unique())\n",
    "ax_df['cluster_size'] = dataset_df.groupby('cluster_label').apply(len, include_groups=False)\n",
    "ax_df['label'] = dataset_df.groupby('cluster_label').label.first()\n",
    "ax_df['label'] = ax_df.label.replace({0:'spurious', 1:'real'})\n",
    "\n",
    "palette = {'spurious':'indianred', 'real':'darkseagreen'}\n",
    "\n",
    "sns.histplot(data=ax_df, x='cluster_size', hue='label', multiple='stack', ax=ax, palette=palette)\n",
    "ax.set_ylabel('count')\n",
    "\n",
    "plt.show()"
   ]
  },
  {
   "cell_type": "code",
   "execution_count": null,
   "metadata": {},
   "outputs": [],
   "source": [
    "sequence_identities_df = list()\n",
    "min_sequence_identity = 1\n",
    "\n",
    "pbar = tqdm(list(dataset_df.groupby('cluster_label')), desc='Computing sequence identities.')\n",
    "for cluster_label, df in pbar:\n",
    "    values = get_sequence_identities(df, as_matrix=False)\n",
    "\n",
    "    row = dict()\n",
    "    row['cluster_label'] = cluster_label\n",
    "    row['mean_sequence_identity'] = values.mean()\n",
    "    row['min_sequence_identity'] = values.min()\n",
    "    row['max_sequence_identity'] = values.max()\n",
    "    row['standard_deviation'] = np.std(values)\n",
    "    row['n_alignments'] = len(values)\n",
    "    \n",
    "    sequence_identities_df.append(row)\n",
    "\n",
    "    if row['min_sequence_identity'] < min_sequence_identity:\n",
    "        min_sequence_identity = row['min_sequence_identity']\n",
    "        pbar.set_description(f'Computing sequence identities. Minimum identity {min_sequence_identity:.2f} found in cluster {cluster_label}.')\n",
    "\n",
    "pbar.close()\n",
    "sequence_identities_df = pd.DataFrame(sequence_identities_df).set_index('cluster_label')\n",
    "sequence_identities_df.to_csv('dataset_dereplicated_cluster_sequence_identities.csv')"
   ]
  },
  {
   "cell_type": "code",
   "execution_count": null,
   "metadata": {},
   "outputs": [
    {
     "data": {
      "image/png": "[encoded data removed]",
      "text/plain": [
       "<Figure size 1000x500 with 2 Axes>"
      ]
     },
     "metadata": {},
     "output_type": "display_data"
    }
   ],
   "source": [
    "sequence_identities_df = pd.read_csv('dataset_dereplicated_cluster_sequence_identities.csv', index_col=0)\n",
    "\n",
    "fig, (ax_a, ax_b) = plt.subplots(ncols=2, figsize=(10, 5))\n",
    "\n",
    "ax_a_df = sequence_identities_df.copy()\n",
    "ax_a_df['label'] = dataset_df.groupby('cluster_label').label.first()\n",
    "palette = {'spurious':'indianred', 'real':'darkseagreen'}\n",
    "\n",
    "linestyles = {0:'--', 1:'-'}\n",
    "for label, df in ax_a_df.groupby('label'):\n",
    "    sns.ecdfplot(data=df, x='mean_sequence_identity', ax=ax_a, color='dimgray', label='mean sequence identity', linestyle=linestyles[label])\n",
    "    sns.ecdfplot(data=df, x='min_sequence_identity', ax=ax_a, color='indianred', label='min. sequence identity', linestyle=linestyles[label])\n",
    "    sns.ecdfplot(data=df, x='max_sequence_identity', ax=ax_a, color='steelblue', label='max. sequence identity', linestyle=linestyles[label])\n",
    "ax_a.set_ylabel('proportion')\n",
    "\n",
    "ax_b_df = pd.DataFrame(index=dataset_train_df.cluster_label.unique())\n",
    "\n",
    "ax_b_df['cluster_size'] = ax_b_df.index.map(dataset_df.groupby('cluster_label').apply(len, include_groups=False))\n",
    "# ax_b_df = ax_b_df.merge(sequence_identities_df, left_index=True, right_index=True)\n",
    "# ax_b_df = ax_b_df.sort_values('min_sequence_identity').copy().iloc[:1000]\n",
    "\n",
    "# sns.scatterplot(data=ax_b_df, x='min_sequence_identity', y='max_sequence_identity', ax=ax_b, color='dimgray')\n",
    "\n",
    "fig.tight_layout()\n",
    "plt.show()"
   ]
  },
  {
   "cell_type": "code",
   "execution_count": null,
   "metadata": {},
   "outputs": [
    {
     "name": "stdout",
     "output_type": "stream",
     "text": [
      "Removing 383 sequences which exceed the maximum length.\n"
     ]
    }
   ],
   "source": [
    "\n",
    "prodigal_df = list()\n",
    "for genome_id in genome_ids:\n",
    "    top_hits_df = Reference.load(f'../data/compare/{genome_id}_top_hits.csv')\n",
    "    top_hits_df['genome_id'] = genome_id\n",
    "    prodigal_df.append(top_hits_df)\n",
    "prodigal_df = pd.concat(prodigal_df)\n",
    "prodigal_df = filter_length(prodigal_df)\n"
   ]
  }
 ],
 "metadata": {
  "kernelspec": {
   "display_name": "frugal",
   "language": "python",
   "name": "python3"
  },
  "language_info": {
   "codemirror_mode": {
    "name": "ipython",
    "version": 3
   },
   "file_extension": ".py",
   "mimetype": "text/x-python",
   "name": "python",
   "nbconvert_exporter": "python",
   "pygments_lexer": "ipython3",
   "version": "3.13.2"
  }
 },
 "nbformat": 4,
 "nbformat_minor": 2
}
