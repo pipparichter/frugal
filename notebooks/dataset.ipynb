{
 "cells": [
  {
   "cell_type": "code",
   "execution_count": 2,
   "metadata": {},
   "outputs": [],
   "source": [
    "import pandas as pd \n",
    "import numpy as np \n",
    "from Bio import SeqIO\n",
    "import src.tools.download\n",
    "\n",
    "from src.files import FASTAFile, GBFFFile\n",
    "from tqdm import tqdm\n",
    "import os\n",
    "import json \n",
    "\n",
    "%load_ext autoreload\n",
    "%autoreload 2"
   ]
  },
  {
   "cell_type": "code",
   "execution_count": 3,
   "metadata": {},
   "outputs": [],
   "source": [
    "# Changing my training dataset strategy. Instead going to use the sequences directly from NCBI. \n",
    "genome_metadata_df = pd.read_csv('../data/genome_metadata.csv', index_col=0)\n",
    "genome_ids = genome_metadata_df[genome_metadata_df.phylum == 'Campylobacterota'].index.values \n"
   ]
  },
  {
   "cell_type": "code",
   "execution_count": null,
   "metadata": {},
   "outputs": [
    {
     "name": "stderr",
     "output_type": "stream",
     "text": [
      "AntiFam._get_taxonomy_metadata:  33%|███▎      | 2234/6812 [38:31<1:41:21,  1.33s/it]"
     ]
    }
   ],
   "source": [
    "antifam_metadata_df = pd.read_csv('../data/antifam_metadata.csv', index_col=0)\n",
    "\n",
    "antifam = src.tools.download.AntiFam()\n",
    "lineages = antifam._get_taxonomy_metadata(antifam_metadata_df.ncbi_taxonomy_id.unique())"
   ]
  },
  {
   "cell_type": "code",
   "execution_count": null,
   "metadata": {},
   "outputs": [],
   "source": [
    "# Want to build the dataset for Campylobacterota, but filter out the \"suspect\" sequences, i.e. those which are both hypothetical\n",
    "# and have only ab initio evidence (i.e. no evidence of conservation). \n",
    "\n",
    "\n",
    "is_hypothetical = lambda df : df.top_hit_product == 'hypothetical protein'\n",
    "is_ab_initio = lambda df : df.top_hit_evidence_type == 'ab initio prediction'\n",
    "is_suspect = lambda df : is_hypothetical(df) & is_ab_initio(df) # This will be False for intergenic sequences. \n",
    "\n",
    "for genome_id in genome_ids:\n",
    "    protein_path = f'../data/ncbi/proteins/{genome_id}_protein.faa'\n",
    "    gbff_path = f'../data/ncbi/gbffs/{genome_id}_protein.faa'\n",
    "\n",
    "    gbff_df = GBFFFile(gbff_path).to_df()\n",
    "    gbff_df = gbff_df[(gbff_df.feature_type == 'CDS') & (~gbff_df.pseudo)].copy()\n",
    "    protein_df = FASTAFile(path=protein_path).to_df(prodigal_output=False)\n",
    "    assert len(protein_df) == len(gbff_df), 'Expected the number of non-pseudo CDS entries in the GBFF file to match the number of entries in the FASTA file.'\n",
    "\n",
    "    suspect_ids = gbff_df.index[is_suspect(gbff_df)]\n",
    "    protein_path = "
   ]
  }
 ],
 "metadata": {
  "kernelspec": {
   "display_name": "frugal",
   "language": "python",
   "name": "python3"
  },
  "language_info": {
   "codemirror_mode": {
    "name": "ipython",
    "version": 3
   },
   "file_extension": ".py",
   "mimetype": "text/x-python",
   "name": "python",
   "nbconvert_exporter": "python",
   "pygments_lexer": "ipython3",
   "version": "3.13.2"
  }
 },
 "nbformat": 4,
 "nbformat_minor": 2
}
