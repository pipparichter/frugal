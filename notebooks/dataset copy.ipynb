{
 "cells": [
  {
   "cell_type": "code",
   "execution_count": 1,
   "metadata": {},
   "outputs": [],
   "source": [
    "import pandas as pd \n",
    "import numpy as np \n",
    "import src.tools.download\n",
    "from src import get_sequence_identities\n",
    "from src.tools import MMSeqs\n",
    "from src.dataset import Dataset\n",
    "from src.files import FASTAFile, GBFFFile\n",
    "from src.reference import Reference\n",
    "from src.clusterer import Clusterer\n",
    "from tqdm import tqdm\n",
    "import os\n",
    "import json \n",
    "import seaborn as sns\n",
    "from src import fillna \n",
    "import matplotlib.pyplot as plt \n",
    "from src.split import ClusterStratifiedShuffleSplit\n",
    "from Bio.Align import PairwiseAligner\n",
    "\n",
    "%load_ext autoreload\n",
    "%autoreload 2\n",
    "\n",
    "# TODO: There are partial sequences in the training dataset (at least in the spurious class). I am not sure if these are a good idea to\n",
    "#   include, as there are no partial translations from Prodigal (except sometimes on the edges). How much does start codon value\n",
    "#   affect the embedding?\n",
    "\n",
    "# Because genomes are constantly being re-annotated, the GBFF files I downloaded a month or so ago are now not aligned with the \n",
    "# protein files I used to generate the most recent round of embeddings (05/23/2025). GBFF files were re-downloaded for \n",
    "# the Campylobacterota phylum on 05/25/2025. \n",
    "\n",
    "# ncbi = src.tools.download.NCBI()\n",
    "# ncbi.get_genomes(genome_ids=genome_ids, include=['gbff'], dirs={'gbff':'../data/ncbi/gbffs/'})\n",
    "# ncbi.cleanup()\n",
    "\n"
   ]
  },
  {
   "cell_type": "code",
   "execution_count": null,
   "metadata": {},
   "outputs": [],
   "source": [
    "# Want to obtain the actual taxa names from the numbers provided in AntiFam. \n",
    "antifam_df = pd.read_csv('../data/antifam_bacteria.csv', index_col=0)"
   ]
  },
  {
   "cell_type": "code",
   "execution_count": 3,
   "metadata": {},
   "outputs": [],
   "source": [
    "# is_bacterial = lambda df : np.array(['2' in lineage.split(' ') for lineage in df.lineage])\n",
    "\n",
    "def filter_length(df:pd.DataFrame, max_length:int=2000, seq_col:str='seq'):\n",
    "    mask = df[seq_col].apply(len) >= max_length\n",
    "    print(f'filter_length: Removing {mask.sum()} sequences exceeding the maximum length of {max_length}.')\n",
    "    df = df[~mask].copy()\n",
    "    return df\n",
    "\n",
    "def filter_suspect(df:pd.DataFrame):\n",
    "    # Just checking if the product is \"hypothetical protein\" is sufficient for removing suspect sequences, as all non-annotated\n",
    "    # sequences derived from ab initio predictions are assigned this exact label. However, there are homology-derived hypothetical\n",
    "    # sequences which have different labels (e.g. \"Uncharacterized protein\")\n",
    "    mask = (df['product'] == 'hypothetical protein') & (df.evidence_type == 'ab initio prediction')\n",
    "    print(f'filter_length: Removing {mask.sum()} suspect sequences.')\n",
    "    df = df[~mask].copy()\n",
    "    return df\n",
    "\n",
    "def filter_duplicates(df:pd.DataFrame, seq_col:str='seq'):\n",
    "    # There are some duplicate IDs, as the same gene can be present in multiple genomes. Additionally, there are\n",
    "    # some entries for identical sequences which do not have the same ID. This can mess up the bisecting k-means clustering, \n",
    "    # so I decided to remove these instances. \n",
    "    mask = df[seq_col].duplicated(keep='first')\n",
    "    print(f'Removing {mask.sum()} duplicate sequences from the dataset')\n",
    "    df = df[~mask].copy()\n",
    "    return df \n"
   ]
  },
  {
   "cell_type": "code",
   "execution_count": 4,
   "metadata": {},
   "outputs": [
    {
     "name": "stdout",
     "output_type": "stream",
     "text": [
      "filter_length: Removing 1310 sequences exceeding the maximum length of 2000.\n",
      "Removing 138631 duplicate sequences from the dataset\n"
     ]
    }
   ],
   "source": [
    "swissprot_df = pd.read_csv('../data/swissprot.csv', index_col=0)\n",
    "swissprot_df = swissprot_df[swissprot_df.domain.isin(['Bacteria', 'Viruses'])]\n",
    "\n",
    "swissprot_df = filter_length(swissprot_df)\n",
    "swissprot_df = filter_duplicates(swissprot_df)\n",
    "\n",
    "# Make a FASTA file for generating embeddings for the embeddings library. \n",
    "# FASTAFile(df=swissprot_df).write('swissprot.faa')"
   ]
  },
  {
   "cell_type": "code",
   "execution_count": null,
   "metadata": {},
   "outputs": [
    {
     "name": "stderr",
     "output_type": "stream",
     "text": [
      "NCBI._get_metadata: Downloading metadata.:   0%|          | 0/289 [00:00<?, ?it/s]"
     ]
    },
    {
     "name": "stderr",
     "output_type": "stream",
     "text": [
      "NCBI._get_metadata: Downloading metadata.:  58%|█████▊    | 168/289 [49:45<36:24, 18.06s/it] "
     ]
    }
   ],
   "source": [
    "ncbi = src.tools.download.NCBI()\n",
    "ncbi.get_taxonomy_metadata(swissprot_df.ncbi_taxonomy_id.unique(), path='../data/swissprot_taxonomy_metadata.tsv')\n"
   ]
  },
  {
   "cell_type": "code",
   "execution_count": 3,
   "metadata": {},
   "outputs": [
    {
     "name": "stdout",
     "output_type": "stream",
     "text": [
      "Removing 144629 duplicate sequences from the dataset\n",
      "filter_length: Removing 675 sequences exceeding the maximum length of 2000.\n"
     ]
    }
   ],
   "source": [
    "dataset_df = pd.read_csv('../data/swissprot.csv', index_col=0)\n",
    "dataset_df = dataset_df[dataset_df.domain.isin(['Bacteria', 'Viruses'])]\n",
    "\n",
    "antifam_df = pd.read_csv('../data/antifam_bacteria.csv', index_col=0)\n",
    "\n",
    "dataset_df['library_entry_name'] = 'swissprot' \n",
    "antifam_df['library_entry_name'] = 'antifam'\n",
    "\n",
    "dataset_df = pd.concat([antifam_df.assign(label=0), dataset_df.assign(label=1)])\n",
    "dataset_df = fillna(dataset_df, rules={str:'none', bool:False, int:0, float:0})\n",
    "\n",
    "dataset_df = filter_duplicates(dataset_df)\n",
    "dataset_df = filter_length(dataset_df)\n",
    "\n",
    "dataset_df.to_csv('../data/datasets/swissprot/dataset.csv')"
   ]
  },
  {
   "cell_type": "code",
   "execution_count": null,
   "metadata": {},
   "outputs": [],
   "source": [
    "genome_metadata_df = pd.read_csv('../data/genome_metadata.csv', index_col=0)\n",
    "genome_ids = genome_metadata_df[genome_metadata_df.phylum == 'Campylobacterota'].index.values \n",
    "\n",
    "dataset_df = list()\n",
    "for genome_id in tqdm(genome_ids, desc='Building dataset from NCBI reference.'):\n",
    "    protein_path = f'../data/ncbi/proteins/{genome_id}_protein.faa'\n",
    "    gbff_path = f'../data/ncbi/gbffs/{genome_id}_genomic.gbff'\n",
    "\n",
    "    gbff_df = GBFFFile(gbff_path).to_df()\n",
    "    gbff_df = gbff_df[(gbff_df.feature == 'CDS') & (~gbff_df.pseudo)].copy()\n",
    "    gbff_df['copy_number'] = gbff_df.protein_id.map(gbff_df.protein_id.value_counts()) # There are sometimes multiple copies of the same protein. \n",
    "    gbff_df = gbff_df.drop_duplicates('protein_id').copy()\n",
    "    gbff_df = gbff_df.drop(columns=['seq']) # Use the sequences from the protein DataFrame, just to make sure everything is equal. \n",
    "    gbff_df = gbff_df.set_index('protein_id')\n",
    "    gbff_df.index.name = 'id'\n",
    "\n",
    "    fasta_df = FASTAFile(path=protein_path).to_df(prodigal_output=False)\n",
    "    fasta_df = fasta_df.drop(columns=['description'])\n",
    "\n",
    "    assert len(fasta_df) == len(gbff_df), 'Expected the number of non-pseudo CDS entries in the GBFF file to match the entries in the FASTA file.'\n",
    "    assert np.all(np.sort(fasta_df.index) == np.sort(gbff_df.index)), 'Expected the number of non-pseudo CDS entries in the GBFF file to match the entries in the FASTA file.'\n",
    "    assert fasta_df.index.is_unique and gbff_df.index.is_unique, 'Expected the indices of both DataFrames to be unique.'\n",
    "\n",
    "    dataset_df.append(fasta_df.merge(gbff_df, left_index=True, right_index=True).assign(genome_id=genome_id))\n",
    "\n",
    "dataset_df = pd.concat(dataset_df)\n",
    "dataset_df = filter_suspect(dataset_df)\n"
   ]
  },
  {
   "cell_type": "code",
   "execution_count": null,
   "metadata": {},
   "outputs": [
    {
     "name": "stdout",
     "output_type": "stream",
     "text": [
      "Removing 394 sequences exceeding the maximum length from the dataset.\n",
      "Removing 44438 suspect sequences from the dataset.\n",
      "Removing 9522 duplicate sequences from the dataset\n"
     ]
    }
   ],
   "source": [
    "antifam_df = pd.read_csv('../data/antifam_bacteria.csv', index_col=0)\n",
    "\n",
    "dataset_df['library_entry_name'] = dataset_df.genome_id \n",
    "antifam_df['library_entry_name'] = 'antifam'\n",
    "\n",
    "dataset_df = pd.concat([antifam_df.assign(label=0), dataset_df.assign(label=1)])\n",
    "dataset_df = fillna(dataset_df, rules={str:'none', bool:False, int:0, float:0})\n",
    "\n",
    "dataset_df = filter_duplicates(dataset_df)\n",
    "dataset_df = filter_length(dataset_df)\n",
    "dataset_df.to_csv('../data/datasets/campylobacterota/dataset.csv')\n"
   ]
  },
  {
   "cell_type": "code",
   "execution_count": null,
   "metadata": {},
   "outputs": [],
   "source": [
    "# dataset_subset_df = dataset_df.sample(5000, random_state=42)\n",
    "# dataset_subset_df.to_csv('../data/dataset_subset.csv')"
   ]
  },
  {
   "cell_type": "code",
   "execution_count": 5,
   "metadata": {},
   "outputs": [
    {
     "data": {
      "text/html": [
       "<div>\n",
       "<style scoped>\n",
       "    .dataframe tbody tr th:only-of-type {\n",
       "        vertical-align: middle;\n",
       "    }\n",
       "\n",
       "    .dataframe tbody tr th {\n",
       "        vertical-align: top;\n",
       "    }\n",
       "\n",
       "    .dataframe thead th {\n",
       "        text-align: right;\n",
       "    }\n",
       "</style>\n",
       "<table border=\"1\" class=\"dataframe\">\n",
       "  <thead>\n",
       "    <tr style=\"text-align: right;\">\n",
       "      <th></th>\n",
       "      <th>mmseqs_cluster_rep</th>\n",
       "      <th>mmseqs_cluster_id</th>\n",
       "    </tr>\n",
       "    <tr>\n",
       "      <th>id</th>\n",
       "      <th></th>\n",
       "      <th></th>\n",
       "    </tr>\n",
       "  </thead>\n",
       "  <tbody>\n",
       "    <tr>\n",
       "      <th>B3CM19</th>\n",
       "      <td>B3CM19</td>\n",
       "      <td>0</td>\n",
       "    </tr>\n",
       "    <tr>\n",
       "      <th>Q8PJ57</th>\n",
       "      <td>Q8PJ57</td>\n",
       "      <td>1</td>\n",
       "    </tr>\n",
       "    <tr>\n",
       "      <th>Q4UWA0</th>\n",
       "      <td>Q8PJ57</td>\n",
       "      <td>1</td>\n",
       "    </tr>\n",
       "    <tr>\n",
       "      <th>B0RRB6</th>\n",
       "      <td>Q8PJ57</td>\n",
       "      <td>1</td>\n",
       "    </tr>\n",
       "    <tr>\n",
       "      <th>Q3BRP7</th>\n",
       "      <td>Q8PJ57</td>\n",
       "      <td>1</td>\n",
       "    </tr>\n",
       "    <tr>\n",
       "      <th>...</th>\n",
       "      <td>...</td>\n",
       "      <td>...</td>\n",
       "    </tr>\n",
       "    <tr>\n",
       "      <th>P54907</th>\n",
       "      <td>P54907</td>\n",
       "      <td>64588</td>\n",
       "    </tr>\n",
       "    <tr>\n",
       "      <th>P55395</th>\n",
       "      <td>P54907</td>\n",
       "      <td>64588</td>\n",
       "    </tr>\n",
       "    <tr>\n",
       "      <th>P18473</th>\n",
       "      <td>P18473</td>\n",
       "      <td>64589</td>\n",
       "    </tr>\n",
       "    <tr>\n",
       "      <th>P55396</th>\n",
       "      <td>P55396</td>\n",
       "      <td>64590</td>\n",
       "    </tr>\n",
       "    <tr>\n",
       "      <th>P54908</th>\n",
       "      <td>P55396</td>\n",
       "      <td>64590</td>\n",
       "    </tr>\n",
       "  </tbody>\n",
       "</table>\n",
       "<p>294506 rows × 2 columns</p>\n",
       "</div>"
      ],
      "text/plain": [
       "       mmseqs_cluster_rep  mmseqs_cluster_id\n",
       "id                                          \n",
       "B3CM19             B3CM19                  0\n",
       "Q8PJ57             Q8PJ57                  1\n",
       "Q4UWA0             Q8PJ57                  1\n",
       "B0RRB6             Q8PJ57                  1\n",
       "Q3BRP7             Q8PJ57                  1\n",
       "...                   ...                ...\n",
       "P54907             P54907              64588\n",
       "P55395             P54907              64588\n",
       "P18473             P18473              64589\n",
       "P55396             P55396              64590\n",
       "P54908             P55396              64590\n",
       "\n",
       "[294506 rows x 2 columns]"
      ]
     },
     "execution_count": 5,
     "metadata": {},
     "output_type": "execute_result"
    }
   ],
   "source": [
    "mmseqs_cluster_df"
   ]
  },
  {
   "cell_type": "code",
   "execution_count": null,
   "metadata": {},
   "outputs": [
    {
     "name": "stdout",
     "output_type": "stream",
     "text": [
      "Number of clusters: 64591\n"
     ]
    }
   ],
   "source": [
    "# What is a good estimate for the number of clusters? Maybe use 50 percent sequence similarity?\n",
    "# This resulted in about 70000 clusters for the Campylobacterota dataset. \n",
    "# This resulted in about 665000 clusters for the SwissProt dataset. \n",
    "mmseqs = MMSeqs()\n",
    "mmseqs_cluster_df = mmseqs.cluster(dataset_df, name='dataset', output_dir='../data/datasets/swissprot', sequence_identity=0.5, overwrite=False)\n",
    "mmseqs.cleanup()\n",
    "print('Number of clusters:', mmseqs_cluster_df.mmseqs_cluster_id.nunique())"
   ]
  },
  {
   "cell_type": "code",
   "execution_count": 3,
   "metadata": {},
   "outputs": [],
   "source": [
    "dataset_df = pd.read_csv('../data/dataset_dereplicated.csv', index_col=0)\n",
    "dataset_df = dataset_df.merge(pd.read_csv('../data/dataset_dereplicated_cluster.csv', index_col=0), left_index=True, right_index=True)"
   ]
  },
  {
   "cell_type": "code",
   "execution_count": 28,
   "metadata": {},
   "outputs": [
    {
     "data": {
      "image/png": "[encoded data removed]",
      "text/plain": [
       "<Figure size 640x480 with 1 Axes>"
      ]
     },
     "metadata": {},
     "output_type": "display_data"
    }
   ],
   "source": [
    "fig, ax = plt.subplots()\n",
    "\n",
    "ax_df = pd.DataFrame(index=dataset_df.cluster_label.unique())\n",
    "ax_df['cluster_size'] = dataset_df.groupby('cluster_label').apply(len, include_groups=False)\n",
    "ax_df['label'] = dataset_df.groupby('cluster_label').label.first()\n",
    "ax_df['label'] = ax_df.label.replace({0:'spurious', 1:'real'})\n",
    "\n",
    "palette = {'spurious':'indianred', 'real':'darkseagreen'}\n",
    "\n",
    "sns.histplot(data=ax_df, x='cluster_size', hue='label', multiple='stack', ax=ax, palette=palette)\n",
    "ax.set_ylabel('count')\n",
    "\n",
    "plt.show()"
   ]
  },
  {
   "cell_type": "code",
   "execution_count": null,
   "metadata": {},
   "outputs": [],
   "source": [
    "sequence_identities_df = list()\n",
    "min_sequence_identity = 1\n",
    "\n",
    "pbar = tqdm(list(dataset_df.groupby('cluster_label')), desc='Computing sequence identities.')\n",
    "for cluster_label, df in pbar:\n",
    "    values = get_sequence_identities(df, as_matrix=False)\n",
    "\n",
    "    row = dict()\n",
    "    row['cluster_label'] = cluster_label\n",
    "    row['mean_sequence_identity'] = values.mean()\n",
    "    row['min_sequence_identity'] = values.min()\n",
    "    row['max_sequence_identity'] = values.max()\n",
    "    row['standard_deviation'] = np.std(values)\n",
    "    row['n_alignments'] = len(values)\n",
    "    \n",
    "    sequence_identities_df.append(row)\n",
    "\n",
    "    if row['min_sequence_identity'] < min_sequence_identity:\n",
    "        min_sequence_identity = row['min_sequence_identity']\n",
    "        pbar.set_description(f'Computing sequence identities. Minimum identity {min_sequence_identity:.2f} found in cluster {cluster_label}.')\n",
    "\n",
    "pbar.close()\n",
    "sequence_identities_df = pd.DataFrame(sequence_identities_df).set_index('cluster_label')\n",
    "sequence_identities_df.to_csv('dataset_dereplicated_cluster_sequence_identities.csv')"
   ]
  },
  {
   "cell_type": "code",
   "execution_count": null,
   "metadata": {},
   "outputs": [
    {
     "data": {
      "image/png": "[encoded data removed]",
      "text/plain": [
       "<Figure size 1000x500 with 2 Axes>"
      ]
     },
     "metadata": {},
     "output_type": "display_data"
    }
   ],
   "source": [
    "sequence_identities_df = pd.read_csv('dataset_dereplicated_cluster_sequence_identities.csv', index_col=0)\n",
    "\n",
    "fig, (ax_a, ax_b) = plt.subplots(ncols=2, figsize=(10, 5))\n",
    "\n",
    "ax_a_df = sequence_identities_df.copy()\n",
    "ax_a_df['label'] = dataset_df.groupby('cluster_label').label.first()\n",
    "palette = {'spurious':'indianred', 'real':'darkseagreen'}\n",
    "\n",
    "linestyles = {0:'--', 1:'-'}\n",
    "for label, df in ax_a_df.groupby('label'):\n",
    "    sns.ecdfplot(data=df, x='mean_sequence_identity', ax=ax_a, color='dimgray', label='mean sequence identity', linestyle=linestyles[label])\n",
    "    sns.ecdfplot(data=df, x='min_sequence_identity', ax=ax_a, color='indianred', label='min. sequence identity', linestyle=linestyles[label])\n",
    "    sns.ecdfplot(data=df, x='max_sequence_identity', ax=ax_a, color='steelblue', label='max. sequence identity', linestyle=linestyles[label])\n",
    "ax_a.set_ylabel('proportion')\n",
    "\n",
    "ax_b_df = pd.DataFrame(index=dataset_train_df.cluster_label.unique())\n",
    "\n",
    "ax_b_df['cluster_size'] = ax_b_df.index.map(dataset_df.groupby('cluster_label').apply(len, include_groups=False))\n",
    "# ax_b_df = ax_b_df.merge(sequence_identities_df, left_index=True, right_index=True)\n",
    "# ax_b_df = ax_b_df.sort_values('min_sequence_identity').copy().iloc[:1000]\n",
    "\n",
    "# sns.scatterplot(data=ax_b_df, x='min_sequence_identity', y='max_sequence_identity', ax=ax_b, color='dimgray')\n",
    "\n",
    "fig.tight_layout()\n",
    "plt.show()"
   ]
  },
  {
   "cell_type": "code",
   "execution_count": null,
   "metadata": {},
   "outputs": [
    {
     "name": "stdout",
     "output_type": "stream",
     "text": [
      "Removing 383 sequences which exceed the maximum length.\n"
     ]
    }
   ],
   "source": [
    "\n",
    "prodigal_df = list()\n",
    "for genome_id in genome_ids:\n",
    "    top_hits_df = Reference.load(f'../data/compare/{genome_id}_top_hits.csv')\n",
    "    top_hits_df['genome_id'] = genome_id\n",
    "    prodigal_df.append(top_hits_df)\n",
    "prodigal_df = pd.concat(prodigal_df)\n",
    "prodigal_df = filter_length(prodigal_df)\n"
   ]
  }
 ],
 "metadata": {
  "kernelspec": {
   "display_name": "frugal",
   "language": "python",
   "name": "python3"
  },
  "language_info": {
   "codemirror_mode": {
    "name": "ipython",
    "version": 3
   },
   "file_extension": ".py",
   "mimetype": "text/x-python",
   "name": "python",
   "nbconvert_exporter": "python",
   "pygments_lexer": "ipython3",
   "version": "3.13.2"
  }
 },
 "nbformat": 4,
 "nbformat_minor": 2
}
