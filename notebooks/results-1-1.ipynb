{
 "cells": [
  {
   "cell_type": "code",
   "execution_count": null,
   "metadata": {},
   "outputs": [
    {
     "name": "stdout",
     "output_type": "stream",
     "text": [
      "The autoreload extension is already loaded. To reload it, use:\n",
      "  %reload_ext autoreload\n"
     ]
    }
   ],
   "source": [
    "import pandas as pd \n",
    "import numpy as np \n",
    "import os \n",
    "import glob\n",
    "from utils import * \n",
    "from sklearn.metrics import balanced_accuracy_score, confusion_matrix\n",
    "import seaborn as sns \n",
    "import matplotlib.pyplot as plt\n",
    "import warnings\n",
    "warnings.simplefilter('ignore')\n",
    "\n",
    "%load_ext autoreload\n",
    "%autoreload 2\n",
    "%matplotlib inline"
   ]
  },
  {
   "cell_type": "code",
   "execution_count": 19,
   "metadata": {},
   "outputs": [],
   "source": [
    "def balanced_accuracy(df:pd.DataFrame):\n",
    "    '''Compute the balanced accuracy.'''\n",
    "    return balanced_accuracy_score(df.label, df.model_label)"
   ]
  },
  {
   "cell_type": "code",
   "execution_count": 20,
   "metadata": {},
   "outputs": [],
   "source": [
    "test_results_df = pd.read_csv('../data/results/dataset_test_predict.csv', index_col=0).assign(dataset='test')\n",
    "test_results_df = test_results_df.merge(pd.read_csv('../data/dataset/dataset_test.csv', index_col=0), left_index=True, right_index=True, how='left')\n",
    "\n",
    "train_results_df = pd.read_csv('../data/results/dataset_train_predict.csv', index_col=0).assign(dataset='train')\n",
    "train_results_df = train_results_df.merge(pd.read_csv('../data/dataset/dataset_train.csv', index_col=0), left_index=True, right_index=True, how='left')\n",
    "\n",
    "results_df = pd.concat([train_results_df, test_results_df])\n",
    "results_df['length'] = results_df.seq.apply(len)"
   ]
  },
  {
   "cell_type": "code",
   "execution_count": 21,
   "metadata": {},
   "outputs": [
    {
     "name": "stdout",
     "output_type": "stream",
     "text": [
      "\\begin{table}\n",
      "\\label{results-1.1_table-1}\n",
      "\\begin{tabular}{lcccc}\n",
      "\\hline\n",
      " & true\\_positive & true\\_negative & false\\_positive & false\\_negative & accuracy \\\\\n",
      "model_name &  &  &  &  &  \\\\\n",
      "\\hline\n",
      "model\\_v1 & 258325 & 17221 & 3 & 1041 & 0.998 \\\\\n",
      "model\\_v2 & 258687 & 17216 & 8 & 679 & 0.999 \\\\\n",
      "model\\_v3 & 258686 & 17214 & 10 & 680 & 0.998 \\\\\n",
      "\\hline\n",
      "\\end{tabular}\n",
      "\\end{table}\n",
      "\n"
     ]
    },
    {
     "data": {
      "text/html": [
       "<div>\n",
       "<style scoped>\n",
       "    .dataframe tbody tr th:only-of-type {\n",
       "        vertical-align: middle;\n",
       "    }\n",
       "\n",
       "    .dataframe tbody tr th {\n",
       "        vertical-align: top;\n",
       "    }\n",
       "\n",
       "    .dataframe thead th {\n",
       "        text-align: right;\n",
       "    }\n",
       "</style>\n",
       "<table border=\"1\" class=\"dataframe\">\n",
       "  <thead>\n",
       "    <tr style=\"text-align: right;\">\n",
       "      <th></th>\n",
       "      <th>true_positive</th>\n",
       "      <th>true_negative</th>\n",
       "      <th>false_positive</th>\n",
       "      <th>false_negative</th>\n",
       "      <th>accuracy</th>\n",
       "    </tr>\n",
       "    <tr>\n",
       "      <th>model_name</th>\n",
       "      <th></th>\n",
       "      <th></th>\n",
       "      <th></th>\n",
       "      <th></th>\n",
       "      <th></th>\n",
       "    </tr>\n",
       "  </thead>\n",
       "  <tbody>\n",
       "    <tr>\n",
       "      <th>model_v1</th>\n",
       "      <td>258325</td>\n",
       "      <td>17221</td>\n",
       "      <td>3</td>\n",
       "      <td>1041</td>\n",
       "      <td>0.9979</td>\n",
       "    </tr>\n",
       "    <tr>\n",
       "      <th>model_v2</th>\n",
       "      <td>258687</td>\n",
       "      <td>17216</td>\n",
       "      <td>8</td>\n",
       "      <td>679</td>\n",
       "      <td>0.9985</td>\n",
       "    </tr>\n",
       "    <tr>\n",
       "      <th>model_v3</th>\n",
       "      <td>258686</td>\n",
       "      <td>17214</td>\n",
       "      <td>10</td>\n",
       "      <td>680</td>\n",
       "      <td>0.9984</td>\n",
       "    </tr>\n",
       "  </tbody>\n",
       "</table>\n",
       "</div>"
      ],
      "text/plain": [
       "            true_positive  true_negative  false_positive  false_negative  \\\n",
       "model_name                                                                 \n",
       "model_v1           258325          17221               3            1041   \n",
       "model_v2           258687          17216               8             679   \n",
       "model_v3           258686          17214              10             680   \n",
       "\n",
       "            accuracy  \n",
       "model_name            \n",
       "model_v1      0.9979  \n",
       "model_v2      0.9985  \n",
       "model_v3      0.9984  "
      ]
     },
     "execution_count": 21,
     "metadata": {},
     "output_type": "execute_result"
    }
   ],
   "source": [
    "def table_1(results_df:pd.DataFrame):\n",
    "    '''Results of each model on the combined training and testing dataset, with labels assigned using the default threshold\n",
    "    of 0.5. The v2 model has slightly higher accuracy than the v3 model, so we opted to use v2 for all subsequent analysis.'''\n",
    "\n",
    "    model_names = [os.path.basename(path).replace('.pkl', '') for path in glob.glob('../models/*pkl')]\n",
    "\n",
    "    table_df = list()\n",
    "    for model_name in model_names:\n",
    "        row = dict()\n",
    "        row['model_name'] = model_name\n",
    "\n",
    "        tn, fp, fn, tp = confusion_matrix(results_df['label'], results_df[f'{model_name}_label']).ravel()\n",
    "        row['true_positive'] = tp\n",
    "        row['true_negative'] = tn\n",
    "        row['false_positive'] = fp\n",
    "        row['false_negative'] = fn\n",
    "        row['accuracy'] = np.round(balanced_accuracy_score(results_df.label, results_df[f'{model_name}_label']), 4)\n",
    "        table_df.append(row)\n",
    "\n",
    "    table_df = pd.DataFrame(table_df).set_index('model_name')\n",
    "    table_df = table_df.sort_values('false_positive')\n",
    "\n",
    "    save_table(table_df, label='results-1.1_table-1')\n",
    "\n",
    "    return table_df\n",
    "\n",
    "table_1(results_df)\n"
   ]
  },
  {
   "cell_type": "code",
   "execution_count": 22,
   "metadata": {},
   "outputs": [],
   "source": [
    "model_name = 'model_v2' # Select model_v2 as the model to use for all subsequent analysis.\n",
    "\n",
    "train_results_df = train_results_df.rename(columns={col:col.replace(model_name, 'model') for col in train_results_df.columns})\n",
    "test_results_df = test_results_df.rename(columns={col:col.replace(model_name, 'model') for col in test_results_df.columns})\n",
    "results_df = results_df.rename(columns={col:col.replace(model_name, 'model') for col in results_df.columns})"
   ]
  },
  {
   "cell_type": "code",
   "execution_count": 23,
   "metadata": {},
   "outputs": [],
   "source": [
    "def recall(df:pd.DataFrame, label=0, threshold:float=None) -> float:\n",
    "    '''Computes the precision of the model's predictions. Recall summarizes how well the positive class was predicted and is the same calculation as sensitivity.'''\n",
    "    model_labels = np.where(df[f'model_output_{label}'] > threshold, label, int(not label))\n",
    "    n = ((model_labels == label) & (df.label == label)).sum()\n",
    "    N = (df.label == label).sum() # Total number of relevant instances (i.e. members of the class)\n",
    "    return n / N\n",
    "\n",
    "def precision(df:pd.DataFrame, label=0, threshold:float=None) -> float:\n",
    "    '''Computes the precision of the model's predictions. Precision summarizes the fraction of examples assigned the positive class that belong to the positive class.'''\n",
    "    model_labels = np.where(df[f'model_output_{label}'] > threshold, label, int(not label))\n",
    "    n = ((model_labels == label) & (df.label == label)).sum()\n",
    "    N = (model_labels == label).sum() # Total number of retrieved instances (i.e. predicted members of the class)\n",
    "    return n / N"
   ]
  },
  {
   "cell_type": "code",
   "execution_count": 24,
   "metadata": {},
   "outputs": [
    {
     "name": "stdout",
     "output_type": "stream",
     "text": [
      "figure: Num. uncertain sequences: 890 (0.32%)\n",
      "figure: Num. uncertain real sequences: 613 (0.24%)\n",
      "figure: Num. uncertain spurious sequences: 277 (1.61%)\n"
     ]
    },
    {
     "data": {
      "image/png": "[encoded data removed]",
      "text/plain": [
       "<Figure size 334.646x250.984 with 2 Axes>"
      ]
     },
     "metadata": {},
     "output_type": "display_data"
    }
   ],
   "source": [
    "# Ultimate goal is to minimize the number of spurious proteins classified as real and real proteins classified\n",
    "# as spurious; we don't care as much about the recall.\n",
    "\n",
    "# We want to select a spurious threshold which minimizes false negatives and \n",
    "\n",
    "def figure_1(results_df, real_threshold:float=0.6, spurious_threshold:float=0.95, path:str='../figures/results-1.1_figure-1.pdf'):\n",
    "    '''The variation of precision and recall with respect to the selected threshold. Precision and recall are computed\n",
    "    with respect to the {label} class. We opted for a threshold of 0.95 in order to minimize the false negative rate, \n",
    "    i.e. the proportion of real sequences incorrectly-classified as spurious.'''\n",
    "\n",
    "    min_threshold = 0.5\n",
    "    max_threshold = 0.98\n",
    "    thresholds = list(np.linspace(min_threshold, 0.9, 20)) + [max_threshold]\n",
    "\n",
    "    fig, ax = get_figure()\n",
    "    ax_ = ax.twinx()\n",
    "\n",
    "    palette = {0:'indianred', 1:'darkseagreen'}\n",
    "    for label, df in results_df.groupby('label'):\n",
    "        ax_df = pd.DataFrame(index=np.arange(len(thresholds)))\n",
    "        ax_df['threshold'] = thresholds\n",
    "        ax_df['precision'] = [precision(results_df, label=label, threshold=threshold) for threshold in thresholds]\n",
    "        ax_df['recall'] = [recall(results_df, label=label, threshold=threshold) for threshold in thresholds]\n",
    "\n",
    "        sns.lineplot(data=ax_df, ax=ax_, x='threshold', y='recall', color=palette[label], ls=':', lw=2)\n",
    "        sns.lineplot(data=ax_df, ax=ax, x='threshold', y='precision', color=palette[label], ls='-', lw=2)\n",
    "        # ax.axvline(threshold, color='black', linewidth=0.5, linestyle='--')\n",
    "\n",
    "    n_false_positive = ((results_df.model_output_1 > real_threshold) & (results_df.label == 0)).sum()\n",
    "    n_false_negative = ((results_df.model_output_0 > spurious_threshold) & (results_df.label == 1)).sum()\n",
    "    n_true_negative = ((results_df.model_output_0 > spurious_threshold) & (results_df.label == 0)).sum()\n",
    "\n",
    "    ax.set_xlim(xmin=min_threshold, xmax=max_threshold)\n",
    "    ax.axvline(real_threshold, ls='--', color='black', lw=0.7)\n",
    "    ax.axvline(spurious_threshold, ls='--', color='black', lw=0.7)\n",
    "\n",
    "    text = '$n_{fp} = $' + str(n_false_positive) + '\\n'\n",
    "    text += '$n_{fn} = $' + str(n_false_negative) + '\\n\\n'\n",
    "    text += 'FP / (FP + TN) = ' + get_percent(n_false_positive, n_false_positive + n_true_negative) + '\\n\\n'\n",
    "    text += 'TN / (FN + TN) = ' + get_percent(n_true_negative, (n_false_negative + n_true_negative))\n",
    "    ax.text(0.1, 0.5, text, transform=ax.transAxes) # Percentage indicates the false positive rate.\n",
    "\n",
    "    ax.text(spurious_threshold + 0.05, 1.02, 'spurious', transform=ax.transAxes, ha='center', rotation=45)\n",
    "    ax.text(real_threshold - 0.15, 1.03, 'real', transform=ax.transAxes, ha='center', rotation=45)\n",
    "\n",
    "    uncertain_mask = (results_df.model_output_0 <= spurious_threshold) & (results_df.model_output_1 <= real_threshold)\n",
    "    n_uncertain = uncertain_mask.sum()\n",
    "    n_uncertain_real = (uncertain_mask & (results_df.label == 1)).sum()\n",
    "    n_uncertain_spurious = (uncertain_mask & (results_df.label == 0)).sum()\n",
    "    n_real, n_spurious = (results_df.label == 1).sum(), (results_df.label == 0).sum()\n",
    "    print('figure: Num. uncertain sequences:', n_uncertain, f'({get_percent(n_uncertain, len(results_df))})' )\n",
    "    print('figure: Num. uncertain real sequences:', n_uncertain_real, f'({get_percent(n_uncertain_real, n_real)})' )\n",
    "    print('figure: Num. uncertain spurious sequences:', n_uncertain_spurious, f'({get_percent(n_uncertain_spurious, n_spurious)})' )\n",
    "    \n",
    "    save_figure(fig, path=path)\n",
    "\n",
    "figure_1(results_df, real_threshold=0.8, spurious_threshold=0.95)\n",
    "# figure_1(results_df, threshold=0.8, label=1)"
   ]
  },
  {
   "cell_type": "code",
   "execution_count": 25,
   "metadata": {},
   "outputs": [
    {
     "name": "stdout",
     "output_type": "stream",
     "text": [
      "Num false positives: 3 (0.02%)\n",
      "Num. false positives in testing dataset: 1 (0.03%)\n",
      "Num. false positives in training dataset: 2 (0.01%)\n",
      "\n",
      "Num. false negatives: 300 (0.12%)\n",
      "Num. false negatives in testing dataset: 13 (0.03%)\n",
      "Num. false negatives in training dataset: 287 (0.14%)\n"
     ]
    }
   ],
   "source": [
    "thresholds = (0.8, 0.95) # Apply the selected threshold to the sequences. \n",
    "\n",
    "if results_df.label.dtype == int:\n",
    "    results_df['label'] = np.where(results_df.label == 0, 'spurious', 'real')\n",
    "\n",
    "results_df = apply_thresholds(results_df, *thresholds)\n",
    "\n",
    "fp_results_df = results_df[(results_df.model_label == 'real') & (results_df.label == 'spurious')].copy()\n",
    "fn_results_df = results_df[(results_df.model_label == 'spurious') & (results_df.label == 'real')].copy()\n",
    "tp_results_df = results_df[(results_df.model_label == 'real') & (results_df.label == 'real')].copy()\n",
    "tn_results_df = results_df[(results_df.model_label == 'spurious') & (results_df.label == 'spurious')].copy()\n",
    "\n",
    "n_real, n_spurious = (results_df.label == 'real').sum(), (results_df.label == 'spurious').sum()\n",
    "n_real_test, n_spurious_test = ((results_df.label == 'real') & (results_df.dataset == 'test')).sum(), ((results_df.label == 'spurious') & (results_df.dataset == 'test')).sum()\n",
    "n_real_train, n_spurious_train = ((results_df.label == 'real') & (results_df.dataset == 'train')).sum(), ((results_df.label == 'spurious') & (results_df.dataset == 'train')).sum()\n",
    "\n",
    "print('Num false positives:', len(fp_results_df), f'({get_percent(len(fp_results_df), n_spurious)})')\n",
    "print('Num. false positives in testing dataset:', (fp_results_df.dataset == 'test').sum(), f'({get_percent((fp_results_df.dataset == 'test').sum(), n_spurious_test)})')\n",
    "print('Num. false positives in training dataset:', (fp_results_df.dataset == 'train').sum(), f'({get_percent((fp_results_df.dataset == 'train').sum(), n_spurious_train)})', end='\\n\\n')\n",
    "\n",
    "print('Num. false negatives:', len(fn_results_df), f'({get_percent(len(fn_results_df), n_real)})')\n",
    "print('Num. false negatives in testing dataset:', (fn_results_df.dataset == 'test').sum(), f'({get_percent((fn_results_df.dataset == 'test').sum(), n_real_test)})')\n",
    "print('Num. false negatives in training dataset:', (fn_results_df.dataset == 'train').sum(), f'({get_percent((fn_results_df.dataset == 'train').sum(), n_real_train)})')\n"
   ]
  },
  {
   "cell_type": "code",
   "execution_count": 32,
   "metadata": {},
   "outputs": [
    {
     "data": {
      "text/html": [
       "<table border=\"1\" class=\"dataframe\">\n",
       "  <thead>\n",
       "    <tr style=\"text-align: right;\">\n",
       "      <th>dataset</th>\n",
       "      <th>all</th>\n",
       "      <th>test</th>\n",
       "      <th>train</th>\n",
       "    </tr>\n",
       "    <tr>\n",
       "      <th>metric</th>\n",
       "      <th></th>\n",
       "      <th></th>\n",
       "      <th></th>\n",
       "    </tr>\n",
       "  </thead>\n",
       "  <tbody>\n",
       "    <tr>\n",
       "      <th>balanced accuracy</th>\n",
       "      <td>0.990112</td>\n",
       "      <td>0.989149</td>\n",
       "      <td>0.990320</td>\n",
       "    </tr>\n",
       "    <tr>\n",
       "      <th>precision</th>\n",
       "      <td>0.999988</td>\n",
       "      <td>0.999981</td>\n",
       "      <td>0.999990</td>\n",
       "    </tr>\n",
       "    <tr>\n",
       "      <th>recall</th>\n",
       "      <td>0.996480</td>\n",
       "      <td>0.998801</td>\n",
       "      <td>0.995902</td>\n",
       "    </tr>\n",
       "  </tbody>\n",
       "</table>"
      ],
      "text/plain": [
       "<IPython.core.display.HTML object>"
      ]
     },
     "metadata": {},
     "output_type": "display_data"
    }
   ],
   "source": [
    "def table(results_df:pd.DataFrame, exclude_uncertain:bool=False):\n",
    "    '''Precision, recall, and balanced accuracy of the model on the training and testing datasets. Sequences classified as \"uncertain\"\n",
    "    are considered to be mislabeled unless explicitly excluded.'''\n",
    "\n",
    "    def recall(df:pd.DataFrame, label='real') -> float:\n",
    "        '''Computes the precision of the model's predictions. Recall summarizes how well the positive class was predicted and is the same calculation as sensitivity.'''\n",
    "        n = ((df.model_label == label) & (df.label == label)).sum()\n",
    "        N = (df.label == label).sum() # Total number of relevant instances (i.e. members of the class)\n",
    "        return n / N\n",
    "\n",
    "    def precision(df:pd.DataFrame, label='real') -> float:\n",
    "        '''Computes the precision of the model's predictions. Precision summarizes the fraction of examples assigned the positive class that belong to the positive class.'''\n",
    "        n = ((df.model_label == label) & (df.label == label)).sum()\n",
    "        N = (df.model_label == label).sum() # Total number of retrieved instances (i.e. predicted members of the class)\n",
    "        return n / N\n",
    "\n",
    "    if exclude_uncertain:\n",
    "        print(f'table: Excluding {results_df.uncertain.sum()} uncertain predictions.')\n",
    "        results_df = results_df[results_df.model_label != 'uncertain'].copy()\n",
    "    results_df\n",
    "\n",
    "    masks = dict()\n",
    "    masks['all'] = [True] * len(results_df)\n",
    "    masks['train'] = (results_df.dataset == 'train')\n",
    "    masks['test'] = (results_df.dataset == 'test')\n",
    "\n",
    "    table_df = list()\n",
    "    for dataset, mask in masks.items():\n",
    "        table_df.append({'metric':'balanced accuracy', 'value':balanced_accuracy(results_df[mask]), 'dataset':dataset})\n",
    "        table_df.append({'metric':'precision', 'value':precision(results_df[mask]), 'dataset':dataset})\n",
    "        table_df.append({'metric':'recall', 'value':recall(results_df[mask]), 'dataset':dataset})\n",
    "    table_df = pd.DataFrame(table_df)\n",
    "    table_df = table_df.pivot(index='metric', columns='dataset', values='value')\n",
    "\n",
    "    save_table(table_df)\n",
    "\n",
    "table(results_df)"
   ]
  },
  {
   "cell_type": "code",
   "execution_count": 27,
   "metadata": {},
   "outputs": [
    {
     "name": "stdout",
     "output_type": "stream",
     "text": [
      "A0AAQ1SN28\n",
      "species: Leptospira interrogans\n",
      "antifam_id: ANF00056\n",
      "antifam_description: Translation of DNA repeat\n",
      "length: 42\n",
      "METTTNLTTLDLLESSQIDKYNLICRNYCILKISKELSRKIL\n",
      "\n",
      "A0A2X3JQU9\n",
      "species: Escherichia coli\n",
      "antifam_id: ANF00071\n",
      "antifam_description: Translation of intergenic region\n",
      "length: 36\n",
      "MFIAWYWIVLIALVVVGYFLHLNVIVGRFARTGRTA\n",
      "\n",
      "A0A1R3T7N6\n",
      "species: Proteiniphilum saccharofermentans\n",
      "antifam_id: ANF00014\n",
      "antifam_description: tRNA translation\n",
      "length: 59\n",
      "MFNFKTKKKASAIKTNAFNSNYLAFAVWTGLEPATPCVTGRYSNQLNYHTIFGYYVWTC\n",
      "\n"
     ]
    }
   ],
   "source": [
    "# Because there are so few false positive sequences in the training data, we can look at them manually here.\n",
    "fields = ['species', 'antifam_id', 'antifam_description', 'length']\n",
    "for row in fp_results_df.itertuples():\n",
    "    print(row.Index)\n",
    "    for field in fields:\n",
    "        print(f'{field}:', getattr(row, field))\n",
    "    print(row.seq)\n",
    "    print()"
   ]
  },
  {
   "cell_type": "code",
   "execution_count": 28,
   "metadata": {},
   "outputs": [],
   "source": [
    "# A0AAQ1SN28 is an identical match with SOR60967.1 (locus LMANV2_240019), which is found in a genome with a RefSeq reference annotation\n",
    "# (GCF_900236655.1). Although it is not annotated in the PGAP annotation, there is also no annotated DNA repeat in the region. Sequence seems\n",
    "# to be highly-conserved. AlphaFold structure is a short alpha helix. HMM for ANF00056 is here: https://github.com/ebi-pf-team/antifam/blob/master/ENTRIES/ANF00056.seed\n",
    "\n",
    "# A0A2X3JQU9 is found in an E. coli genome, immediately downstream of ygiE_1 (a zinc transporter). It aligns to E. coli protein yqiD. According to\n",
    "# EcoCyc, this protein is expressed at during exponential growth and stationary phase in rich growth medium. AlphaFold structure is a short,\n",
    "# high-confidence alpha helix. HMM for ANF00071 is here: https://github.com/ebi-pf-team/antifam/blob/master/ENTRIES/ANF00071.seed\n",
    "\n",
    "# A0A1R3T7N6 has multiple strong hits to hypothetical proteins in different species, including an exact match SCD19594.1 (locus PSM36_0767). \n",
    "# Sequence has no secondary structure.Genome in which the exact match was found has a PGAP-annotated reference assembly (GCF_900095135.1).\n",
    "# It is not annotated in the RefSeq genome; a tRNA-Arg is predicted at the same locus.\n"
   ]
  }
 ],
 "metadata": {
  "kernelspec": {
   "display_name": "sprout",
   "language": "python",
   "name": "python3"
  },
  "language_info": {
   "codemirror_mode": {
    "name": "ipython",
    "version": 3
   },
   "file_extension": ".py",
   "mimetype": "text/x-python",
   "name": "python",
   "nbconvert_exporter": "python",
   "pygments_lexer": "ipython3",
   "version": "3.13.2"
  }
 },
 "nbformat": 4,
 "nbformat_minor": 2
}
