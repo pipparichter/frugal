{
 "cells": [
  {
   "cell_type": "code",
   "execution_count": 2,
   "metadata": {},
   "outputs": [],
   "source": [
    "import pandas as pd \n",
    "import numpy as np \n",
    "from utils import * \n",
    "import seaborn as sns \n",
    "import matplotlib.pyplot as plt\n",
    "from matplotlib.gridspec import GridSpec\n",
    "from src.files import FASTAFile, InterProScanFile\n",
    "from src import fillna\n",
    "from src.reference import compare, Reference\n",
    "from src.tools import download, Prodigal\n",
    "\n",
    "%load_ext autoreload \n",
    "%autoreload 2\n",
    "\n",
    "# TODO: Did Prodigal find ribosome binding sites for the spurious sequences?\n",
    "# TODO: How frequently do Shine-Delgarno sequences occur when they are not associated with a protein?\n",
    "# TODO: I am operating under the assumption that the model is underpredicting spurious sequences in Campylobacterota,\n",
    "#   but is this true? Maybe get a better sense using genomes with a more solid ground truth. "
   ]
  },
  {
   "cell_type": "code",
   "execution_count": null,
   "metadata": {},
   "outputs": [],
   "source": [
    "# How should I select the genomes for model training?\n",
    "genome_ids = ['GCF_000005845.2'] # E. coli K-12\n",
    "genome_ids += ['GCF_000009045.1'] # B. subtilis\n",
    "genome_ids += ['GCF_000006765.1'] # P. aeruginosa\n",
    "genome_ids += ['GCF_000195955.2'] # M. tuberculosis\n",
    "\n",
    "names = dict()\n",
    "names['GCF_000005845.2'] = 'E. coli K-12'\n",
    "names['GCF_000009045.1'] = 'B. subtilis 168'\n",
    "names['GCF_000006765.1'] = 'P. aeruginosa'\n",
    "names['GCF_000195955.2'] = 'M. tuberculosis'\n",
    "\n",
    "# ncbi = download.NCBI()\n",
    "# ncbi.get_genomes(genome_ids, include=['gbff', 'genome', 'protein'], dirs={'genome':'../data/ncbi/genomes', 'gbff':'../data/ncbi/gbffs', 'protein':'../data/ncbi/proteins'})\n",
    "# ncbi.cleanup()\n",
    "\n",
    "# prodigal = Prodigal()\n",
    "# for genome_id in genome_ids:\n",
    "#     prodigal.run(f'../data/ncbi/genomes/{genome_id}_genomic.fna', f'../data/prodigal/{genome_id}_protein.faa')\n",
    "\n",
    "# query_paths = [f'../data/prodigal/{genome_id}_protein.faa' for genome_id in genome_ids]\n",
    "# reference_paths = [f'../data/ncbi/gbffs/{genome_id}_genomic.gbff' for genome_id in genome_ids]\n",
    "# for query_path, reference_path in zip(query_paths, reference_paths):\n",
    "#     compare(query_path, reference_path, overwrite=True)"
   ]
  },
  {
   "cell_type": "code",
   "execution_count": null,
   "metadata": {},
   "outputs": [],
   "source": [
    "if not os.path.exists('../data/model_organisms_ncbi.csv'):\n",
    "    ncbi_df = list()\n",
    "    for genome_id in tqdm(genome_ids, desc='Building dataset from NCBI reference.'):\n",
    "        protein_path = f'../data/ncbi/proteins/{genome_id}_protein.faa'\n",
    "        gbff_path = f'../data/ncbi/gbffs/{genome_id}_genomic.gbff'\n",
    "\n",
    "        gbff_df = GBFFFile(gbff_path).to_df()\n",
    "        gbff_df = gbff_df[(gbff_df.feature == 'CDS') & (~gbff_df.pseudo)].copy()\n",
    "        gbff_df['copy_number'] = gbff_df.protein_id.map(gbff_df.protein_id.value_counts()) # There are sometimes multiple copies of the same protein. \n",
    "        gbff_df = gbff_df.drop_duplicates('protein_id').copy()\n",
    "        gbff_df = gbff_df.drop(columns=['seq']) # Use the sequences from the protein DataFrame, just to make sure everything is equal. \n",
    "        gbff_df = gbff_df.set_index('protein_id')\n",
    "        gbff_df.index.name = 'id'\n",
    "\n",
    "        protein_df = FASTAFile(path=protein_path).to_df(prodigal_output=False)\n",
    "        protein_df = protein_df.drop(columns=['description'])\n",
    "\n",
    "        assert len(protein_df) == len(gbff_df), 'Expected the number of non-pseudo CDS entries in the GBFF file to match the entries in the FASTA file.'\n",
    "        assert np.all(np.sort(protein_df.index) == np.sort(gbff_df.index)), 'Expected the number of non-pseudo CDS entries in the GBFF file to match the entries in the FASTA file.'\n",
    "        assert protein_df.index.is_unique and gbff_df.index.is_unique, 'Expected the indices of both DataFrames to be unique.'\n",
    "\n",
    "        ncbi_df.append(protein_df.merge(gbff_df, left_index=True, right_index=True).assign(genome_id=genome_id))\n",
    "    ncbi_df = pd.concat(ncbi_df)\n",
    "    ncbi_df = ncbi_df[ncbi_df.seq.apply(len) < 2000].copy()\n",
    "    ncbi_df.to_csv('../data/model_organisms_ncbi.csv')\n"
   ]
  },
  {
   "cell_type": "code",
   "execution_count": 10,
   "metadata": {},
   "outputs": [],
   "source": [
    "def fix_b_subtilis(path:str='../data/compare/GCF_000009045.1_top_hits.csv'):\n",
    "    df = pd.read_csv(path, index_col=0, dtype={'top_hit_partial':str, 'top_hit_translation_table':str, 'top_hit_codon_start':str})\n",
    "    evidence_types = []\n",
    "    for row in df.itertuples():\n",
    "        if ('Evidence 1' in row.top_hit_note) or ('Evidence 2' in row.top_hit_note):\n",
    "            evidence_types.append('experiment')\n",
    "        elif ('Evidence 4' in row.top_hit_note) or ('Evidence 3' in row.top_hit_note):\n",
    "            evidence_types.append('similar to sequence')\n",
    "        elif (row.n_hits > 0):\n",
    "            evidence_types.append('ab initio prediction')\n",
    "        else:\n",
    "            evidence_types.append('none')\n",
    "    df['top_hit_evidence_type'] = evidence_types\n",
    "    df.to_csv(path)\n",
    "\n",
    "if not os.path.exists('../data/model_organisms_prodigal.csv'):\n",
    "    fix_b_subtilis()\n",
    "    prodigal_df = list()\n",
    "    for genome_id in genome_ids:\n",
    "        top_hits_df = Reference.load(f'../data/compare/{genome_id}_top_hits.csv')\n",
    "        top_hits_df['genome_id'] = genome_id\n",
    "        prodigal_df.append(top_hits_df)\n",
    "    prodigal_df = pd.concat(prodigal_df)\n",
    "    prodigal_df = prodigal_df[prodigal_df.query_seq.apply(len) < 2000].copy()\n",
    "    prodigal_df.to_csv('../data/model_organisms_prodigal.csv')"
   ]
  },
  {
   "cell_type": "code",
   "execution_count": null,
   "metadata": {},
   "outputs": [],
   "source": []
  },
  {
   "cell_type": "code",
   "execution_count": null,
   "metadata": {},
   "outputs": [],
   "source": []
  }
 ],
 "metadata": {
  "kernelspec": {
   "display_name": "frugal",
   "language": "python",
   "name": "python3"
  },
  "language_info": {
   "codemirror_mode": {
    "name": "ipython",
    "version": 3
   },
   "file_extension": ".py",
   "mimetype": "text/x-python",
   "name": "python",
   "nbconvert_exporter": "python",
   "pygments_lexer": "ipython3",
   "version": "3.13.2"
  }
 },
 "nbformat": 4,
 "nbformat_minor": 2
}
