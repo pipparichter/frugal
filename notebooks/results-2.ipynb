{
 "cells": [
  {
   "cell_type": "code",
   "execution_count": null,
   "id": "e4c46653",
   "metadata": {},
   "outputs": [],
   "source": [
    "import pandas as pd \n",
    "import numpy as np \n",
    "import seaborn as sns\n",
    "import matplotlib.pyplot as pltgrap\n",
    "from src.graph import NeighborsGraph"
   ]
  },
  {
   "cell_type": "code",
   "execution_count": 9,
   "id": "826d2f22",
   "metadata": {},
   "outputs": [],
   "source": [
    "graph = NeighborsGraph.load('../data/datasets/dataset_graph.pkl')"
   ]
  },
  {
   "cell_type": "code",
   "execution_count": 11,
   "id": "0fe6280a",
   "metadata": {},
   "outputs": [
    {
     "data": {
      "text/plain": [
       "array([1.37739063, 1.18412761, 1.40929805, 1.21011888])"
      ]
     },
     "execution_count": 11,
     "metadata": {},
     "output_type": "execute_result"
    }
   ],
   "source": [
    "graph.get_neighbor_distances('P09165')"
   ]
  },
  {
   "cell_type": "code",
   "execution_count": null,
   "id": "19c59b86",
   "metadata": {},
   "outputs": [],
   "source": [
    "def figure(results_df:pd.DataFrame):\n"
   ]
  }
 ],
 "metadata": {
  "kernelspec": {
   "display_name": "frugal",
   "language": "python",
   "name": "python3"
  },
  "language_info": {
   "codemirror_mode": {
    "name": "ipython",
    "version": 3
   },
   "file_extension": ".py",
   "mimetype": "text/x-python",
   "name": "python",
   "nbconvert_exporter": "python",
   "pygments_lexer": "ipython3",
   "version": "3.13.2"
  }
 },
 "nbformat": 4,
 "nbformat_minor": 5
}
