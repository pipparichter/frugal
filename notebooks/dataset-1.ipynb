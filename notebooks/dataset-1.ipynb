{
 "cells": [
  {
   "cell_type": "code",
   "execution_count": 2,
   "metadata": {},
   "outputs": [],
   "source": [
    "import pandas as pd \n",
    "import numpy as np \n",
    "import src.download as download\n",
    "from src import get_sequence_identities\n",
    "from src.tools import MMSeqs, Prodigal\n",
    "from src.tools.prodigal import remove_asterisks\n",
    "from src.dataset import Dataset\n",
    "from src.files import FASTAFile, XMLFile, InterProScanFile\n",
    "from tqdm import tqdm\n",
    "import os\n",
    "import subprocess\n",
    "import json \n",
    "from src.reference import compare\n",
    "import seaborn as sns\n",
    "from src import fillna \n",
    "import matplotlib.pyplot as plt\n",
    "from utils import * \n",
    "import re\n",
    "\n",
    "%load_ext autoreload\n",
    "%autoreload 2\n",
    "\n",
    "# Downloaded AntiFam-annotated sequences from InterPro on 04.08.2025. \n",
    "# Downloaded bacterial sequences with an AntiFam hit directly from the UniProt website on 04.08.2025. \n",
    "# Dowloaded taxonomy metadata from NCBI on 04.08.2025. "
   ]
  },
  {
   "cell_type": "code",
   "execution_count": 4,
   "metadata": {},
   "outputs": [],
   "source": [
    "# Set the data directory for dataset files.\n",
    "DATA_DIR = '../data/dataset'"
   ]
  },
  {
   "cell_type": "code",
   "execution_count": 48,
   "metadata": {},
   "outputs": [
    {
     "name": "stdout",
     "output_type": "stream",
     "text": [
      "Num. AntiFam sequences in InterPro: 23014\n",
      "Num. AntiFam sequences in UniProt: 17908\n",
      "Num. unique AntiFam hits: 17759\n"
     ]
    }
   ],
   "source": [
    "def get_spurious_interpro():\n",
    "    '''Obtain all sequences annotated with an AntiFam from the UniProt database.'''\n",
    "    downloader = download.AntiFam() # Initialize a downloader for interfacing with the AntiFam database. \n",
    "    downloader.get_antifam_ids(f'{DATA_DIR}/antifam_ids.json') # Download all AntiFam family IDs and metadata from InterPro. \n",
    "\n",
    "    with open(f'{DATA_DIR}/antifam_ids.json', 'r') as f:\n",
    "        antifam_ids = json.load(f)\n",
    "        antifam_ids = [entry['id'] for entry in antifam_ids]\n",
    "\n",
    "    downloader.get_proteins(antifam_ids=antifam_ids, path=f'{DATA_DIR}_spurious_interpro.csv') # Get UniProt IDs for proteins associated with each AntiFam. \n",
    "    df = pd.read_csv(f'{DATA_DIR}/_spurious_interpro.csv', index_col=0)\n",
    "\n",
    "    downloader = download.UniProt() # Initialize a downloader for interfacing with UniProt. \n",
    "    downloader.get_proteins(df.index, format_='xml', chunk_size=50, path=f'{DATA_DIR}/spurious_interpro.xml') # Download protein info from UniProt in XML format. \n",
    "\n",
    "    XMLFile(f'{DATA_DIR}/spurious_interpro.xml').to_df().to_csv(f'{DATA_DIR}/spurious_interpro.csv') # Convert XML to CSV. \n",
    "\n",
    "    df = pd.read_csv(f'{DATA_DIR}/spurious_interpro.csv', index_col=0) \n",
    "    df = df[df.domain == 'Bacteria'].copy() # Filter for the bacterial proteins. \n",
    "    df.to_csv(f'{DATA_DIR}/spurious_interpro_bacteria.csv')\n",
    "\n",
    "\n",
    "def get_spurious_uniprot():\n",
    "    '''Obtain all sequences annotated with an AntiFam from the UniProt database.''' \n",
    "    df = XMLFile(f'{DATA_DIR}/spurious_uniprot_bacteria.xml').to_df()\n",
    "    df.to_csv(f'{DATA_DIR}/spurious_uniprot_bacteria.csv')\n",
    "\n",
    "\n",
    "if not os.path.exists(f'{DATA_DIR}/spurious_interpro_bacteria.csv'):\n",
    "    get_spurious_interpro()\n",
    "if not os.path.exists(f'{DATA_DIR}/spurious_uniprot_bacteria.csv'):\n",
    "    get_spurious_uniprot()\n",
    "\n",
    "\n",
    "# There are some sequences which are annotated with AntiFam in UniProt, and others in the InterPro database which \n",
    "# are marked as AntiFam, but are not marked as AntiFam in UniProt. \n",
    "spurious_interpro_df = pd.read_csv(f'{DATA_DIR}/spurious_interpro_bacteria.csv', index_col=0)\n",
    "spurious_uniprot_df = pd.read_csv(f'{DATA_DIR}/spurious_uniprot_bacteria.csv', index_col=0)\n",
    "print('Num. AntiFam sequences in InterPro:', spurious_interpro_df.index.nunique())\n",
    "print('Num. AntiFam sequences in UniProt:', spurious_uniprot_df.index.nunique())\n",
    "print('Num. unique AntiFam hits:', len(np.intersect1d(spurious_uniprot_df.index, spurious_interpro_df.index)))\n",
    "\n",
    "spurious_df = pd.concat([spurious_interpro_df, spurious_uniprot_df])\n",
    "spurious_df = spurious_df[~spurious_df.index.duplicated(keep='first')].copy() # Remove duplicate sequences. \n",
    "\n",
    "spurious_df.to_csv(f'{DATA_DIR}/spurious.csv')\n",
    "FASTAFile(df=spurious_df).write(f'{DATA_DIR}/spurious.faa') # Write to FASTA file for InterPro annotation. "
   ]
  },
  {
   "cell_type": "code",
   "execution_count": 49,
   "metadata": {},
   "outputs": [
    {
     "name": "stdout",
     "output_type": "stream",
     "text": [
      "Num. spurious proteins: 23163\n",
      "Num. spurious proteins with an InterProScan annotation: 23066\n",
      "Num. spurious proteins with only AntiFam hits: 20405\n"
     ]
    }
   ],
   "source": [
    "# Annotation using interproscan-5.73-104.0\n",
    "# ~/interproscan/interproscan-5.73-104.0/interproscan.sh -i {DATA_DIR}/spurious.faa --formats tsv -o {DATA_DIR}/spurious_annotation.tsv\n",
    "\n",
    "spurious_annotation_df = InterProScanFile(f'{DATA_DIR}/spurious_annotation.tsv').to_df()\n",
    "include_analyses = ['Pfam', 'NCBIfam', 'PANTHER', 'SUPERFAMILY', 'Gene3D', 'FunFam', 'ProSiteProfiles', 'Hamap', 'PIRSR', 'SFLD', 'ProSitePatterns', 'AntiFam', 'CDD']\n",
    "# Discard all hits from MobiDBLite, COILS. \n",
    "spurious_annotation_df = spurious_annotation_df[spurious_annotation_df.interpro_analysis.isin(include_analyses)].copy()\n",
    "\n",
    "include_ids = spurious_annotation_df.groupby(spurious_annotation_df.index).apply(lambda df : np.all(df.interpro_analysis == 'AntiFam'), include_groups=False)\n",
    "include_ids = include_ids[include_ids].index.values # Get all IDs for proteins with only AntiFam hits. \n",
    "exclude_ids = spurious_df.index[~spurious_df.index.isin(include_ids)].values\n",
    "\n",
    "print('Num. spurious proteins:', len(spurious_df))\n",
    "print('Num. spurious proteins with an InterProScan annotation:', spurious_annotation_df.index.nunique())\n",
    "print('Num. spurious proteins with only AntiFam hits:', len(include_ids))\n"
   ]
  },
  {
   "cell_type": "code",
   "execution_count": 59,
   "metadata": {},
   "outputs": [],
   "source": [
    "def add_antifam_annotations(df:pd.DataFrame, annotation_df:pd.DataFrame):\n",
    "    '''Many sequences have multiple InterProScan hits. Merge the annotations for all proteins with only AntiFam hits, and add them to\n",
    "    the DataFrame of spurious sequences.'''\n",
    "    antifam_descriptions = {row.interpro_signature:row.interpro_signature_description for row in annotation_df[annotation_df.interpro_analysis == 'AntiFam'].itertuples()}\n",
    "\n",
    "    annotation_df_ = list() # For buiding the merged annotation DataFrame. \n",
    "    for id_, df_ in annotation_df.groupby(annotation_df.index):\n",
    "        if not np.all(df_.interpro_analysis == 'AntiFam'): # Skip sequences which have more than just AntiFam hits.\n",
    "            continue\n",
    "        row = {'id':id_.strip()}\n",
    "        row['antifam_id'] = ';'.join(df_.interpro_signature.unique())\n",
    "        row['antifam_description'] = ';'.join(df_.interpro_signature_description.unique())\n",
    "        row['antifam_n_hits'] = len(df_)\n",
    "        annotation_df_.append(row)\n",
    "    annotation_df_ = pd.DataFrame(annotation_df_).set_index('id')\n",
    "    df = df.merge(annotation_df_, left_index=True, right_index=True) # This should be equal to the length of the include_ids. \n",
    "    return df, antifam_descriptions\n",
    "\n",
    "# Replace the AntiFam annotations from the UniProt XML files with the local AntiFam annotation.\n",
    "spurious_df, antifam_descriptions = add_antifam_annotations(spurious_df, spurious_annotation_df)\n",
    "spurious_df = fillna(spurious_df, rules={str:'none'})\n",
    "spurious_df.to_csv(f'{DATA_DIR}/spurious.csv') # Overwrite the existing data with the new annotations."
   ]
  },
  {
   "cell_type": "code",
   "execution_count": null,
   "metadata": {},
   "outputs": [
    {
     "data": {
      "image/png": "[encoded data removed]",
      "text/plain": [
       "<Figure size 334.646x250.984 with 1 Axes>"
      ]
     },
     "metadata": {},
     "output_type": "display_data"
    }
   ],
   "source": [
    "def figure_1(annotation_df:pd.DataFrame, antifam_descriptions:dict=antifam_descriptions, include_ids:list=include_ids, path:str='../figures/dataset-1_figure-1.pdf'):\n",
    "    \n",
    "    fig, ax = get_figure()\n",
    "\n",
    "    figure_df = annotation_df[annotation_df.index.isin(include_ids)].copy()\n",
    "    figure_df = pd.DataFrame(figure_df.interpro_signature.value_counts())\n",
    "    figure_df['description'] = figure_df.index.map(antifam_descriptions)\n",
    "\n",
    "    conditions = [figure_df.description.str.contains('shadow orf|Antisense to ATP synthase alpha subunit', case=False, regex=True)]\n",
    "    conditions += [figure_df.description.str.contains('crispr|repeat|Translation of REP sequence', case=False, regex=True)]\n",
    "    conditions += [figure_df.description.str.contains('rna', case=False)]\n",
    "    categories = ['shadow_orf', 'repeat_region', 'rna']\n",
    "    figure_df['category'] = np.select(conditions, categories, default='none')\n",
    "\n",
    "    sns.scatterplot(figure_df, x='category', y='count', hue='category', palette='Grays')\n",
    "\n",
    "    text = ''\n",
    "    for category, df in figure_df.groupby('category'):\n",
    "        text += get_text(category, len(df), len(figure_df))\n",
    "    ax.text(0.6, 0.6, text, transform=ax.transAxes)\n",
    "    ax.set_yscale('log')\n",
    "\n",
    "    save_figure(fig, path=path)\n",
    "\n",
    "figure_1(spurious_annotation_df)\n",
    "\n"
   ]
  },
  {
   "cell_type": "code",
   "execution_count": 95,
   "metadata": {},
   "outputs": [],
   "source": [
    "if not os.path.exists(f'{DATA_DIR}/real_swissprot.csv'):\n",
    "    real_df = XMLFile(f'{DATA_DIR}/real_swissprot.xml').to_df()\n",
    "    real_df.to_csv(f'{DATA_DIR}/real_swissprot.csv')\n",
    "else:\n",
    "    real_df = pd.read_csv(f'{DATA_DIR}/real_swissprot.csv', index_col=0)\n",
    "\n",
    "real_df = real_df[real_df.domain == 'Bacteria'].copy() # Grab only bacterial proteins. \n",
    "real_df.to_csv(f'{DATA_DIR}/real.csv')\n",
    "real_df = real_df[~real_df.index.duplicated(keep='first')]\n",
    "FASTAFile(df=real_df).write(f'{DATA_DIR}/real.faa')"
   ]
  },
  {
   "cell_type": "code",
   "execution_count": null,
   "metadata": {},
   "outputs": [],
   "source": [
    "def filter_length(df:pd.DataFrame, max_length:int=2000, seq_col:str='seq'):\n",
    "    mask = df[seq_col].apply(len) >= max_length\n",
    "    print(f'filter_length: Removing {mask.sum()} sequences exceeding the maximum length of {max_length}.')\n",
    "    df = df[~mask].copy()\n",
    "    return df\n",
    "\n",
    "def filter_duplicate_sequences(df:pd.DataFrame, seq_col:str='seq'):\n",
    "    # There are some duplicate IDs, as the same gene can be present in multiple genomes. Additionally, there are\n",
    "    # some entries for identical sequences which do not have the same ID. This can mess up the bisecting k-means clustering, \n",
    "    # so I decided to remove these instances. \n",
    "    mask = df[seq_col].duplicated(keep='first')\n",
    "    print(f'filter_duplicate_sequences: Removing {mask.sum()} duplicate sequences from the dataset')\n",
    "    df = df[~mask].copy()\n",
    "    return df \n",
    "\n",
    "def add_taxonomy_metadata(path:str=f'{DATA_DIR}/dataset.csv'):\n",
    "    # Downloaded using the download.NCBI.get_taxonomy_metadata function. \n",
    "    taxonomy_metadata_df = pd.read_csv(f'{DATA_DIR}/dataset_taxonomy_metadata.tsv', sep='\\t', index_col=0)\n",
    "    cols = ['Phylum name', 'Class name', 'Order name', 'Family name', 'Genus name', 'Species name']\n",
    "\n",
    "    taxonomy_metadata_df = taxonomy_metadata_df[cols]\n",
    "    taxonomy_metadata_df = taxonomy_metadata_df.rename(columns={col:col.split()[0].lower() for col in cols})\n",
    "    taxonomy_metadata_df = fillna(taxonomy_metadata_df) # Fill in empty info with \"none.\"\n",
    "\n",
    "    dataset_df = pd.read_csv(path, index_col=0)\n",
    "    assert np.all(np.isin(dataset_df.ncbi_taxonomy_id.unique(), taxonomy_metadata_df.index)), 'add_taxonomy_metadata: Some taxa are missing in the taxonomy metadata file.'\n",
    "    dataset_df = dataset_df.drop(columns=taxonomy_metadata_df.columns, errors='ignore')\n",
    "    dataset_df = dataset_df.merge(taxonomy_metadata_df, left_on='ncbi_taxonomy_id', right_index=True, how='left')\n",
    "    dataset_df.to_csv(path)"
   ]
  },
  {
   "cell_type": "code",
   "execution_count": null,
   "metadata": {},
   "outputs": [
    {
     "name": "stdout",
     "output_type": "stream",
     "text": [
      "build_dataset: Removing 2758 sequences from the dataset.\n",
      "filter_duplicate_sequences: Removing 136496 duplicate sequences from the dataset\n",
      "filter_length: Removing 148 sequences exceeding the maximum length of 2000.\n",
      "build_dataset: Constructed a training dataset with 276590 sequences.\n"
     ]
    }
   ],
   "source": [
    "def build_dataset(real_path:str=f'{DATA_DIR}/real.csv', spurious_path:str=f'{DATA_DIR}/spurious.csv', exclude_ids:list=[]):\n",
    "    dataset_df = list()\n",
    "    # Library entry name is for accessing the embeddings on HPC.\n",
    "    dataset_df += [pd.read_csv(real_path, index_col=0).assign(library_entry_name='swissprot_bacteria', label=1)]\n",
    "    dataset_df += [pd.read_csv(spurious_path, index_col=0).assign(library_entry_name='antifam_bacteria', label=0)]\n",
    "    dataset_df = pd.concat(dataset_df)\n",
    "\n",
    "    print(f'build_dataset: Removing {len(exclude_ids)} sequences from the dataset.')\n",
    "    dataset_df = dataset_df[~dataset_df.index.isin(exclude_ids)]\n",
    "\n",
    "    dataset_df = fillna(dataset_df, rules={str:'none', bool:False, int:0, float:0})\n",
    "    dataset_df = filter_duplicate_sequences(dataset_df)\n",
    "    dataset_df = filter_length(dataset_df)\n",
    "    \n",
    "    # For some reason, some of the taxonomy IDs map to different IDs in the NCBI database. \n",
    "    taxonomy_id_map = {369930:2576905, 1914757:1768011, 32059:477181, 2859001:2842348, 54064:334542}\n",
    "    dataset_df['ncbi_taxonomy_id'] = dataset_df.ncbi_taxonomy_id.replace(taxonomy_id_map)\n",
    "\n",
    "    print(f'build_dataset: Constructed a training dataset with {len(dataset_df)} sequences.')\n",
    "    dataset_df.to_csv(f'{DATA_DIR}/dataset.csv')\n",
    "    FASTAFile(df=dataset_df).write(f'{DATA_DIR}/dataset.faa')\n",
    "\n",
    "build_dataset(exclude_ids=exclude_ids)\n",
    "\n",
    "if not os.path.exists(f'{DATA_DIR}/dataset_taxonomy_metadata.tsv'):\n",
    "    dataset_df = pd.read_csv(f'{DATA_DIR}/dataset.csv', index_col=0)\n",
    "    taxonomy_ids = dataset_df.ncbi_taxonomy_id.unique()\n",
    "    downloader = download.NCBI()\n",
    "    taxonomy_metadata_df = downloader.get_taxonomy_metadata(taxonomy_ids, path=f'{DATA_DIR}/dataset_taxonomy_metadata.tsv')\n",
    "\n",
    "add_taxonomy_metadata(f'{DATA_DIR}/dataset.csv')"
   ]
  },
  {
   "cell_type": "code",
   "execution_count": null,
   "metadata": {},
   "outputs": [],
   "source": [
    "# ! mmseqs easy-cluster '{DATA_DIR}/dataset.faa' '{DATA_DIR}/dataset_mmseqs' '.' --min-seq-id 0.8\n",
    "\n",
    "# def load_mmseqs_clusters(path:str):\n",
    "#     df = pd.read_csv(path, delimiter='\\t', names=['cluster_rep_id', 'id'])\n",
    "#     cluster_ids = {id_:i for i, id_ in enumerate(df.cluster_rep_id.unique())} # Add integer IDs for each cluster. \n",
    "#     df['cluster_id'] = [cluster_ids[id_] for id_ in df.cluster_rep_id]\n",
    "#     df = df.set_index('id')\n",
    "#     return df\n",
    "\n",
    "# mmseqs_cluster_df = load_mmseqs_clusters(f'{DATA_DIR}/dataset_mmseqs_cluster.tsv')\n",
    "# print('Num. MMSeqs clusters:', mmseqs_cluster_df.cluster_id.nunique())\n",
    "# print('Num. singleton MMSeqs clusters:', (mmseqs_cluster_df.value_counts('cluster_id') > 1).sum())"
   ]
  },
  {
   "cell_type": "code",
   "execution_count": 5,
   "metadata": {},
   "outputs": [
    {
     "name": "stdout",
     "output_type": "stream",
     "text": [
      "Num. sequences in dataset: 276590\n",
      "Num. real sequences in dataset: 259366 (93.77%)\n",
      "Num. spurious sequences in dataset: 17224 (6.23%)\n"
     ]
    }
   ],
   "source": [
    "dataset_df = pd.read_csv(f'{DATA_DIR}/dataset.csv', index_col=0)\n",
    "print('Num. sequences in dataset:', len(dataset_df))\n",
    "print('Num. real sequences in dataset:', dataset_df.label.sum(), f'({get_percent(dataset_df.label.sum(), len(dataset_df))})')\n",
    "print('Num. spurious sequences in dataset:', (dataset_df.label == 0).sum(), f'({get_percent((dataset_df.label == 0).sum(), len(dataset_df))})')"
   ]
  },
  {
   "cell_type": "code",
   "execution_count": null,
   "metadata": {},
   "outputs": [
    {
     "data": {
      "text/html": [
       "<table border=\"1\" class=\"dataframe\">\n",
       "  <thead>\n",
       "    <tr style=\"text-align: right;\">\n",
       "      <th></th>\n",
       "      <th>size</th>\n",
       "      <th>fraction_of_dataset</th>\n",
       "      <th>percent_spurious</th>\n",
       "      <th>percent_real</th>\n",
       "    </tr>\n",
       "  </thead>\n",
       "  <tbody>\n",
       "    <tr>\n",
       "      <th>dataset</th>\n",
       "      <td>276590</td>\n",
       "      <td>1.00</td>\n",
       "      <td>6.23%</td>\n",
       "      <td>93.77%</td>\n",
       "    </tr>\n",
       "    <tr>\n",
       "      <th>train_dataset</th>\n",
       "      <td>221632</td>\n",
       "      <td>0.80</td>\n",
       "      <td>6.30%</td>\n",
       "      <td>93.70%</td>\n",
       "    </tr>\n",
       "    <tr>\n",
       "      <th>test_dataset</th>\n",
       "      <td>54958</td>\n",
       "      <td>0.20</td>\n",
       "      <td>5.95%</td>\n",
       "      <td>94.05%</td>\n",
       "    </tr>\n",
       "  </tbody>\n",
       "</table>"
      ],
      "text/plain": [
       "<IPython.core.display.HTML object>"
      ]
     },
     "metadata": {},
     "output_type": "display_data"
    }
   ],
   "source": [
    "def table(path:str='../data/figures/dataset-1_table-1.png'):\n",
    "    datasets = dict()\n",
    "    datasets['dataset'] = pd.read_csv(f'{DATA_DIR}/dataset.csv', index_col=0)\n",
    "    datasets['train_dataset'] = pd.read_csv(f'{DATA_DIR}/dataset_train.csv', index_col=0)\n",
    "    datasets['test_dataset'] = pd.read_csv(f'{DATA_DIR}/dataset_test.csv', index_col=0)\n",
    "\n",
    "    percent_label = lambda df, label : f'{100 * (df.label == label).sum() / len(df):.2f}%'\n",
    "\n",
    "    columns = ['size', 'fraction_of_dataset', 'percent_spurious', 'percent_real']\n",
    "    table_df = pd.DataFrame(index=['dataset', 'train_dataset', 'test_dataset'], columns=columns)\n",
    "\n",
    "    for dataset, df in datasets.items():\n",
    "        table_df.loc[dataset, 'size'] = len(df)\n",
    "        table_df.loc[dataset, 'fraction_of_dataset'] = f'{len(df) / len(datasets['dataset']):.2f}'\n",
    "        table_df.loc[dataset, 'percent_spurious'] = percent_label(df, 0)\n",
    "        table_df.loc[dataset, 'percent_real'] = percent_label(df, 1)\n",
    "\n",
    "    save_table(table_df) \n",
    "\n",
    "table()\n"
   ]
  }
 ],
 "metadata": {
  "kernelspec": {
   "display_name": "sprout",
   "language": "python",
   "name": "python3"
  },
  "language_info": {
   "codemirror_mode": {
    "name": "ipython",
    "version": 3
   },
   "file_extension": ".py",
   "mimetype": "text/x-python",
   "name": "python",
   "nbconvert_exporter": "python",
   "pygments_lexer": "ipython3",
   "version": "3.13.2"
  }
 },
 "nbformat": 4,
 "nbformat_minor": 2
}
