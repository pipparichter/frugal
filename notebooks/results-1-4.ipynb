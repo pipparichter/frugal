{
 "cells": [
  {
   "cell_type": "code",
   "execution_count": 11,
   "id": "4b360cd6",
   "metadata": {},
   "outputs": [],
   "source": [
    "#  CLAIM: Model performance declines on short proteins."
   ]
  },
  {
   "cell_type": "code",
   "execution_count": 14,
   "id": "fa54eb0f",
   "metadata": {},
   "outputs": [
    {
     "name": "stdout",
     "output_type": "stream",
     "text": [
      "The autoreload extension is already loaded. To reload it, use:\n",
      "  %reload_ext autoreload\n"
     ]
    }
   ],
   "source": [
    "import pandas as pd \n",
    "import numpy as np \n",
    "import seaborn as sns\n",
    "import matplotlib.pyplot as plt\n",
    "from src.classifier import Classifier\n",
    "import matplotlib as mpl \n",
    "from src.tools import MMSeqs \n",
    "from utils import * \n",
    "\n",
    "%load_ext autoreload \n",
    "%autoreload 2"
   ]
  },
  {
   "cell_type": "code",
   "execution_count": 15,
   "id": "603f7924",
   "metadata": {},
   "outputs": [
    {
     "name": "stdout",
     "output_type": "stream",
     "text": [
      "Num. mislabeled real sequences: 128\n",
      "Num. misclassified real sequences: 172\n",
      "Num. misclassified smORFs: 125 (97.66%)\n",
      "Num. misclassified nested smORFs: 4\n"
     ]
    }
   ],
   "source": [
    "model_name = 'model_v2'\n",
    "model = Classifier.load('../models/model_v2.pkl')\n",
    "\n",
    "annotated_results_df = pd.read_csv('../data/results/dataset_false_negative_annotated.csv', index_col=0)\n",
    "annotated_results_df['nested'] = annotated_results_df.category.str.contains('nested')\n",
    "\n",
    "spurious_ids = annotated_results_df[annotated_results_df.category.str.contains('error') | (annotated_results_df.category == 'fragment')].index.values\n",
    "real_ids = annotated_results_df[~annotated_results_df.category.str.contains('error') & (annotated_results_df.category != 'fragment')].index.values\n",
    "print('Num. mislabeled real sequences:', len(spurious_ids))\n",
    "print('Num. misclassified real sequences:', len(real_ids))\n",
    "\n",
    "train_results_df = pd.read_csv('../data/results/dataset_train_predict.csv', index_col=0).assign(dataset='train')\n",
    "test_results_df = pd.read_csv('../data/results/dataset_test_predict.csv', index_col=0).assign(dataset='test')\n",
    "\n",
    "results_df = pd.concat([train_results_df, test_results_df])\n",
    "results_df = results_df.merge(pd.read_csv('../data/dataset/dataset.csv', index_col=0), left_index=True, right_index=True)\n",
    "results_df = apply_thresholds(results_df)\n",
    "results_df['length'] = results_df.seq.apply(len)\n",
    "results_df['nested'] = results_df.index.isin(annotated_results_df[annotated_results_df.nested].index)\n",
    "results_df.loc[spurious_ids, 'label'] = 0 # Correct the labels of the mislabeled SwissProt sequences.\n",
    "\n",
    "print('Num. misclassified smORFs:', (results_df.loc[real_ids].length < 100).sum(), f'({get_percent((results_df.loc[real_ids].length < 100).sum(), len(spurious_ids))})')\n",
    "print('Num. misclassified nested smORFs:', ((results_df.loc[real_ids].length < 100) & (results_df.nested)).sum())\n"
   ]
  },
  {
   "cell_type": "code",
   "execution_count": null,
   "id": "92ef6803",
   "metadata": {},
   "outputs": [
    {
     "data": {
      "image/png": "[encoded data removed]",
      "text/plain": [
       "<Figure size 334.646x250.984 with 2 Axes>"
      ]
     },
     "metadata": {},
     "output_type": "display_data"
    }
   ],
   "source": [
    "# Can't just correlate sequence length and model output, as the spurious-labeled sequences have a distribution that \n",
    "# has a peak around __ amino acids; length bias would show that sequences closest in length to this peak are more likely to be \n",
    "# classified as spurious. \n",
    "\n",
    "def figure_1(results_df:pd.DataFrame, path:str='../figures/results-1.4_figure-1.pdf'):\n",
    "\n",
    "    fig, ax = get_figure() \n",
    "\n",
    "    figure_df = results_df[results_df.length < 100].copy()\n",
    "    figure_df['label'] = figure_df.label.map({1:'real', 0:'spurious'})\n",
    "    figure_df['misclassified'] = (figure_df.model_label != figure_df.label) # & (figure_df.model_label != 'uncertain')\n",
    "\n",
    "    delta = 8\n",
    "\n",
    "    ax_df = pd.DataFrame(index=pd.Series(np.arange(100), name='length'))\n",
    "    palette = {'real':'darkseagreen', 'spurious':'indianred'}\n",
    "\n",
    "    totals = np.array([((figure_df.length < (length + delta)) & (figure_df.length > (length - delta))).sum() for length in ax_df.index])\n",
    "    for label, df in figure_df.groupby('label'):\n",
    "        counts = np.array([((df.length < (length + delta)) & (df.length > (length - delta))).sum(axis=None) for length in ax_df.index])\n",
    "        ax_df[f'fraction'] = counts / totals\n",
    "        sns.lineplot(data=ax_df, x='length', y='fraction', color=palette[label], ax=ax)\n",
    "\n",
    "    ax = ax.twinx()\n",
    "\n",
    "    counts = np.array([((figure_df.length < (length + delta)) & (figure_df.length > (length - delta)) & figure_df.misclassified).sum(axis=None) for length in ax_df.index])\n",
    "    totals = np.array([((figure_df.length < (length + delta)) & (figure_df.length > (length - delta))).sum(axis=None) for length in ax_df.index])\n",
    "    ax_df[f'fraction'] = counts / figure_df.misclassified.sum()\n",
    "    sns.lineplot(data=ax_df, x='length', y='fraction', ax=ax, color='lightgray')\n",
    "\n",
    "    ax_df[f'fraction'] = counts / totals\n",
    "    sns.lineplot(data=ax_df, x='length', y='fraction', ax=ax, color='gray')\n",
    "\n",
    "    ax.set_xlim(xmin=0, xmax=100)\n",
    "    ax.axvline(50, ls='--', lw=0.7, color='black')\n",
    "    ax.axvline(20, ls='--', lw=0.7, color='black')\n",
    "\n",
    "    # text = ''\n",
    "    # text += get_text('real < 25', ((figure_df.label == 'real') & (figure_df.length < 25)).sum(), len(figure_df))\n",
    "    # text += get_text('spurious < 25', ((figure_df.label == 'spurious') & (figure_df.length < 25)).sum(), len(figure_df))\n",
    "    # ax_b.text(0.55, 0.8, text, transform=ax_b.transAxes)\n",
    "\n",
    "    save_figure(fig, path)\n",
    "\n",
    "figure_1(results_df)\n"
   ]
  },
  {
   "cell_type": "code",
   "execution_count": null,
   "id": "02cf4604",
   "metadata": {},
   "outputs": [
    {
     "name": "stdout",
     "output_type": "stream",
     "text": [
      "Num. in length range 0-100: 28878 (100.00%)\n",
      "Num. real in length range 0-100: 19748 (68.38%)\n",
      "Num. misclassified: 128 (0.44%)\n",
      "Num. false negative: 125 (0.43%)\n",
      "Num. in singleton clusters: 12120 (41.97%)\n",
      "Num. real in singleton clusters: 9644\n",
      "Num. misclassified in singleton cluster: 108\n",
      "Num. false negative in singleton cluster: 105\n",
      "Num. false negative in a two-sequence cluster: 14\n"
     ]
    }
   ],
   "source": [
    "min_length, max_length = 0, 100\n",
    "\n",
    "# Results from sequence clustering at 80% identity with MMseqs.\n",
    "cluster_df = MMSeqs.load_cluster('../data/results/dataset_cluster_mmseqs.tsv')\n",
    "\n",
    "df = results_df.copy()\n",
    "df = df[(df.length > min_length) & (df.length < max_length)].copy()\n",
    "df['label'] = df.label.map({1:'real', 0:'spurious', 'real':'real', 'spurious':'spurious'})\n",
    "df['cluster_id'] = df.index.map(cluster_df.cluster_id)\n",
    "df['cluster_size'] = df.cluster_id.map(cluster_df.groupby('cluster_id').size())\n",
    "df['misclassified'] = (df.model_label != df.label) & (results_df.model_label != 'uncertain')\n",
    "df['false_negative'] = (df.model_label == 'spurious') & (df.label == 'real') & (results_df.model_label != 'uncertain')\n",
    "df['singleton'] = df.cluster_size == 1\n",
    "\n",
    "n_real = (df.label == 'real').sum()\n",
    "n_spurious = (df.label == 'spurious').sum()\n",
    "\n",
    "print(f'Num. in length range {min_length}-{max_length}:', len(df), f'({get_percent(len(df), (results_df.length < 100).sum())})')\n",
    "print(f'Num. real in length range {min_length}-{max_length}:', n_real, f'({get_percent(n_real, len(df))})')\n",
    "print('Num. misclassified:', df.misclassified.sum(), f'({get_percent(df.misclassified.sum(), len(df))})')\n",
    "print('Num. false negative:', df.false_negative.sum(), f'({get_percent(df.false_negative.sum(), len(df))})')\n",
    "print('Num. in singleton clusters:', df.singleton.sum(), f'({get_percent(df.singleton.sum(), len(df))})')\n",
    "print('Num. real in singleton clusters:', df[df.model_label == 'real'].cluster_id.nunique())\n",
    "print('Num. misclassified in singleton cluster:', (df.misclassified & df.singleton).sum())\n",
    "print('Num. false negative in singleton cluster:', (df.false_negative & df.singleton).sum())\n",
    "print('Num. false negative in a two-sequence cluster:', (df.false_negative & (df.cluster_size == 2)).sum())"
   ]
  },
  {
   "cell_type": "code",
   "execution_count": null,
   "id": "1eea26ac",
   "metadata": {},
   "outputs": [],
   "source": []
  }
 ],
 "metadata": {
  "kernelspec": {
   "display_name": "sprout",
   "language": "python",
   "name": "python3"
  },
  "language_info": {
   "codemirror_mode": {
    "name": "ipython",
    "version": 3
   },
   "file_extension": ".py",
   "mimetype": "text/x-python",
   "name": "python",
   "nbconvert_exporter": "python",
   "pygments_lexer": "ipython3",
   "version": "3.13.2"
  }
 },
 "nbformat": 4,
 "nbformat_minor": 5
}
