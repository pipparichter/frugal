{
 "cells": [
  {
   "cell_type": "code",
   "execution_count": 45,
   "metadata": {},
   "outputs": [
    {
     "name": "stdout",
     "output_type": "stream",
     "text": [
      "The autoreload extension is already loaded. To reload it, use:\n",
      "  %reload_ext autoreload\n"
     ]
    }
   ],
   "source": [
    "import pandas as pd\n",
    "import os \n",
    "from src.files import XMLFile, FASTAFile\n",
    "from utils import * \n",
    "from src.genome import ReferenceGenome\n",
    "from src.tools import NCBIDatasets, Prodigal\n",
    "import glob\n",
    "import seaborn as sns\n",
    "import matplotlib.pyplot as plt\n",
    "\n",
    "%load_ext autoreload \n",
    "%autoreload 2"
   ]
  },
  {
   "cell_type": "code",
   "execution_count": null,
   "metadata": {},
   "outputs": [],
   "source": [
    "glob.glob('./')"
   ]
  },
  {
   "cell_type": "code",
   "execution_count": 2,
   "metadata": {},
   "outputs": [],
   "source": [
    "genome_metadata_df = load_genome_metadata(refseq_only=True)"
   ]
  },
  {
   "cell_type": "code",
   "execution_count": 6,
   "metadata": {},
   "outputs": [
    {
     "name": "stderr",
     "output_type": "stream",
     "text": [
      "NCBIDatasets.run: Downloading data for GCF_000300075.1.:   0%|          | 0/121 [00:00<?, ?it/s]"
     ]
    },
    {
     "name": "stderr",
     "output_type": "stream",
     "text": [
      "NCBIDatasets.run: Downloading data for GCF_015775515.1.: 100%|██████████| 121/121 [13:15<00:00,  6.58s/it]\n"
     ]
    }
   ],
   "source": [
    "genome_ids = genome_metadata_df.sort_values('checkm_completeness').drop_duplicates('class').index\n",
    "ncbi = NCBIDatasets()\n",
    "ncbi.run(genome_ids)"
   ]
  },
  {
   "cell_type": "code",
   "execution_count": 13,
   "metadata": {},
   "outputs": [
    {
     "data": {
      "text/plain": [
       "['./utils.py']"
      ]
     },
     "execution_count": 13,
     "metadata": {},
     "output_type": "execute_result"
    }
   ],
   "source": [
    "glob.glob('./utils.py')"
   ]
  },
  {
   "cell_type": "code",
   "execution_count": 10,
   "metadata": {},
   "outputs": [],
   "source": [
    "prodigal = Prodigal()\n",
    "for input_path in glob.glob('../data/genomes/*'):\n",
    "    prodigal.run(input_path)"
   ]
  },
  {
   "cell_type": "code",
   "execution_count": 32,
   "metadata": {},
   "outputs": [],
   "source": [
    "os.listdir('../data/refseq')\n",
    "ref = ReferenceGenome('../data/refseq/GCF_000024365.1_genomic.gbff', genome_id='GCF_000024365.1')"
   ]
  },
  {
   "cell_type": "code",
   "execution_count": 33,
   "metadata": {},
   "outputs": [
    {
     "name": "stderr",
     "output_type": "stream",
     "text": [
      "ReferenceGenome.search: 100%|██████████| 5465/5465 [00:55<00:00, 98.54it/s] \n"
     ]
    },
    {
     "name": "stdout",
     "output_type": "stream",
     "text": [
      "ReferenceGenome._merge: 141 entries in the query DataFrame had no valid hits in the reference.\n"
     ]
    }
   ],
   "source": [
    "df = FASTAFile('../data/prodigal/GCF_000024365.1_protein.faa').to_df(prodigal_output=True)\n",
    "\n",
    "results_df = ref.search(df)"
   ]
  },
  {
   "cell_type": "code",
   "execution_count": 32,
   "metadata": {},
   "outputs": [],
   "source": [
    "ref_df = load_ref_output(genome_metadata_df=genome_metadata_df, feature='CDS')"
   ]
  },
  {
   "cell_type": "code",
   "execution_count": 33,
   "metadata": {},
   "outputs": [],
   "source": [
    "# What fraction of the sequences align to a coding sequence?\n",
    "ref_df = ref_df[~ref_df.ref_pseudo.astype(bool)]"
   ]
  },
  {
   "cell_type": "code",
   "execution_count": 35,
   "metadata": {},
   "outputs": [],
   "source": [
    "def is_correct(row):\n",
    "    return (row.stop == row.ref_stop) and (row.start == row.ref_start) \n",
    "\n",
    "def is_n_trunc(row):\n",
    "    if row.strand == 1:\n",
    "        return (row.start > row.ref_start)\n",
    "    elif row.strand == -1:\n",
    "        return (row.stop < row.ref_stop)\n",
    "\n",
    "def is_c_trunc(row):\n",
    "    if row.strand == 1:\n",
    "        return (row.stop < row.ref_stop)\n",
    "    elif row.strand == -1:\n",
    "        return (row.start > row.ref_start)\n",
    "\n",
    "def is_n_ext(row):\n",
    "    if row.strand == 1:\n",
    "        return (row.start < row.ref_start)\n",
    "    elif row.strand == -1:\n",
    "        return (row.stop > row.ref_stop)\n",
    "\n",
    "def is_c_ext(row):\n",
    "    if row.strand == 1:\n",
    "        return (row.stop > row.ref_stop)\n",
    "    elif row.strand == -1:\n",
    "        return (row.start < row.ref_start)\n",
    "\n",
    "ref_df['correct'] = ref_df.apply(is_correct, axis=1)\n",
    "ref_df['c_trunc'] = ref_df.apply(is_c_trunc, axis=1)\n",
    "ref_df['n_trunc'] = ref_df.apply(is_n_trunc, axis=1)\n",
    "ref_df['n_ext'] = ref_df.apply(is_n_ext, axis=1)\n",
    "ref_df['c_ext'] = ref_df.apply(is_c_ext, axis=1)"
   ]
  },
  {
   "cell_type": "code",
   "execution_count": 37,
   "metadata": {},
   "outputs": [
    {
     "name": "stdout",
     "output_type": "stream",
     "text": [
      "Total number of sequences: 296845\n",
      "254102 sequences are have exact alignments.\n",
      "16803 sequences are truncated at the N-terminus.\n",
      "2880 sequences are truncated at the C-terminus.\n"
     ]
    }
   ],
   "source": [
    "# Remove the pseudogene hits, at least for now. \n",
    "ref_df = ref_df[~ref_df.ref_pseudo.astype(bool)]\n",
    "\n",
    "print('Total number of sequences:', len(ref_df))\n",
    "print(f'{ref_df.correct.sum()} sequences are have exact alignments.')\n",
    "print(f'{ref_df.n_trunc.sum()} sequences are truncated at the N-terminus.')\n",
    "print(f'{ref_df.c_trunc.sum()} sequences are truncated at the C-terminus.')\n"
   ]
  },
  {
   "cell_type": "code",
   "execution_count": 39,
   "metadata": {},
   "outputs": [
    {
     "data": {
      "text/html": [
       "<div>\n",
       "<style scoped>\n",
       "    .dataframe tbody tr th:only-of-type {\n",
       "        vertical-align: middle;\n",
       "    }\n",
       "\n",
       "    .dataframe tbody tr th {\n",
       "        vertical-align: top;\n",
       "    }\n",
       "\n",
       "    .dataframe thead th {\n",
       "        text-align: right;\n",
       "    }\n",
       "</style>\n",
       "<table border=\"1\" class=\"dataframe\">\n",
       "  <thead>\n",
       "    <tr style=\"text-align: right;\">\n",
       "      <th></th>\n",
       "      <th>ref_stop_codon</th>\n",
       "      <th>stop_codon</th>\n",
       "      <th>ref_product</th>\n",
       "    </tr>\n",
       "    <tr>\n",
       "      <th>id</th>\n",
       "      <th></th>\n",
       "      <th></th>\n",
       "      <th></th>\n",
       "    </tr>\n",
       "  </thead>\n",
       "  <tbody>\n",
       "    <tr>\n",
       "      <th>NC_021487.1_1708</th>\n",
       "      <td>TAG</td>\n",
       "      <td>TGA</td>\n",
       "      <td>redoxin domain-containing protein</td>\n",
       "    </tr>\n",
       "    <tr>\n",
       "      <th>NZ_BBCC01000003.1_1</th>\n",
       "      <td>GAT</td>\n",
       "      <td>CGG</td>\n",
       "      <td>acyl-CoA dehydrogenase family protein</td>\n",
       "    </tr>\n",
       "    <tr>\n",
       "      <th>NZ_BBCC01000004.1_101</th>\n",
       "      <td>CCG</td>\n",
       "      <td>AGC</td>\n",
       "      <td>FAD-dependent oxidoreductase</td>\n",
       "    </tr>\n",
       "    <tr>\n",
       "      <th>NZ_BBCC01000019.1_48</th>\n",
       "      <td>GTG</td>\n",
       "      <td>GGT</td>\n",
       "      <td>hypothetical protein</td>\n",
       "    </tr>\n",
       "    <tr>\n",
       "      <th>NZ_BBCC01000020.1_1</th>\n",
       "      <td>GGC</td>\n",
       "      <td>CGG</td>\n",
       "      <td>FAD-dependent oxidoreductase</td>\n",
       "    </tr>\n",
       "    <tr>\n",
       "      <th>...</th>\n",
       "      <td>...</td>\n",
       "      <td>...</td>\n",
       "      <td>...</td>\n",
       "    </tr>\n",
       "    <tr>\n",
       "      <th>NZ_QQBG01000004.1_11</th>\n",
       "      <td>ATT</td>\n",
       "      <td>ACA</td>\n",
       "      <td>hypothetical protein</td>\n",
       "    </tr>\n",
       "    <tr>\n",
       "      <th>NZ_QQBG01000010.1_47</th>\n",
       "      <td>ATC</td>\n",
       "      <td>TAT</td>\n",
       "      <td>hypothetical protein</td>\n",
       "    </tr>\n",
       "    <tr>\n",
       "      <th>NZ_QQBG01000013.1_1</th>\n",
       "      <td>TCT</td>\n",
       "      <td>GTT</td>\n",
       "      <td>hypothetical protein</td>\n",
       "    </tr>\n",
       "    <tr>\n",
       "      <th>NZ_QQBG01000014.1_13</th>\n",
       "      <td>CTC</td>\n",
       "      <td>TCC</td>\n",
       "      <td>DUF3378 domain-containing protein</td>\n",
       "    </tr>\n",
       "    <tr>\n",
       "      <th>NZ_QQBG01000021.1_1</th>\n",
       "      <td>TCC</td>\n",
       "      <td>GCT</td>\n",
       "      <td>hypothetical protein</td>\n",
       "    </tr>\n",
       "  </tbody>\n",
       "</table>\n",
       "<p>2880 rows × 3 columns</p>\n",
       "</div>"
      ],
      "text/plain": [
       "                      ref_stop_codon stop_codon  \\\n",
       "id                                                \n",
       "NC_021487.1_1708                 TAG        TGA   \n",
       "NZ_BBCC01000003.1_1              GAT        CGG   \n",
       "NZ_BBCC01000004.1_101            CCG        AGC   \n",
       "NZ_BBCC01000019.1_48             GTG        GGT   \n",
       "NZ_BBCC01000020.1_1              GGC        CGG   \n",
       "...                              ...        ...   \n",
       "NZ_QQBG01000004.1_11             ATT        ACA   \n",
       "NZ_QQBG01000010.1_47             ATC        TAT   \n",
       "NZ_QQBG01000013.1_1              TCT        GTT   \n",
       "NZ_QQBG01000014.1_13             CTC        TCC   \n",
       "NZ_QQBG01000021.1_1              TCC        GCT   \n",
       "\n",
       "                                                 ref_product  \n",
       "id                                                            \n",
       "NC_021487.1_1708           redoxin domain-containing protein  \n",
       "NZ_BBCC01000003.1_1    acyl-CoA dehydrogenase family protein  \n",
       "NZ_BBCC01000004.1_101           FAD-dependent oxidoreductase  \n",
       "NZ_BBCC01000019.1_48                    hypothetical protein  \n",
       "NZ_BBCC01000020.1_1             FAD-dependent oxidoreductase  \n",
       "...                                                      ...  \n",
       "NZ_QQBG01000004.1_11                    hypothetical protein  \n",
       "NZ_QQBG01000010.1_47                    hypothetical protein  \n",
       "NZ_QQBG01000013.1_1                     hypothetical protein  \n",
       "NZ_QQBG01000014.1_13       DUF3378 domain-containing protein  \n",
       "NZ_QQBG01000021.1_1                     hypothetical protein  \n",
       "\n",
       "[2880 rows x 3 columns]"
      ]
     },
     "execution_count": 39,
     "metadata": {},
     "output_type": "execute_result"
    }
   ],
   "source": [
    "ref_df[ref_df.c_trunc][['ref_stop_codon', 'stop_codon', 'ref_product']]"
   ]
  },
  {
   "cell_type": "code",
   "execution_count": 51,
   "metadata": {},
   "outputs": [
    {
     "data": {
      "image/png": "[encoded data removed]",
      "text/plain": [
       "<Figure size 600x300 with 1 Axes>"
      ]
     },
     "metadata": {},
     "output_type": "display_data"
    }
   ],
   "source": [
    "# Maybe plot some kind of confusion matrix thing showing the frequency of different boundary errors. \n",
    "# The current state of the reference genome search does not detect cases where there is both a truncation and extension. \n",
    "\n",
    "# row_labels = ['N-term. ext.', 'N-term. trunc.']\n",
    "# col_labels = ['C-term ext.', 'C-term trunc.']\n",
    "\n",
    "# matrix = np.zeros((2, 2))\n",
    "# matrix[0][0] = (ref_df.n_ext & ref_df.c_ext).sum()\n",
    "# matrix[0][1] = (ref_df.n_ext & ref_df.c_trunc).sum()\n",
    "# matrix[1][0] = (ref_df.n_trunc & ref_df.c_ext).sum()\n",
    "# matrix[1][1] = (ref_df.n_trunc & ref_df.c_trunc).sum()\n",
    "# matrix = pd.DataFrame(matrix, index=row_labels, columns=col_labels)\n",
    "# matrix = matrix.astype(int)\n",
    "\n",
    "fig, ax = plt.subplots(figsize=(6, 3))\n",
    "\n",
    "labels = ['N-term. ext.', 'N-term. trunc.', 'C-term ext.', 'C-term trunc.'] \n",
    "heights = [ref_df.n_ext.sum(), ref_df.n_trunc.sum(), ref_df.c_ext.sum(), ref_df.c_trunc.sum()]\n",
    "ax.bar(np.arange(len(heights)), heights, edgecolor='black')\n",
    "ax.set_title('Prodigal error modes')\n",
    "ax.set_ylabel('count')\n",
    "ax.set_xticks(np.arange(len(heights)), labels=labels)\n",
    "\n",
    "plt.show()"
   ]
  },
  {
   "cell_type": "code",
   "execution_count": null,
   "metadata": {},
   "outputs": [],
   "source": []
  }
 ],
 "metadata": {
  "kernelspec": {
   "display_name": "tripy",
   "language": "python",
   "name": "python3"
  },
  "language_info": {
   "codemirror_mode": {
    "name": "ipython",
    "version": 3
   },
   "file_extension": ".py",
   "mimetype": "text/x-python",
   "name": "python",
   "nbconvert_exporter": "python",
   "pygments_lexer": "ipython3",
   "version": "3.13.1"
  }
 },
 "nbformat": 4,
 "nbformat_minor": 2
}
