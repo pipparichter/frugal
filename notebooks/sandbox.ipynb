{
 "cells": [
  {
   "cell_type": "code",
   "execution_count": 1,
   "metadata": {},
   "outputs": [],
   "source": [
    "from src.tools import MMseqs\n",
    "import pandas as pd\n",
    "import numpy as np\n",
    "from src.files import XMLFile\n",
    "\n",
    "%load_ext autoreload \n",
    "%autoreload 2"
   ]
  },
  {
   "cell_type": "code",
   "execution_count": 19,
   "metadata": {},
   "outputs": [],
   "source": [
    "df = pd.read_csv('../data/sprot.csv', low_memory=False, index_col=0)\n",
    "df = df[df.domain == 'Bacteria']\n",
    "df = df[df.non_terminal_residue.isnull()]"
   ]
  },
  {
   "cell_type": "code",
   "execution_count": 25,
   "metadata": {},
   "outputs": [],
   "source": [
    "mmseqs = MMseqs()\n",
    "df = mmseqs.cluster(df, job_name='sprot_95', sequence_identity=0.95, reps_only=True, overwrite=False)\n",
    "df = mmseqs.cluster(df, job_name='sprot_20', sequence_identity=0.2, reps_only=False, overwrite=False)\n",
    "mmseqs.cleanup()\n"
   ]
  },
  {
   "cell_type": "code",
   "execution_count": 26,
   "metadata": {},
   "outputs": [
    {
     "data": {
      "text/plain": [
       "191078"
      ]
     },
     "execution_count": 26,
     "metadata": {},
     "output_type": "execute_result"
    }
   ],
   "source": [
    "len(df)"
   ]
  },
  {
   "cell_type": "code",
   "execution_count": 36,
   "metadata": {},
   "outputs": [
    {
     "data": {
      "text/plain": [
       "start_aa\n",
       "M    190802\n",
       "A       104\n",
       "G        21\n",
       "S        21\n",
       "E        20\n",
       "Q        18\n",
       "T        14\n",
       "K        10\n",
       "V         9\n",
       "I         9\n",
       "Y         8\n",
       "D         8\n",
       "L         7\n",
       "N         7\n",
       "C         6\n",
       "P         5\n",
       "F         5\n",
       "X         2\n",
       "R         1\n",
       "H         1\n",
       "Name: count, dtype: int64"
      ]
     },
     "execution_count": 36,
     "metadata": {},
     "output_type": "execute_result"
    }
   ],
   "source": [
    "# Want to look at start codon frequencies across the SwissProt sequences. \n",
    "\n",
    "def table_1(df:pd.DataFrame, path:str=None):\n",
    "    df['start_aa'] = [seq[0] for seq in df.seq]\n",
    "    # return df[df.start_aa != 'M']\n",
    "    return df\n",
    "\n",
    "x = table_1(df.copy())\n",
    "x[x.start_aa == 'T']\n",
    "\n",
    "x.start_aa.value_counts()"
   ]
  },
  {
   "cell_type": "code",
   "execution_count": null,
   "metadata": {},
   "outputs": [],
   "source": []
  }
 ],
 "metadata": {
  "kernelspec": {
   "display_name": "tripy",
   "language": "python",
   "name": "python3"
  },
  "language_info": {
   "codemirror_mode": {
    "name": "ipython",
    "version": 3
   },
   "file_extension": ".py",
   "mimetype": "text/x-python",
   "name": "python",
   "nbconvert_exporter": "python",
   "pygments_lexer": "ipython3",
   "version": "3.13.1"
  }
 },
 "nbformat": 4,
 "nbformat_minor": 2
}
