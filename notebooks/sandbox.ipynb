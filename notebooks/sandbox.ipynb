{
 "cells": [
  {
   "cell_type": "code",
   "execution_count": 1,
   "metadata": {},
   "outputs": [],
   "source": [
    "from src.reference import Reference\n",
    "import numpy as np \n",
    "import pandas as pd\n",
    "import matplotlib.pyplot as plt\n",
    "import seaborn as sns\n",
    "from src.tools import MMSeqs\n",
    "import requests\n",
    "import re\n",
    "from tqdm import tqdm\n",
    "import os\n",
    "\n",
    "%load_ext autoreload \n",
    "%autoreload 2\n"
   ]
  },
  {
   "cell_type": "code",
   "execution_count": 6,
   "metadata": {},
   "outputs": [
    {
     "data": {
      "text/plain": [
       "['NC_002663']"
      ]
     },
     "execution_count": 6,
     "metadata": {},
     "output_type": "execute_result"
    }
   ],
   "source": [
    "reference = Reference('/home/prichter/Downloads/gbffs/GCF_000006825.1_genomic.gbff', load_contigs=True)\n",
    "reference.get_contig_ids()"
   ]
  },
  {
   "cell_type": "code",
   "execution_count": 9,
   "metadata": {},
   "outputs": [
    {
     "data": {
      "text/plain": [
       "'ATGCGTAATGTGAAAAAAGCATTGTCAAGATCTGTTATTGCTAGTAGTATTCAAGGTACTACTAAAACCAACGGCGGACACCGCAGCCGTCACTCAAGCGGTATTTTTTTACCTCAAATTTACCTTTCAAAAGGAAATGGGGCATATCCCCACACCTTTCAAAAAGCCGAATTTGTGGCAAGGGCGACACTCCGAAATAAGGCGCATTTGCGCACGAATAAGGGGGGCTTTCATCCGTTGGTGGTAGTAGTTGAACCCTTGTCACGCCTACTAAGCGTTGGCAAGTTTTTACAAAACAAACCAACGGAAAAAATCAAAATGAAAACCAGTCAAAAATCCACCGCACTTTTAGCGGTTCGTTCACGCACACCTATTGTTTTTGCTCCTGCTATGGAGGTGACTTATGCGTAA'"
      ]
     },
     "execution_count": 9,
     "metadata": {},
     "output_type": "execute_result"
    }
   ],
   "source": [
    "reference.get_nt_seq(contig_id='NC_002663', start=2003130 - 1, stop=2003540) # complement(1268411..1268656) 2003130..2003540"
   ]
  },
  {
   "cell_type": "code",
   "execution_count": 13,
   "metadata": {},
   "outputs": [
    {
     "name": "stdout",
     "output_type": "stream",
     "text": [
      "[ 0  1  2  3  4  5  6  7  8  9 10 11 12 13 14 15 16 17 18 19 20 21 22 23\n",
      " 24 25 26 27 28 29]\n",
      "[0 1 2 3 4 5 6 7]\n",
      "[0 1 2 3]\n"
     ]
    }
   ],
   "source": [
    "arr = [[np.arange(10), np.arange(5), np.arange(2)]]\n",
    "arr = [[np.arange(30), np.arange(8), np.arange(4)]]\n",
    "for x in zip(*arr):\n",
    "    print(np.concatenate(x))"
   ]
  },
  {
   "cell_type": "code",
   "execution_count": null,
   "metadata": {},
   "outputs": [],
   "source": []
  }
 ],
 "metadata": {
  "kernelspec": {
   "display_name": "frugal",
   "language": "python",
   "name": "python3"
  },
  "language_info": {
   "codemirror_mode": {
    "name": "ipython",
    "version": 3
   },
   "file_extension": ".py",
   "mimetype": "text/x-python",
   "name": "python",
   "nbconvert_exporter": "python",
   "pygments_lexer": "ipython3",
   "version": "3.13.2"
  }
 },
 "nbformat": 4,
 "nbformat_minor": 2
}
