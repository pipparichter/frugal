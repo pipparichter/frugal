{
 "cells": [
  {
   "cell_type": "code",
   "execution_count": 2,
   "metadata": {},
   "outputs": [],
   "source": [
    "import pandas as pd \n",
    "import numpy as np \n",
    "from utils import * \n",
    "import seaborn as sns \n",
    "import matplotlib.pyplot as plt\n",
    "from matplotlib.gridspec import GridSpec\n",
    "from src.files import FASTAFile, InterProScanFile\n",
    "from src import fillna\n",
    "from src.reference import compare, Reference\n",
    "from src.tools import download, Prodigal\n",
    "\n",
    "%load_ext autoreload \n",
    "%autoreload 2\n",
    "\n",
    "# TODO: Did Prodigal find ribosome binding sites for the spurious sequences?\n",
    "# TODO: How frequently do Shine-Delgarno sequences occur when they are not associated with a protein?\n",
    "# TODO: I am operating under the assumption that the model is underpredicting spurious sequences in Campylobacterota,\n",
    "#   but is this true? Maybe get a better sense using genomes with a more solid ground truth. "
   ]
  },
  {
   "cell_type": "code",
   "execution_count": null,
   "metadata": {},
   "outputs": [],
   "source": [
    "# How should I select the genomes for model training?\n",
    "genome_ids = ['GCF_000005845.2'] # E. coli K-12\n",
    "genome_ids += ['GCF_000009045.1'] # B. subtilis\n",
    "genome_ids += ['GCF_000006765.1'] # P. aeruginosa\n",
    "genome_ids += ['GCF_000195955.2'] # M. tuberculosis\n",
    "\n",
    "names = dict()\n",
    "names['GCF_000005845.2'] = 'E. coli K-12'\n",
    "names['GCF_000009045.1'] = 'B. subtilis 168'\n",
    "names['GCF_000006765.1'] = 'P. aeruginosa'\n",
    "names['GCF_000195955.2'] = 'M. tuberculosis'\n",
    "\n",
    "# ncbi = download.NCBI()\n",
    "# ncbi.get_genomes(genome_ids, include=['gbff', 'genome', 'protein'], dirs={'genome':'../data/ncbi/genomes', 'gbff':'../data/ncbi/gbffs', 'protein':'../data/ncbi/proteins'})\n",
    "# ncbi.cleanup()\n",
    "\n",
    "# prodigal = Prodigal()\n",
    "# for genome_id in genome_ids:\n",
    "#     prodigal.run(f'../data/ncbi/genomes/{genome_id}_genomic.fna', f'../data/prodigal/{genome_id}_protein.faa')\n",
    "\n",
    "# query_paths = [f'../data/prodigal/{genome_id}_protein.faa' for genome_id in genome_ids]\n",
    "# reference_paths = [f'../data/ncbi/gbffs/{genome_id}_genomic.gbff' for genome_id in genome_ids]\n",
    "# for query_path, reference_path in zip(query_paths, reference_paths):\n",
    "#     compare(query_path, reference_path, overwrite=True)\n",
    "\n",
    "# Model seems to be doing a very poor job of generalizing to organisms in different phyla. "
   ]
  },
  {
   "cell_type": "code",
   "execution_count": 32,
   "metadata": {},
   "outputs": [],
   "source": [
    "def apply_threshold(results_df:pd.DataFrame, threshold:float=0.5):\n",
    "    results_df = results_df[(results_df.model_output_0 > threshold) | (results_df.model_output_1 > threshold)].copy()\n",
    "    return results_df"
   ]
  },
  {
   "cell_type": "code",
   "execution_count": null,
   "metadata": {},
   "outputs": [],
   "source": [
    "def fix_b_subtilis(path:str='../data/compare/GCF_000009045.1_top_hits.csv'):\n",
    "    df = pd.read_csv(path, index_col=0, dtype={'top_hit_partial':str, 'top_hit_translation_table':str, 'top_hit_codon_start':str})\n",
    "    evidence_types = []\n",
    "    for row in df.itertuples():\n",
    "        if ('Evidence 1' in row.top_hit_note) or ('Evidence 2' in row.top_hit_note):\n",
    "            evidence_types.append('experiment')\n",
    "        elif ('Evidence 4' in row.top_hit_note) or ('Evidence 3' in row.top_hit_note):\n",
    "            evidence_types.append('similar to sequence')\n",
    "        elif (row.n_hits > 0):\n",
    "            evidence_types.append('ab initio prediction')\n",
    "        else:\n",
    "            evidence_types.append('none')\n",
    "    df['top_hit_evidence_type'] = evidence_types\n",
    "    df.to_csv(path)\n"
   ]
  },
  {
   "cell_type": "code",
   "execution_count": 22,
   "metadata": {},
   "outputs": [],
   "source": [
    "model_name = 'campylobacterota_v3'\n",
    "\n",
    "ncbi_results_df = pd.read_csv('../data/results/model_organisms_ncbi_predict.csv', index_col=0)\n",
    "ncbi_results_df = ncbi_results_df.merge(pd.read_csv('../data/model_organisms_ncbi.csv', index_col=0), left_index=True, right_index=True)\n",
    "ncbi_results_df = ncbi_results_df.rename(columns={col:col.replace(model_name, 'model') for col in ncbi_results_df.columns})\n",
    "ncbi_results_df['name'] = ncbi_results_df.genome_id.map(names)\n",
    "\n",
    "prodigal_results_df = pd.read_csv('../data/results/model_organisms_prodigal_predict.csv', index_col=0)\n",
    "prodigal_results_df = prodigal_results_df.merge(pd.read_csv('../data/model_organisms_prodigal.csv', index_col=0), left_index=True, right_index=True)\n",
    "prodigal_results_df = prodigal_results_df.rename(columns={col:col.replace(model_name, 'model') for col in prodigal_results_df.columns})\n",
    "prodigal_results_df['name'] = prodigal_results_df.genome_id.map(names)"
   ]
  },
  {
   "cell_type": "code",
   "execution_count": 33,
   "metadata": {},
   "outputs": [
    {
     "name": "stdout",
     "output_type": "stream",
     "text": [
      "table_1: 30 sequences align to a suspect protein in the reference.\n"
     ]
    },
    {
     "data": {
      "text/html": [
       "<div>\n",
       "<style scoped>\n",
       "    .dataframe tbody tr th:only-of-type {\n",
       "        vertical-align: middle;\n",
       "    }\n",
       "\n",
       "    .dataframe tbody tr th {\n",
       "        vertical-align: top;\n",
       "    }\n",
       "\n",
       "    .dataframe thead th {\n",
       "        text-align: right;\n",
       "    }\n",
       "</style>\n",
       "<table border=\"1\" class=\"dataframe\">\n",
       "  <thead>\n",
       "    <tr style=\"text-align: right;\">\n",
       "      <th></th>\n",
       "      <th>n_spurious</th>\n",
       "      <th>p_spurious</th>\n",
       "      <th>n_real</th>\n",
       "      <th>p_real</th>\n",
       "    </tr>\n",
       "  </thead>\n",
       "  <tbody>\n",
       "    <tr>\n",
       "      <th>intergenic</th>\n",
       "      <td>189</td>\n",
       "      <td>44.37%</td>\n",
       "      <td>70</td>\n",
       "      <td>16.43%</td>\n",
       "    </tr>\n",
       "    <tr>\n",
       "      <th>match</th>\n",
       "      <td>2699</td>\n",
       "      <td>15.37%</td>\n",
       "      <td>6466</td>\n",
       "      <td>36.83%</td>\n",
       "    </tr>\n",
       "    <tr>\n",
       "      <th>conflict</th>\n",
       "      <td>154</td>\n",
       "      <td>67.54%</td>\n",
       "      <td>11</td>\n",
       "      <td>4.82%</td>\n",
       "    </tr>\n",
       "    <tr>\n",
       "      <th>pseudogene</th>\n",
       "      <td>6</td>\n",
       "      <td>9.84%</td>\n",
       "      <td>27</td>\n",
       "      <td>44.26%</td>\n",
       "    </tr>\n",
       "  </tbody>\n",
       "</table>\n",
       "</div>"
      ],
      "text/plain": [
       "            n_spurious p_spurious  n_real  p_real\n",
       "intergenic         189     44.37%      70  16.43%\n",
       "match             2699     15.37%    6466  36.83%\n",
       "conflict           154     67.54%      11   4.82%\n",
       "pseudogene           6      9.84%      27  44.26%"
      ]
     },
     "execution_count": 33,
     "metadata": {},
     "output_type": "execute_result"
    }
   ],
   "source": [
    "def table_1(results_df:pd.DataFrame, threshold:float=0.99, path:str=None):\n",
    "\n",
    "    totals = results_df.groupby('category').apply(len, include_groups=False)\n",
    "    results_df = apply_threshold(results_df.copy(), threshold=threshold)\n",
    "    \n",
    "    is_suspect = lambda df : (df['top_hit_product'] == 'hypothetical protein') & (df.top_hit_evidence_type == 'ab initio prediction')\n",
    "    mask = is_suspect(results_df)\n",
    "    print(f'table_1: {mask.sum()} sequences align to a suspect protein in the reference.')\n",
    "    results_df = results_df[~mask].copy()\n",
    "\n",
    "    table_df = pd.DataFrame(index=results_df.category.unique())\n",
    "    table_df['n_spurious'] = results_df.groupby('category').apply(lambda df : (df.model_label == 0).sum(), include_groups=False)\n",
    "    table_df['p_spurious'] = [f'{p * 100:.2f}%' for p in table_df.n_spurious / totals.loc[table_df.index]]\n",
    "    table_df['n_real'] = results_df.groupby('category').apply(lambda df : (df.model_label == 1).sum(), include_groups=False)\n",
    "    table_df['p_real'] = [f'{p * 100:.2f}%' for p in table_df.n_real / totals.loc[table_df.index]]\n",
    "\n",
    "    return table_df\n",
    "\n",
    "table_1(prodigal_results_df, threshold=0.99)"
   ]
  },
  {
   "cell_type": "code",
   "execution_count": 23,
   "metadata": {},
   "outputs": [
    {
     "data": {
      "text/plain": [
       "name\n",
       "B. subtilis 168      48\n",
       "E. coli K-12        133\n",
       "M. tuberculosis    2269\n",
       "P. aeruginosa       606\n",
       "dtype: int64"
      ]
     },
     "execution_count": 23,
     "metadata": {},
     "output_type": "execute_result"
    }
   ],
   "source": [
    "\n",
    "prodigal_results_df.groupby('name').apply(lambda df : (df.model_output_0 > 0.99).sum(), include_groups=False)"
   ]
  },
  {
   "cell_type": "code",
   "execution_count": 28,
   "metadata": {},
   "outputs": [
    {
     "data": {
      "text/plain": [
       "category\n",
       "match         74\n",
       "conflict      37\n",
       "intergenic    22\n",
       "Name: count, dtype: int64"
      ]
     },
     "execution_count": 28,
     "metadata": {},
     "output_type": "execute_result"
    }
   ],
   "source": [
    "prodigal_results_df[(prodigal_results_df.name == 'E. coli K-12') & (prodigal_results_df.model_output_0 > 0.99)].category.value_counts()"
   ]
  },
  {
   "cell_type": "code",
   "execution_count": 30,
   "metadata": {},
   "outputs": [
    {
     "data": {
      "text/plain": [
       "name             category  \n",
       "B. subtilis 168  match         4119\n",
       "                 pseudogene      35\n",
       "                 intergenic      34\n",
       "                 conflict        24\n",
       "E. coli K-12     match         4117\n",
       "                 intergenic     119\n",
       "                 conflict        65\n",
       "                 pseudogene      17\n",
       "M. tuberculosis  match         3776\n",
       "                 intergenic     159\n",
       "                 conflict       128\n",
       "                 pseudogene       9\n",
       "P. aeruginosa    match         5544\n",
       "                 intergenic     114\n",
       "                 conflict        11\n",
       "Name: count, dtype: int64"
      ]
     },
     "execution_count": 30,
     "metadata": {},
     "output_type": "execute_result"
    }
   ],
   "source": [
    "prodigal_results_df.groupby('name').category.value_counts()"
   ]
  },
  {
   "cell_type": "code",
   "execution_count": null,
   "metadata": {},
   "outputs": [],
   "source": []
  }
 ],
 "metadata": {
  "kernelspec": {
   "display_name": "frugal",
   "language": "python",
   "name": "python3"
  },
  "language_info": {
   "codemirror_mode": {
    "name": "ipython",
    "version": 3
   },
   "file_extension": ".py",
   "mimetype": "text/x-python",
   "name": "python",
   "nbconvert_exporter": "python",
   "pygments_lexer": "ipython3",
   "version": "3.13.2"
  }
 },
 "nbformat": 4,
 "nbformat_minor": 2
}
