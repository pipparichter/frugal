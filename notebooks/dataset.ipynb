{
 "cells": [
  {
   "cell_type": "code",
   "execution_count": 1,
   "metadata": {},
   "outputs": [],
   "source": [
    "import pandas as pd \n",
    "import numpy as np \n",
    "from Bio import SeqIO\n",
    "from src.tools import NCBIDatasets\n",
    "\n",
    "%load_ext autoreload\n",
    "%autoreload 2"
   ]
  },
  {
   "cell_type": "code",
   "execution_count": 2,
   "metadata": {},
   "outputs": [],
   "source": [
    "# Changing my training dataset strategy. Instead going to use the sequences directly from NCBI. \n",
    "genome_metadata_df = pd.read_csv('../data/genome_metadata.csv', index_col=0)\n",
    "genome_ids = genome_metadata_df[genome_metadata_df.phylum == 'Campylobacterota'].index.values \n"
   ]
  },
  {
   "cell_type": "code",
   "execution_count": 6,
   "metadata": {},
   "outputs": [
    {
     "name": "stderr",
     "output_type": "stream",
     "text": [
      "NCBIDatasets._get_genome: Downloading data for GCF_900197775.1.: 100%|██████████| 197/197 [00:00<00:00, 2492.14it/s]\n"
     ]
    }
   ],
   "source": [
    "ncbi = NCBIDatasets()\n",
    "ncbi.run(genome_ids=genome_ids, metadata=False, include=['protein'], dirs={'protein':'../data/ncbi/proteins'})\n",
    "ncbi.cleanup()"
   ]
  },
  {
   "cell_type": "code",
   "execution_count": null,
   "metadata": {},
   "outputs": [],
   "source": []
  }
 ],
 "metadata": {
  "kernelspec": {
   "display_name": "frugal",
   "language": "python",
   "name": "python3"
  },
  "language_info": {
   "codemirror_mode": {
    "name": "ipython",
    "version": 3
   },
   "file_extension": ".py",
   "mimetype": "text/x-python",
   "name": "python",
   "nbconvert_exporter": "python",
   "pygments_lexer": "ipython3",
   "version": "3.13.2"
  }
 },
 "nbformat": 4,
 "nbformat_minor": 2
}
